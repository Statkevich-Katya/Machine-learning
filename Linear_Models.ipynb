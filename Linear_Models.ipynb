{
  "cells": [
    {
      "cell_type": "markdown",
      "metadata": {
        "id": "nnZq1QL6-QQS"
      },
      "source": [
        "## Лабораторная работа 4. Линейные модели"
      ]
    },
    {
      "cell_type": "markdown",
      "metadata": {
        "id": "irl4gETE-QQU"
      },
      "source": [
        "Некоторые задачи в этом ноутбуке надо будет сдавать в [контест](https://contest.yandex.ru/contest/40818/enter). Когда сдаете туда код, не забудьте сверху прописать все нужные импорты."
      ]
    },
    {
      "cell_type": "markdown",
      "metadata": {
        "id": "DrLxWL31-QQU"
      },
      "source": [
        "Мы рассчитываем, что перед тем, как садиться за этот ноутбук, вы прослушали лекции про МНК, регрессию и регуляризацию или прочитали часть про регрессию главы \"Линейные модели\" ШАДовского учебника по ML."
      ]
    },
    {
      "cell_type": "markdown",
      "metadata": {
        "id": "PExIHfFZ-QQV"
      },
      "source": [
        "Начнём с загрузки необходимых библиотек и функций.\n",
        "\n",
        "Параметр `seed` будет использоваться далее для инициализации генератора случайных чисел из библиотеки `numpy`."
      ]
    },
    {
      "cell_type": "code",
      "execution_count": null,
      "metadata": {
        "pycharm": {
          "name": "#%%\n"
        },
        "id": "tnxQcYBS-QQV"
      },
      "outputs": [],
      "source": [
        "import numpy as np\n",
        "import pandas as pd\n",
        "from typing import Optional, List\n",
        "from sklearn.pipeline import Pipeline\n",
        "from sklearn.base import TransformerMixin, RegressorMixin\n",
        "from sklearn.linear_model import LinearRegression\n",
        "from sklearn.linear_model import Ridge, Lasso, ElasticNet\n",
        "from sklearn import metrics\n",
        "import matplotlib.pyplot as plt\n",
        "from sklearn.preprocessing import StandardScaler, OneHotEncoder\n",
        "\n",
        "\n",
        "from sklearn.model_selection import train_test_split,\\\n",
        "                                    GroupKFold,\\\n",
        "                                    LeaveOneOut,\\\n",
        "                                    ShuffleSplit,\\\n",
        "                                    KFold,\\\n",
        "                                    GroupShuffleSplit,\\\n",
        "                                    GridSearchCV,\\\n",
        "                                    cross_val_score\n",
        "import sklearn.base\n",
        "\n",
        "seed = 24"
      ]
    },
    {
      "cell_type": "markdown",
      "metadata": {
        "id": "FAZ1R3Ou-QQW"
      },
      "source": [
        "В этом ноутбуке мы будем практиковаться на датасете [\"The Ames Iowa Housing Data\"](https://www.openml.org/d/41211). Здесь собраны описания и цены жилья в городе Эймс, штат Айова. Мы будем решать задачу предсказания цены (`Sale_Price`) по всем остальным признакам.\n",
        "\n",
        "И начнём мы, конечно, с того, что внимательно посмотрим на датасет: какие там есть объекты и какие признаки."
      ]
    },
    {
      "cell_type": "code",
      "execution_count": null,
      "metadata": {
        "pycharm": {
          "name": "#%%\n"
        },
        "id": "v1h-ZZ2Y-QQX"
      },
      "outputs": [],
      "source": [
        "## Uncomment the line below to download data and install necessary packages\n",
        "## Maybe won't work on Windows :(\n",
        "!pip install numpy pandas sklearn matplotlib\n",
        "!curl https://api.openml.org/data/get_csv/20649135/file2ed11cebe25.arff > data.csv"
      ]
    },
    {
      "cell_type": "code",
      "execution_count": null,
      "metadata": {
        "pycharm": {
          "name": "#%%\n"
        },
        "id": "bK-5oKu8-QQX",
        "colab": {
          "base_uri": "https://localhost:8080/",
          "height": 762
        },
        "outputId": "5a273840-67ee-41ba-9283-4cbf06fb3fe9"
      },
      "outputs": [
        {
          "output_type": "execute_result",
          "data": {
            "text/plain": [
              "                                    MS_SubClass                     MS_Zoning  \\\n",
              "996                    Two_Story_1946_and_Newer       Residential_Low_Density   \n",
              "776         One_Story_1946_and_Newer_All_Styles       Residential_Low_Density   \n",
              "1803        One_Story_1946_and_Newer_All_Styles  Floating_Village_Residential   \n",
              "2737                Two_and_Half_Story_All_Ages       Residential_Low_Density   \n",
              "2359        One_Story_1946_and_Newer_All_Styles       Residential_Low_Density   \n",
              "633         One_Story_1946_and_Newer_All_Styles       Residential_Low_Density   \n",
              "2231       One_and_Half_Story_Finished_All_Ages    Residential_Medium_Density   \n",
              "920                    Two_Story_1945_and_Older       Residential_Low_Density   \n",
              "137         One_Story_1946_and_Newer_All_Styles       Residential_Low_Density   \n",
              "1571               One_Story_PUD_1946_and_Newer       Residential_Low_Density   \n",
              "2422               One_Story_PUD_1946_and_Newer       Residential_Low_Density   \n",
              "1230        One_Story_1946_and_Newer_All_Styles       Residential_Low_Density   \n",
              "2702                   One_Story_1945_and_Older       Residential_Low_Density   \n",
              "488                    Two_Story_1946_and_Newer       Residential_Low_Density   \n",
              "2154        One_Story_1946_and_Newer_All_Styles       Residential_Low_Density   \n",
              "749                    Two_Story_1945_and_Older    Residential_Medium_Density   \n",
              "561         One_Story_1946_and_Newer_All_Styles       Residential_Low_Density   \n",
              "1259  Two_Family_conversion_All_Styles_and_Ages       Residential_Low_Density   \n",
              "10                     Two_Story_1946_and_Newer       Residential_Low_Density   \n",
              "449                    Two_Story_1946_and_Newer       Residential_Low_Density   \n",
              "\n",
              "      Lot_Frontage  Lot_Area Street            Alley             Lot_Shape  \\\n",
              "996              0     15038   Pave  No_Alley_Access  Moderately_Irregular   \n",
              "776              0     11616   Pave  No_Alley_Access               Regular   \n",
              "1803           100     11824   Pave  No_Alley_Access    Slightly_Irregular   \n",
              "2737            60     19800   Pave  No_Alley_Access               Regular   \n",
              "2359             0     15870   Pave  No_Alley_Access    Slightly_Irregular   \n",
              "633             66      9240   Pave  No_Alley_Access    Slightly_Irregular   \n",
              "2231            85      8500   Pave  No_Alley_Access               Regular   \n",
              "920              0      7500   Pave  No_Alley_Access    Slightly_Irregular   \n",
              "137            137     16492   Pave  No_Alley_Access    Slightly_Irregular   \n",
              "1571            42      4084   Pave  No_Alley_Access    Slightly_Irregular   \n",
              "2422             0      2938   Pave  No_Alley_Access               Regular   \n",
              "1230            75      7875   Pave  No_Alley_Access               Regular   \n",
              "2702            55      8250   Pave  No_Alley_Access               Regular   \n",
              "488             42      8433   Pave  No_Alley_Access    Slightly_Irregular   \n",
              "2154            90     11248   Pave  No_Alley_Access    Slightly_Irregular   \n",
              "749             57      8094   Pave           Gravel               Regular   \n",
              "561             60      8281   Pave  No_Alley_Access    Slightly_Irregular   \n",
              "1259            60     10800   Pave           Gravel               Regular   \n",
              "10              75     10000   Pave  No_Alley_Access    Slightly_Irregular   \n",
              "449             96     13262   Pave  No_Alley_Access    Slightly_Irregular   \n",
              "\n",
              "     Land_Contour Utilities Lot_Config  ...      Fence Misc_Feature Misc_Val  \\\n",
              "996           Lvl    AllPub     Corner  ...   No_Fence         None        0   \n",
              "776           Lvl    AllPub     Inside  ...   No_Fence         None        0   \n",
              "1803          Lvl    AllPub     Corner  ...   No_Fence         None        0   \n",
              "2737          Lvl    AllPub     Inside  ...   No_Fence         None        0   \n",
              "2359          Lvl    AllPub     Corner  ...   No_Fence         None        0   \n",
              "633           Lvl    AllPub     Inside  ...   No_Fence         None        0   \n",
              "2231          Lvl    AllPub     Corner  ...   No_Fence         None        0   \n",
              "920           Bnk    AllPub     Inside  ...   No_Fence         None        0   \n",
              "137           Lvl    AllPub     Corner  ...   No_Fence         None        0   \n",
              "1571          Lvl    AllPub     Inside  ...   No_Fence         None        0   \n",
              "2422          Lvl    AllPub     Inside  ...   No_Fence         None        0   \n",
              "1230          Lvl    AllPub     Inside  ...  Good_Wood         None        0   \n",
              "2702          Lvl    AllPub     Inside  ...   No_Fence         None        0   \n",
              "488           Lvl    AllPub     Inside  ...   No_Fence         None        0   \n",
              "2154          Lvl    AllPub     Corner  ...   No_Fence         None        0   \n",
              "749           Lvl    AllPub     Inside  ...   No_Fence         None        0   \n",
              "561           Lvl    AllPub     Inside  ...  Good_Wood         None        0   \n",
              "1259          Lvl    AllPub     Inside  ...   No_Fence         None        0   \n",
              "10            Lvl    AllPub     Corner  ...   No_Fence         None        0   \n",
              "449           Lvl    AllPub     Inside  ...   No_Fence         None        0   \n",
              "\n",
              "     Mo_Sold Year_Sold Sale_Type Sale_Condition Sale_Price  Longitude  \\\n",
              "996       11      2008       WD          Normal     173000 -93.637482   \n",
              "776        9      2009       WD          Normal     139000 -93.666432   \n",
              "1803       4      2007       WD          Normal     253000 -93.642046   \n",
              "2737      12      2006       WD          Normal     415000 -93.660664   \n",
              "2359       3      2006       WD         Abnorml     138800 -93.626260   \n",
              "633        6      2009       WD          Normal     149500 -93.616434   \n",
              "2231       8      2007       WD          Normal     115000 -93.628412   \n",
              "920       11      2009       WD          Normal     177500 -93.639700   \n",
              "137        6      2010       WD          Normal     190000 -93.614244   \n",
              "1571       7      2008       WD          Normal     241500 -93.639793   \n",
              "2422       5      2006       WD          Normal     246990 -93.640227   \n",
              "1230       9      2008       WD          Normal     139950 -93.617860   \n",
              "2702       6      2006       WD          Normal     125000 -93.660040   \n",
              "488        6      2009       WD          Normal     190000 -93.641313   \n",
              "2154       7      2007       WD          Normal     285000 -93.679805   \n",
              "749        6      2009       WD          Normal     155000 -93.621525   \n",
              "561       12      2009       WD          Normal      62383 -93.669707   \n",
              "1259       8      2008       WD          Normal     106250 -93.612253   \n",
              "10         4      2010       WD          Normal     175900 -93.636947   \n",
              "449        6      2009       WD          Normal     290000 -93.654519   \n",
              "\n",
              "       Latitude  \n",
              "996   42.060369  \n",
              "776   42.033427  \n",
              "1803  42.052267  \n",
              "2737  42.028191  \n",
              "2359  42.055131  \n",
              "633   42.044083  \n",
              "2231  42.022836  \n",
              "920   42.019181  \n",
              "137   42.047447  \n",
              "1571  42.005140  \n",
              "2422  42.063185  \n",
              "1230  42.047086  \n",
              "2702  42.027796  \n",
              "488   42.057834  \n",
              "2154  42.018017  \n",
              "749   42.028948  \n",
              "561   42.034602  \n",
              "1259  42.035222  \n",
              "10    42.058480  \n",
              "449   42.058886  \n",
              "\n",
              "[20 rows x 81 columns]"
            ],
            "text/html": [
              "\n",
              "  <div id=\"df-9de2cc7b-789c-4277-bbc1-e42256d12ae9\">\n",
              "    <div class=\"colab-df-container\">\n",
              "      <div>\n",
              "<style scoped>\n",
              "    .dataframe tbody tr th:only-of-type {\n",
              "        vertical-align: middle;\n",
              "    }\n",
              "\n",
              "    .dataframe tbody tr th {\n",
              "        vertical-align: top;\n",
              "    }\n",
              "\n",
              "    .dataframe thead th {\n",
              "        text-align: right;\n",
              "    }\n",
              "</style>\n",
              "<table border=\"1\" class=\"dataframe\">\n",
              "  <thead>\n",
              "    <tr style=\"text-align: right;\">\n",
              "      <th></th>\n",
              "      <th>MS_SubClass</th>\n",
              "      <th>MS_Zoning</th>\n",
              "      <th>Lot_Frontage</th>\n",
              "      <th>Lot_Area</th>\n",
              "      <th>Street</th>\n",
              "      <th>Alley</th>\n",
              "      <th>Lot_Shape</th>\n",
              "      <th>Land_Contour</th>\n",
              "      <th>Utilities</th>\n",
              "      <th>Lot_Config</th>\n",
              "      <th>...</th>\n",
              "      <th>Fence</th>\n",
              "      <th>Misc_Feature</th>\n",
              "      <th>Misc_Val</th>\n",
              "      <th>Mo_Sold</th>\n",
              "      <th>Year_Sold</th>\n",
              "      <th>Sale_Type</th>\n",
              "      <th>Sale_Condition</th>\n",
              "      <th>Sale_Price</th>\n",
              "      <th>Longitude</th>\n",
              "      <th>Latitude</th>\n",
              "    </tr>\n",
              "  </thead>\n",
              "  <tbody>\n",
              "    <tr>\n",
              "      <th>996</th>\n",
              "      <td>Two_Story_1946_and_Newer</td>\n",
              "      <td>Residential_Low_Density</td>\n",
              "      <td>0</td>\n",
              "      <td>15038</td>\n",
              "      <td>Pave</td>\n",
              "      <td>No_Alley_Access</td>\n",
              "      <td>Moderately_Irregular</td>\n",
              "      <td>Lvl</td>\n",
              "      <td>AllPub</td>\n",
              "      <td>Corner</td>\n",
              "      <td>...</td>\n",
              "      <td>No_Fence</td>\n",
              "      <td>None</td>\n",
              "      <td>0</td>\n",
              "      <td>11</td>\n",
              "      <td>2008</td>\n",
              "      <td>WD</td>\n",
              "      <td>Normal</td>\n",
              "      <td>173000</td>\n",
              "      <td>-93.637482</td>\n",
              "      <td>42.060369</td>\n",
              "    </tr>\n",
              "    <tr>\n",
              "      <th>776</th>\n",
              "      <td>One_Story_1946_and_Newer_All_Styles</td>\n",
              "      <td>Residential_Low_Density</td>\n",
              "      <td>0</td>\n",
              "      <td>11616</td>\n",
              "      <td>Pave</td>\n",
              "      <td>No_Alley_Access</td>\n",
              "      <td>Regular</td>\n",
              "      <td>Lvl</td>\n",
              "      <td>AllPub</td>\n",
              "      <td>Inside</td>\n",
              "      <td>...</td>\n",
              "      <td>No_Fence</td>\n",
              "      <td>None</td>\n",
              "      <td>0</td>\n",
              "      <td>9</td>\n",
              "      <td>2009</td>\n",
              "      <td>WD</td>\n",
              "      <td>Normal</td>\n",
              "      <td>139000</td>\n",
              "      <td>-93.666432</td>\n",
              "      <td>42.033427</td>\n",
              "    </tr>\n",
              "    <tr>\n",
              "      <th>1803</th>\n",
              "      <td>One_Story_1946_and_Newer_All_Styles</td>\n",
              "      <td>Floating_Village_Residential</td>\n",
              "      <td>100</td>\n",
              "      <td>11824</td>\n",
              "      <td>Pave</td>\n",
              "      <td>No_Alley_Access</td>\n",
              "      <td>Slightly_Irregular</td>\n",
              "      <td>Lvl</td>\n",
              "      <td>AllPub</td>\n",
              "      <td>Corner</td>\n",
              "      <td>...</td>\n",
              "      <td>No_Fence</td>\n",
              "      <td>None</td>\n",
              "      <td>0</td>\n",
              "      <td>4</td>\n",
              "      <td>2007</td>\n",
              "      <td>WD</td>\n",
              "      <td>Normal</td>\n",
              "      <td>253000</td>\n",
              "      <td>-93.642046</td>\n",
              "      <td>42.052267</td>\n",
              "    </tr>\n",
              "    <tr>\n",
              "      <th>2737</th>\n",
              "      <td>Two_and_Half_Story_All_Ages</td>\n",
              "      <td>Residential_Low_Density</td>\n",
              "      <td>60</td>\n",
              "      <td>19800</td>\n",
              "      <td>Pave</td>\n",
              "      <td>No_Alley_Access</td>\n",
              "      <td>Regular</td>\n",
              "      <td>Lvl</td>\n",
              "      <td>AllPub</td>\n",
              "      <td>Inside</td>\n",
              "      <td>...</td>\n",
              "      <td>No_Fence</td>\n",
              "      <td>None</td>\n",
              "      <td>0</td>\n",
              "      <td>12</td>\n",
              "      <td>2006</td>\n",
              "      <td>WD</td>\n",
              "      <td>Normal</td>\n",
              "      <td>415000</td>\n",
              "      <td>-93.660664</td>\n",
              "      <td>42.028191</td>\n",
              "    </tr>\n",
              "    <tr>\n",
              "      <th>2359</th>\n",
              "      <td>One_Story_1946_and_Newer_All_Styles</td>\n",
              "      <td>Residential_Low_Density</td>\n",
              "      <td>0</td>\n",
              "      <td>15870</td>\n",
              "      <td>Pave</td>\n",
              "      <td>No_Alley_Access</td>\n",
              "      <td>Slightly_Irregular</td>\n",
              "      <td>Lvl</td>\n",
              "      <td>AllPub</td>\n",
              "      <td>Corner</td>\n",
              "      <td>...</td>\n",
              "      <td>No_Fence</td>\n",
              "      <td>None</td>\n",
              "      <td>0</td>\n",
              "      <td>3</td>\n",
              "      <td>2006</td>\n",
              "      <td>WD</td>\n",
              "      <td>Abnorml</td>\n",
              "      <td>138800</td>\n",
              "      <td>-93.626260</td>\n",
              "      <td>42.055131</td>\n",
              "    </tr>\n",
              "    <tr>\n",
              "      <th>633</th>\n",
              "      <td>One_Story_1946_and_Newer_All_Styles</td>\n",
              "      <td>Residential_Low_Density</td>\n",
              "      <td>66</td>\n",
              "      <td>9240</td>\n",
              "      <td>Pave</td>\n",
              "      <td>No_Alley_Access</td>\n",
              "      <td>Slightly_Irregular</td>\n",
              "      <td>Lvl</td>\n",
              "      <td>AllPub</td>\n",
              "      <td>Inside</td>\n",
              "      <td>...</td>\n",
              "      <td>No_Fence</td>\n",
              "      <td>None</td>\n",
              "      <td>0</td>\n",
              "      <td>6</td>\n",
              "      <td>2009</td>\n",
              "      <td>WD</td>\n",
              "      <td>Normal</td>\n",
              "      <td>149500</td>\n",
              "      <td>-93.616434</td>\n",
              "      <td>42.044083</td>\n",
              "    </tr>\n",
              "    <tr>\n",
              "      <th>2231</th>\n",
              "      <td>One_and_Half_Story_Finished_All_Ages</td>\n",
              "      <td>Residential_Medium_Density</td>\n",
              "      <td>85</td>\n",
              "      <td>8500</td>\n",
              "      <td>Pave</td>\n",
              "      <td>No_Alley_Access</td>\n",
              "      <td>Regular</td>\n",
              "      <td>Lvl</td>\n",
              "      <td>AllPub</td>\n",
              "      <td>Corner</td>\n",
              "      <td>...</td>\n",
              "      <td>No_Fence</td>\n",
              "      <td>None</td>\n",
              "      <td>0</td>\n",
              "      <td>8</td>\n",
              "      <td>2007</td>\n",
              "      <td>WD</td>\n",
              "      <td>Normal</td>\n",
              "      <td>115000</td>\n",
              "      <td>-93.628412</td>\n",
              "      <td>42.022836</td>\n",
              "    </tr>\n",
              "    <tr>\n",
              "      <th>920</th>\n",
              "      <td>Two_Story_1945_and_Older</td>\n",
              "      <td>Residential_Low_Density</td>\n",
              "      <td>0</td>\n",
              "      <td>7500</td>\n",
              "      <td>Pave</td>\n",
              "      <td>No_Alley_Access</td>\n",
              "      <td>Slightly_Irregular</td>\n",
              "      <td>Bnk</td>\n",
              "      <td>AllPub</td>\n",
              "      <td>Inside</td>\n",
              "      <td>...</td>\n",
              "      <td>No_Fence</td>\n",
              "      <td>None</td>\n",
              "      <td>0</td>\n",
              "      <td>11</td>\n",
              "      <td>2009</td>\n",
              "      <td>WD</td>\n",
              "      <td>Normal</td>\n",
              "      <td>177500</td>\n",
              "      <td>-93.639700</td>\n",
              "      <td>42.019181</td>\n",
              "    </tr>\n",
              "    <tr>\n",
              "      <th>137</th>\n",
              "      <td>One_Story_1946_and_Newer_All_Styles</td>\n",
              "      <td>Residential_Low_Density</td>\n",
              "      <td>137</td>\n",
              "      <td>16492</td>\n",
              "      <td>Pave</td>\n",
              "      <td>No_Alley_Access</td>\n",
              "      <td>Slightly_Irregular</td>\n",
              "      <td>Lvl</td>\n",
              "      <td>AllPub</td>\n",
              "      <td>Corner</td>\n",
              "      <td>...</td>\n",
              "      <td>No_Fence</td>\n",
              "      <td>None</td>\n",
              "      <td>0</td>\n",
              "      <td>6</td>\n",
              "      <td>2010</td>\n",
              "      <td>WD</td>\n",
              "      <td>Normal</td>\n",
              "      <td>190000</td>\n",
              "      <td>-93.614244</td>\n",
              "      <td>42.047447</td>\n",
              "    </tr>\n",
              "    <tr>\n",
              "      <th>1571</th>\n",
              "      <td>One_Story_PUD_1946_and_Newer</td>\n",
              "      <td>Residential_Low_Density</td>\n",
              "      <td>42</td>\n",
              "      <td>4084</td>\n",
              "      <td>Pave</td>\n",
              "      <td>No_Alley_Access</td>\n",
              "      <td>Slightly_Irregular</td>\n",
              "      <td>Lvl</td>\n",
              "      <td>AllPub</td>\n",
              "      <td>Inside</td>\n",
              "      <td>...</td>\n",
              "      <td>No_Fence</td>\n",
              "      <td>None</td>\n",
              "      <td>0</td>\n",
              "      <td>7</td>\n",
              "      <td>2008</td>\n",
              "      <td>WD</td>\n",
              "      <td>Normal</td>\n",
              "      <td>241500</td>\n",
              "      <td>-93.639793</td>\n",
              "      <td>42.005140</td>\n",
              "    </tr>\n",
              "    <tr>\n",
              "      <th>2422</th>\n",
              "      <td>One_Story_PUD_1946_and_Newer</td>\n",
              "      <td>Residential_Low_Density</td>\n",
              "      <td>0</td>\n",
              "      <td>2938</td>\n",
              "      <td>Pave</td>\n",
              "      <td>No_Alley_Access</td>\n",
              "      <td>Regular</td>\n",
              "      <td>Lvl</td>\n",
              "      <td>AllPub</td>\n",
              "      <td>Inside</td>\n",
              "      <td>...</td>\n",
              "      <td>No_Fence</td>\n",
              "      <td>None</td>\n",
              "      <td>0</td>\n",
              "      <td>5</td>\n",
              "      <td>2006</td>\n",
              "      <td>WD</td>\n",
              "      <td>Normal</td>\n",
              "      <td>246990</td>\n",
              "      <td>-93.640227</td>\n",
              "      <td>42.063185</td>\n",
              "    </tr>\n",
              "    <tr>\n",
              "      <th>1230</th>\n",
              "      <td>One_Story_1946_and_Newer_All_Styles</td>\n",
              "      <td>Residential_Low_Density</td>\n",
              "      <td>75</td>\n",
              "      <td>7875</td>\n",
              "      <td>Pave</td>\n",
              "      <td>No_Alley_Access</td>\n",
              "      <td>Regular</td>\n",
              "      <td>Lvl</td>\n",
              "      <td>AllPub</td>\n",
              "      <td>Inside</td>\n",
              "      <td>...</td>\n",
              "      <td>Good_Wood</td>\n",
              "      <td>None</td>\n",
              "      <td>0</td>\n",
              "      <td>9</td>\n",
              "      <td>2008</td>\n",
              "      <td>WD</td>\n",
              "      <td>Normal</td>\n",
              "      <td>139950</td>\n",
              "      <td>-93.617860</td>\n",
              "      <td>42.047086</td>\n",
              "    </tr>\n",
              "    <tr>\n",
              "      <th>2702</th>\n",
              "      <td>One_Story_1945_and_Older</td>\n",
              "      <td>Residential_Low_Density</td>\n",
              "      <td>55</td>\n",
              "      <td>8250</td>\n",
              "      <td>Pave</td>\n",
              "      <td>No_Alley_Access</td>\n",
              "      <td>Regular</td>\n",
              "      <td>Lvl</td>\n",
              "      <td>AllPub</td>\n",
              "      <td>Inside</td>\n",
              "      <td>...</td>\n",
              "      <td>No_Fence</td>\n",
              "      <td>None</td>\n",
              "      <td>0</td>\n",
              "      <td>6</td>\n",
              "      <td>2006</td>\n",
              "      <td>WD</td>\n",
              "      <td>Normal</td>\n",
              "      <td>125000</td>\n",
              "      <td>-93.660040</td>\n",
              "      <td>42.027796</td>\n",
              "    </tr>\n",
              "    <tr>\n",
              "      <th>488</th>\n",
              "      <td>Two_Story_1946_and_Newer</td>\n",
              "      <td>Residential_Low_Density</td>\n",
              "      <td>42</td>\n",
              "      <td>8433</td>\n",
              "      <td>Pave</td>\n",
              "      <td>No_Alley_Access</td>\n",
              "      <td>Slightly_Irregular</td>\n",
              "      <td>Lvl</td>\n",
              "      <td>AllPub</td>\n",
              "      <td>Inside</td>\n",
              "      <td>...</td>\n",
              "      <td>No_Fence</td>\n",
              "      <td>None</td>\n",
              "      <td>0</td>\n",
              "      <td>6</td>\n",
              "      <td>2009</td>\n",
              "      <td>WD</td>\n",
              "      <td>Normal</td>\n",
              "      <td>190000</td>\n",
              "      <td>-93.641313</td>\n",
              "      <td>42.057834</td>\n",
              "    </tr>\n",
              "    <tr>\n",
              "      <th>2154</th>\n",
              "      <td>One_Story_1946_and_Newer_All_Styles</td>\n",
              "      <td>Residential_Low_Density</td>\n",
              "      <td>90</td>\n",
              "      <td>11248</td>\n",
              "      <td>Pave</td>\n",
              "      <td>No_Alley_Access</td>\n",
              "      <td>Slightly_Irregular</td>\n",
              "      <td>Lvl</td>\n",
              "      <td>AllPub</td>\n",
              "      <td>Corner</td>\n",
              "      <td>...</td>\n",
              "      <td>No_Fence</td>\n",
              "      <td>None</td>\n",
              "      <td>0</td>\n",
              "      <td>7</td>\n",
              "      <td>2007</td>\n",
              "      <td>WD</td>\n",
              "      <td>Normal</td>\n",
              "      <td>285000</td>\n",
              "      <td>-93.679805</td>\n",
              "      <td>42.018017</td>\n",
              "    </tr>\n",
              "    <tr>\n",
              "      <th>749</th>\n",
              "      <td>Two_Story_1945_and_Older</td>\n",
              "      <td>Residential_Medium_Density</td>\n",
              "      <td>57</td>\n",
              "      <td>8094</td>\n",
              "      <td>Pave</td>\n",
              "      <td>Gravel</td>\n",
              "      <td>Regular</td>\n",
              "      <td>Lvl</td>\n",
              "      <td>AllPub</td>\n",
              "      <td>Inside</td>\n",
              "      <td>...</td>\n",
              "      <td>No_Fence</td>\n",
              "      <td>None</td>\n",
              "      <td>0</td>\n",
              "      <td>6</td>\n",
              "      <td>2009</td>\n",
              "      <td>WD</td>\n",
              "      <td>Normal</td>\n",
              "      <td>155000</td>\n",
              "      <td>-93.621525</td>\n",
              "      <td>42.028948</td>\n",
              "    </tr>\n",
              "    <tr>\n",
              "      <th>561</th>\n",
              "      <td>One_Story_1946_and_Newer_All_Styles</td>\n",
              "      <td>Residential_Low_Density</td>\n",
              "      <td>60</td>\n",
              "      <td>8281</td>\n",
              "      <td>Pave</td>\n",
              "      <td>No_Alley_Access</td>\n",
              "      <td>Slightly_Irregular</td>\n",
              "      <td>Lvl</td>\n",
              "      <td>AllPub</td>\n",
              "      <td>Inside</td>\n",
              "      <td>...</td>\n",
              "      <td>Good_Wood</td>\n",
              "      <td>None</td>\n",
              "      <td>0</td>\n",
              "      <td>12</td>\n",
              "      <td>2009</td>\n",
              "      <td>WD</td>\n",
              "      <td>Normal</td>\n",
              "      <td>62383</td>\n",
              "      <td>-93.669707</td>\n",
              "      <td>42.034602</td>\n",
              "    </tr>\n",
              "    <tr>\n",
              "      <th>1259</th>\n",
              "      <td>Two_Family_conversion_All_Styles_and_Ages</td>\n",
              "      <td>Residential_Low_Density</td>\n",
              "      <td>60</td>\n",
              "      <td>10800</td>\n",
              "      <td>Pave</td>\n",
              "      <td>Gravel</td>\n",
              "      <td>Regular</td>\n",
              "      <td>Lvl</td>\n",
              "      <td>AllPub</td>\n",
              "      <td>Inside</td>\n",
              "      <td>...</td>\n",
              "      <td>No_Fence</td>\n",
              "      <td>None</td>\n",
              "      <td>0</td>\n",
              "      <td>8</td>\n",
              "      <td>2008</td>\n",
              "      <td>WD</td>\n",
              "      <td>Normal</td>\n",
              "      <td>106250</td>\n",
              "      <td>-93.612253</td>\n",
              "      <td>42.035222</td>\n",
              "    </tr>\n",
              "    <tr>\n",
              "      <th>10</th>\n",
              "      <td>Two_Story_1946_and_Newer</td>\n",
              "      <td>Residential_Low_Density</td>\n",
              "      <td>75</td>\n",
              "      <td>10000</td>\n",
              "      <td>Pave</td>\n",
              "      <td>No_Alley_Access</td>\n",
              "      <td>Slightly_Irregular</td>\n",
              "      <td>Lvl</td>\n",
              "      <td>AllPub</td>\n",
              "      <td>Corner</td>\n",
              "      <td>...</td>\n",
              "      <td>No_Fence</td>\n",
              "      <td>None</td>\n",
              "      <td>0</td>\n",
              "      <td>4</td>\n",
              "      <td>2010</td>\n",
              "      <td>WD</td>\n",
              "      <td>Normal</td>\n",
              "      <td>175900</td>\n",
              "      <td>-93.636947</td>\n",
              "      <td>42.058480</td>\n",
              "    </tr>\n",
              "    <tr>\n",
              "      <th>449</th>\n",
              "      <td>Two_Story_1946_and_Newer</td>\n",
              "      <td>Residential_Low_Density</td>\n",
              "      <td>96</td>\n",
              "      <td>13262</td>\n",
              "      <td>Pave</td>\n",
              "      <td>No_Alley_Access</td>\n",
              "      <td>Slightly_Irregular</td>\n",
              "      <td>Lvl</td>\n",
              "      <td>AllPub</td>\n",
              "      <td>Inside</td>\n",
              "      <td>...</td>\n",
              "      <td>No_Fence</td>\n",
              "      <td>None</td>\n",
              "      <td>0</td>\n",
              "      <td>6</td>\n",
              "      <td>2009</td>\n",
              "      <td>WD</td>\n",
              "      <td>Normal</td>\n",
              "      <td>290000</td>\n",
              "      <td>-93.654519</td>\n",
              "      <td>42.058886</td>\n",
              "    </tr>\n",
              "  </tbody>\n",
              "</table>\n",
              "<p>20 rows × 81 columns</p>\n",
              "</div>\n",
              "      <button class=\"colab-df-convert\" onclick=\"convertToInteractive('df-9de2cc7b-789c-4277-bbc1-e42256d12ae9')\"\n",
              "              title=\"Convert this dataframe to an interactive table.\"\n",
              "              style=\"display:none;\">\n",
              "        \n",
              "  <svg xmlns=\"http://www.w3.org/2000/svg\" height=\"24px\"viewBox=\"0 0 24 24\"\n",
              "       width=\"24px\">\n",
              "    <path d=\"M0 0h24v24H0V0z\" fill=\"none\"/>\n",
              "    <path d=\"M18.56 5.44l.94 2.06.94-2.06 2.06-.94-2.06-.94-.94-2.06-.94 2.06-2.06.94zm-11 1L8.5 8.5l.94-2.06 2.06-.94-2.06-.94L8.5 2.5l-.94 2.06-2.06.94zm10 10l.94 2.06.94-2.06 2.06-.94-2.06-.94-.94-2.06-.94 2.06-2.06.94z\"/><path d=\"M17.41 7.96l-1.37-1.37c-.4-.4-.92-.59-1.43-.59-.52 0-1.04.2-1.43.59L10.3 9.45l-7.72 7.72c-.78.78-.78 2.05 0 2.83L4 21.41c.39.39.9.59 1.41.59.51 0 1.02-.2 1.41-.59l7.78-7.78 2.81-2.81c.8-.78.8-2.07 0-2.86zM5.41 20L4 18.59l7.72-7.72 1.47 1.35L5.41 20z\"/>\n",
              "  </svg>\n",
              "      </button>\n",
              "      \n",
              "  <style>\n",
              "    .colab-df-container {\n",
              "      display:flex;\n",
              "      flex-wrap:wrap;\n",
              "      gap: 12px;\n",
              "    }\n",
              "\n",
              "    .colab-df-convert {\n",
              "      background-color: #E8F0FE;\n",
              "      border: none;\n",
              "      border-radius: 50%;\n",
              "      cursor: pointer;\n",
              "      display: none;\n",
              "      fill: #1967D2;\n",
              "      height: 32px;\n",
              "      padding: 0 0 0 0;\n",
              "      width: 32px;\n",
              "    }\n",
              "\n",
              "    .colab-df-convert:hover {\n",
              "      background-color: #E2EBFA;\n",
              "      box-shadow: 0px 1px 2px rgba(60, 64, 67, 0.3), 0px 1px 3px 1px rgba(60, 64, 67, 0.15);\n",
              "      fill: #174EA6;\n",
              "    }\n",
              "\n",
              "    [theme=dark] .colab-df-convert {\n",
              "      background-color: #3B4455;\n",
              "      fill: #D2E3FC;\n",
              "    }\n",
              "\n",
              "    [theme=dark] .colab-df-convert:hover {\n",
              "      background-color: #434B5C;\n",
              "      box-shadow: 0px 1px 3px 1px rgba(0, 0, 0, 0.15);\n",
              "      filter: drop-shadow(0px 1px 2px rgba(0, 0, 0, 0.3));\n",
              "      fill: #FFFFFF;\n",
              "    }\n",
              "  </style>\n",
              "\n",
              "      <script>\n",
              "        const buttonEl =\n",
              "          document.querySelector('#df-9de2cc7b-789c-4277-bbc1-e42256d12ae9 button.colab-df-convert');\n",
              "        buttonEl.style.display =\n",
              "          google.colab.kernel.accessAllowed ? 'block' : 'none';\n",
              "\n",
              "        async function convertToInteractive(key) {\n",
              "          const element = document.querySelector('#df-9de2cc7b-789c-4277-bbc1-e42256d12ae9');\n",
              "          const dataTable =\n",
              "            await google.colab.kernel.invokeFunction('convertToInteractive',\n",
              "                                                     [key], {});\n",
              "          if (!dataTable) return;\n",
              "\n",
              "          const docLinkHtml = 'Like what you see? Visit the ' +\n",
              "            '<a target=\"_blank\" href=https://colab.research.google.com/notebooks/data_table.ipynb>data table notebook</a>'\n",
              "            + ' to learn more about interactive tables.';\n",
              "          element.innerHTML = '';\n",
              "          dataTable['output_type'] = 'display_data';\n",
              "          await google.colab.output.renderOutput(dataTable, element);\n",
              "          const docLink = document.createElement('div');\n",
              "          docLink.innerHTML = docLinkHtml;\n",
              "          element.appendChild(docLink);\n",
              "        }\n",
              "      </script>\n",
              "    </div>\n",
              "  </div>\n",
              "  "
            ]
          },
          "metadata": {},
          "execution_count": 3
        }
      ],
      "source": [
        "data = pd.read_csv('./data.csv')\n",
        "\n",
        "data.sample(20)"
      ]
    },
    {
      "cell_type": "code",
      "execution_count": null,
      "metadata": {
        "pycharm": {
          "name": "#%%\n"
        },
        "id": "2DwSNUnb-QQY",
        "colab": {
          "base_uri": "https://localhost:8080/"
        },
        "outputId": "af6b13fd-c5d5-411f-c305-c5dd2645f76e"
      },
      "outputs": [
        {
          "output_type": "stream",
          "name": "stdout",
          "text": [
            "<class 'pandas.core.frame.DataFrame'>\n",
            "RangeIndex: 2930 entries, 0 to 2929\n",
            "Data columns (total 81 columns):\n",
            " #   Column              Non-Null Count  Dtype  \n",
            "---  ------              --------------  -----  \n",
            " 0   MS_SubClass         2930 non-null   object \n",
            " 1   MS_Zoning           2930 non-null   object \n",
            " 2   Lot_Frontage        2930 non-null   int64  \n",
            " 3   Lot_Area            2930 non-null   int64  \n",
            " 4   Street              2930 non-null   object \n",
            " 5   Alley               2930 non-null   object \n",
            " 6   Lot_Shape           2930 non-null   object \n",
            " 7   Land_Contour        2930 non-null   object \n",
            " 8   Utilities           2930 non-null   object \n",
            " 9   Lot_Config          2930 non-null   object \n",
            " 10  Land_Slope          2930 non-null   object \n",
            " 11  Neighborhood        2930 non-null   object \n",
            " 12  Condition_1         2930 non-null   object \n",
            " 13  Condition_2         2930 non-null   object \n",
            " 14  Bldg_Type           2930 non-null   object \n",
            " 15  House_Style         2930 non-null   object \n",
            " 16  Overall_Qual        2930 non-null   object \n",
            " 17  Overall_Cond        2930 non-null   object \n",
            " 18  Year_Built          2930 non-null   int64  \n",
            " 19  Year_Remod_Add      2930 non-null   int64  \n",
            " 20  Roof_Style          2930 non-null   object \n",
            " 21  Roof_Matl           2930 non-null   object \n",
            " 22  Exterior_1st        2930 non-null   object \n",
            " 23  Exterior_2nd        2930 non-null   object \n",
            " 24  Mas_Vnr_Type        2930 non-null   object \n",
            " 25  Mas_Vnr_Area        2930 non-null   int64  \n",
            " 26  Exter_Qual          2930 non-null   object \n",
            " 27  Exter_Cond          2930 non-null   object \n",
            " 28  Foundation          2930 non-null   object \n",
            " 29  Bsmt_Qual           2930 non-null   object \n",
            " 30  Bsmt_Cond           2930 non-null   object \n",
            " 31  Bsmt_Exposure       2930 non-null   object \n",
            " 32  BsmtFin_Type_1      2930 non-null   object \n",
            " 33  BsmtFin_SF_1        2930 non-null   int64  \n",
            " 34  BsmtFin_Type_2      2930 non-null   object \n",
            " 35  BsmtFin_SF_2        2930 non-null   int64  \n",
            " 36  Bsmt_Unf_SF         2930 non-null   int64  \n",
            " 37  Total_Bsmt_SF       2930 non-null   int64  \n",
            " 38  Heating             2930 non-null   object \n",
            " 39  Heating_QC          2930 non-null   object \n",
            " 40  Central_Air         2930 non-null   object \n",
            " 41  Electrical          2930 non-null   object \n",
            " 42  First_Flr_SF        2930 non-null   int64  \n",
            " 43  Second_Flr_SF       2930 non-null   int64  \n",
            " 44  Low_Qual_Fin_SF     2930 non-null   int64  \n",
            " 45  Gr_Liv_Area         2930 non-null   int64  \n",
            " 46  Bsmt_Full_Bath      2930 non-null   int64  \n",
            " 47  Bsmt_Half_Bath      2930 non-null   int64  \n",
            " 48  Full_Bath           2930 non-null   int64  \n",
            " 49  Half_Bath           2930 non-null   int64  \n",
            " 50  Bedroom_AbvGr       2930 non-null   int64  \n",
            " 51  Kitchen_AbvGr       2930 non-null   int64  \n",
            " 52  Kitchen_Qual        2930 non-null   object \n",
            " 53  TotRms_AbvGrd       2930 non-null   int64  \n",
            " 54  Functional          2930 non-null   object \n",
            " 55  Fireplaces          2930 non-null   int64  \n",
            " 56  Fireplace_Qu        2930 non-null   object \n",
            " 57  Garage_Type         2930 non-null   object \n",
            " 58  Garage_Finish       2930 non-null   object \n",
            " 59  Garage_Cars         2930 non-null   int64  \n",
            " 60  Garage_Area         2930 non-null   int64  \n",
            " 61  Garage_Qual         2930 non-null   object \n",
            " 62  Garage_Cond         2930 non-null   object \n",
            " 63  Paved_Drive         2930 non-null   object \n",
            " 64  Wood_Deck_SF        2930 non-null   int64  \n",
            " 65  Open_Porch_SF       2930 non-null   int64  \n",
            " 66  Enclosed_Porch      2930 non-null   int64  \n",
            " 67  Three_season_porch  2930 non-null   int64  \n",
            " 68  Screen_Porch        2930 non-null   int64  \n",
            " 69  Pool_Area           2930 non-null   int64  \n",
            " 70  Pool_QC             2930 non-null   object \n",
            " 71  Fence               2930 non-null   object \n",
            " 72  Misc_Feature        2930 non-null   object \n",
            " 73  Misc_Val            2930 non-null   int64  \n",
            " 74  Mo_Sold             2930 non-null   int64  \n",
            " 75  Year_Sold           2930 non-null   int64  \n",
            " 76  Sale_Type           2930 non-null   object \n",
            " 77  Sale_Condition      2930 non-null   object \n",
            " 78  Sale_Price          2930 non-null   int64  \n",
            " 79  Longitude           2930 non-null   float64\n",
            " 80  Latitude            2930 non-null   float64\n",
            "dtypes: float64(2), int64(33), object(46)\n",
            "memory usage: 1.8+ MB\n"
          ]
        }
      ],
      "source": [
        "data.info()"
      ]
    },
    {
      "cell_type": "markdown",
      "metadata": {
        "id": "CmaxlcyD-QQZ"
      },
      "source": [
        "Разобьём данные на обучающую и тестовую выборки."
      ]
    },
    {
      "cell_type": "code",
      "execution_count": null,
      "metadata": {
        "pycharm": {
          "name": "#%%\n"
        },
        "id": "liAAE2lJ-QQZ",
        "colab": {
          "base_uri": "https://localhost:8080/"
        },
        "outputId": "32d794a7-9f2d-4cc6-e163-7be68353a57c"
      },
      "outputs": [
        {
          "output_type": "stream",
          "name": "stdout",
          "text": [
            "Train : (2344, 80) (2344,)\n",
            "Test : (586, 80) (586,)\n"
          ]
        }
      ],
      "source": [
        "import sklearn\n",
        "\n",
        "target_column = \"Sale_Price\"\n",
        "np.random.seed(seed)\n",
        "\n",
        "test_size = 0.2\n",
        "data_train, data_test, Y_train, Y_test = train_test_split(\n",
        "    data[data.columns.drop(\"Sale_Price\")],\n",
        "    np.array(data[\"Sale_Price\"]),\n",
        "    test_size=test_size,\n",
        "    random_state=seed)\n",
        "\n",
        "\n",
        "\n",
        "print(f\"Train : {data_train.shape} {Y_train.shape}\")\n",
        "print(f\"Test : {data_test.shape} {Y_test.shape}\")"
      ]
    },
    {
      "cell_type": "markdown",
      "metadata": {
        "id": "cNZ5GibQ-QQZ"
      },
      "source": [
        "Среди признаков нам встретятся как вещественные, так и категориальные. Пока что выделим в качестве категориальных те, значениями которых являются не числа, а какие-то другие сущности (но имейте в виду, что численные с виду признаки тоже могут быть категориальными)."
      ]
    },
    {
      "cell_type": "code",
      "execution_count": null,
      "metadata": {
        "pycharm": {
          "name": "#%%\n"
        },
        "id": "FN7WWy03-QQa",
        "colab": {
          "base_uri": "https://localhost:8080/"
        },
        "outputId": "0b6e4aa4-e1bb-4493-acfb-060169668bcc"
      },
      "outputs": [
        {
          "output_type": "stream",
          "name": "stdout",
          "text": [
            "Continuous : 34, Categorical : 46\n"
          ]
        }
      ],
      "source": [
        "continuous_columns = [key for key in data.keys() if data[key].dtype in (\"int64\", \"float64\")]\n",
        "categorical_columns = [key for key in data.keys() if data[key].dtype == \"object\"]\n",
        "\n",
        "continuous_columns.remove(target_column)\n",
        "\n",
        "print(f\"Continuous : {len(continuous_columns)}, Categorical : {len(categorical_columns)}\")"
      ]
    },
    {
      "cell_type": "markdown",
      "metadata": {
        "id": "IOdUfzen-QQa"
      },
      "source": [
        "Посмотрим на заголовки признаков. В целом, многие названия вполне говорящие, и можно догадаться, что стоит за этими признаками."
      ]
    },
    {
      "cell_type": "code",
      "execution_count": null,
      "metadata": {
        "pycharm": {
          "name": "#%%\n"
        },
        "id": "x6i1Y59M-QQa",
        "colab": {
          "base_uri": "https://localhost:8080/"
        },
        "outputId": "722097fc-6298-4b98-a19d-2bdc5ddf60b8"
      },
      "outputs": [
        {
          "output_type": "execute_result",
          "data": {
            "text/plain": [
              "['Lot_Frontage',\n",
              " 'Lot_Area',\n",
              " 'Year_Built',\n",
              " 'Year_Remod_Add',\n",
              " 'Mas_Vnr_Area',\n",
              " 'BsmtFin_SF_1',\n",
              " 'BsmtFin_SF_2',\n",
              " 'Bsmt_Unf_SF',\n",
              " 'Total_Bsmt_SF',\n",
              " 'First_Flr_SF',\n",
              " 'Second_Flr_SF',\n",
              " 'Low_Qual_Fin_SF',\n",
              " 'Gr_Liv_Area',\n",
              " 'Bsmt_Full_Bath',\n",
              " 'Bsmt_Half_Bath',\n",
              " 'Full_Bath',\n",
              " 'Half_Bath',\n",
              " 'Bedroom_AbvGr',\n",
              " 'Kitchen_AbvGr',\n",
              " 'TotRms_AbvGrd',\n",
              " 'Fireplaces',\n",
              " 'Garage_Cars',\n",
              " 'Garage_Area',\n",
              " 'Wood_Deck_SF',\n",
              " 'Open_Porch_SF',\n",
              " 'Enclosed_Porch',\n",
              " 'Three_season_porch',\n",
              " 'Screen_Porch',\n",
              " 'Pool_Area',\n",
              " 'Misc_Val',\n",
              " 'Mo_Sold',\n",
              " 'Year_Sold',\n",
              " 'Longitude',\n",
              " 'Latitude']"
            ]
          },
          "metadata": {},
          "execution_count": 11
        }
      ],
      "source": [
        "continuous_columns"
      ]
    },
    {
      "cell_type": "markdown",
      "metadata": {
        "id": "8de1am18-QQa"
      },
      "source": [
        "Одна из целей этого ноутбука — познакомить вас с fit-predict (fit-transform) интерфейсом, типичным для многих реализаций моделей машинного обучения и для различных инструментов работы с данными.\n",
        "\n",
        "Множество фреймворков машинного обучения (например, scikit-learn, CatBoost) содержат в себе модели и алгоритмы, которые описаны в виде классов, у которых есть два ключевых метода: fit и predict (transform). Давайте разберёмся, что делают эти методы.\n",
        "\n",
        "***fit*** — метод для обучения алгоритма. Он получает на входе данные и таргеты для обучения, после чего обновляет состояние класса. После использования метода fit считается, что объект класса готов к использованию. Внутри этого метода может быть что угодно: обучение модели, подбор гиперпараметров, подсчет статистик и т. д.\n",
        "\n",
        "***predict*** — метод для предсказания , обученного с помощью _fit_. В задаче регрессии это оценка параметра, в задаче классификации предсказанный класс.\n",
        "\n",
        "***transform*** — стилистический синоним _predict_, но используется в классах, которые реализуют преобразования данных, например, масштабирование признаков или кодирование категориальных фичей.\n",
        "\n",
        "***fit_transform*** — метод который учится на данных, а потом их же преобразовывает."
      ]
    },
    {
      "cell_type": "markdown",
      "metadata": {
        "id": "pkrFcxHr-QQb"
      },
      "source": [
        "### 1. Базовая предобработка данных"
      ]
    },
    {
      "cell_type": "markdown",
      "metadata": {
        "id": "pR6lopRA-QQb"
      },
      "source": [
        "Отметим два важных свойства линейной регрессии:\n",
        "\n",
        "- строго говоря, она умеет работать только с вещественными признаками\n",
        "- если признаки имеют разный масштаб при сопоставимой важности, регрессия может проигнорировать те, что имеют меньший масштаб\n",
        "\n",
        "Первое соображение заставляет придумывать способы борьбы с категориальными признаками, и мы начнём с самого простого: проигнорируем их.\n",
        "\n",
        "Второе соображение приводит к необходимости приводить признаки к одному масштабу (\"нормализовать фичи\"). В `sklearn` для этого есть два основных класса:\n",
        "\n",
        "- [sklearn.preprocessing.StandardScaler](https://scikit-learn.org/stable/modules/generated/sklearn.preprocessing.StandardScaler.html) - в каждой колонке вычитает среднее и делит на стандартное отклонение.\n",
        "- [sklearn.preprocessing.MinMaxScaler](https://scikit-learn.org/stable/modules/generated/sklearn.preprocessing.MinMaxScaler.html) - в каждой колонке вычитает минимальное значение и делит на разницу между минимальным и максимальным.\n",
        "\n",
        "Применяются они в соответствии с описанной выше философией. Например:\n",
        "\n",
        "```\n",
        "scaler = StandardScaler()\n",
        "X_train = scaler.fit_transform(X_train)\n",
        "X_test = scaler.transform(X_test)\n",
        "```\n",
        "\n",
        "Обратите внимание, что scaler настраивается на обучающей выборке (именно по ней вычисляются среднее и стандартное отклонение), а к тестовой он применяется с уже подсчитанными статистиками.\n",
        "\n",
        "**Вопрос**. А зачем? Почему бы не нормировать отдельно обучающую и тестовую выборку? Почему бы не настроить наш scaler на объединении двух выборок? Ведь благодаря большему количеству данных мы бы настроили его точнее!\n",
        "<p>\n",
        "<details>\n",
        "  <summary>Кликните, чтобы узнать ответ</summary>\n",
        "\n",
        "Если мы по-разному отнормируем обучающую и тестовую выборки, то нам будет весьма сложно применять модель, обученную на одной из них, к другой. Это просто не будет иметь физического смысла.\n",
        "\n",
        "Настраивать что-либо на тестовой выборке — это очень плохая идея. Тестовая выборка должна быть неким независимым мерилом качества наших усилий по предсказанию, а если мы разрешим информации о распределении признаков в тестовой выборке \"протечь\" в процесс обучения, то мы эту независимость испортим.\n",
        "\n",
        "</details>"
      ]
    },
    {
      "cell_type": "markdown",
      "metadata": {
        "id": "SkTK4mng-QQb"
      },
      "source": [
        "Итак, мы решили делать преобразование данных, которое состоит в:\n",
        "\n",
        "- сохранении лишь непрерывных фичей;\n",
        "- нормализации этих фичей (давайте остановимся на [sklearn.preprocessing.StandardScaler](https://scikit-learn.org/stable/modules/generated/sklearn.preprocessing.StandardScaler.html))\n",
        "\n",
        "В этом пункте вам нужно будет сделать класс такой предобработки данных, причём оформим мы его в виде класса с интерфейсом fit-transform.\n",
        "\n",
        "Несколько важных соображений:\n",
        "\n",
        "1. В прошлой лабораторной метод fit у нас ничего не возвращал, но правильнее сделать так, чтобы метод fit возвращал сам класс. В частности, это позволит нам писать model = model.fit().\n",
        "\n",
        "2. Первоначальный анализ данных удобно делать, когда они лежат в pd.DataFrame, т к у этого класса много методов, которые малым количеством телодвижений позволяют считать статистики и строить графики. Модели же проще учить, когда данные лежат в np.array, потому большое количество библиотек, где реализованы алгоритмы машинного обучения совместимы именно с numpy. Поэтому сделайте так, чтобы метод transform получал на вход pd.Dataframe, а возвращал np.array.\n",
        "\n",
        "3. В sklearn есть классы, от которых можно отнаследоваться, чтобы сделать класс с [fit-predict](https://scikit-learn.org/stable/modules/generated/sklearn.base.RegressorMixin.html#sklearn.base.RegressorMixin) или [fit-transform](https://scikit-learn.org/stable/modules/generated/sklearn.base.TransformerMixin.html) интерфейсом. Это очень полезно, т к позволит вам в дальнейшем пользоваться методами [GridSearchCV](https://scikit-learn.org/stable/modules/generated/sklearn.model_selection.GridSearchCV.html) и подобными. В этом пункте отнаследуйтесь от второго.\n",
        "\n",
        "4. У метода __init__ должен быть параметр ```needed_columns=None```. Туда передается список колонок, которые нужно взять из датафрейме. Делать это надо в ```fit``` и ```transform```. В случае если если он равен None, то класс оставляет все колонки из исходного набора данных.\n",
        "\n",
        "5. Обратите внимание, что достаточно реализовать `fit` и `transform`, а метод `fit_transform` из них слепит родительский класс.\n",
        "\n",
        "**Готовый препроцессор вам нужно будет сдать в Контест**"
      ]
    },
    {
      "cell_type": "code",
      "execution_count": null,
      "metadata": {
        "pycharm": {
          "name": "#%%\n"
        },
        "id": "6t2u0DEy-QQb"
      },
      "outputs": [],
      "source": [
        "class BaseDataPreprocessor(TransformerMixin):\n",
        "    def __init__(self, needed_columns: Optional[List[str]]=None):\n",
        "        \"\"\"\n",
        "        :param needed_columns: if not None select these columns from the dataframe\n",
        "        \"\"\"\n",
        "        self.scaler = StandardScaler()\n",
        "        self.needed_columns = needed_columns\n",
        "\n",
        "    def fit(self, data, *args):\n",
        "        \"\"\"\n",
        "        Prepares the class for future transformations\n",
        "        :param data: pd.DataFrame with all available columns\n",
        "        :return: self\n",
        "        \"\"\"\n",
        "        if self.needed_columns is not None:\n",
        "          data = data[self.needed_columns]\n",
        "          \n",
        "        self.scaler = self.scaler.fit(data)\n",
        "        return self\n",
        "\n",
        "    def transform(self, data: pd.DataFrame) -> np.array:\n",
        "        \"\"\"\n",
        "        Transforms features so that they can be fed into the regressors\n",
        "        :param data: pd.DataFrame with all available columns\n",
        "        :return: np.array with preprocessed features\n",
        "        \"\"\"\n",
        "        if self.needed_columns is not None:\n",
        "          data = data[self.needed_columns]\n",
        "\n",
        "        return self.scaler.transform(data)"
      ]
    },
    {
      "cell_type": "markdown",
      "metadata": {
        "id": "T_LcnM_L-QQc"
      },
      "source": [
        "**1. (1 балл)** Сдайте вашу реализацию в Контест, задача «Простая предобработка»."
      ]
    },
    {
      "cell_type": "code",
      "execution_count": null,
      "metadata": {
        "pycharm": {
          "name": "#%%\n"
        },
        "id": "nkR14lox-QQc"
      },
      "outputs": [],
      "source": [
        "preprocessor = BaseDataPreprocessor(needed_columns=continuous_columns)\n",
        "\n",
        "X_train = preprocessor.fit_transform(data_train)\n",
        "X_test = preprocessor.transform(data_test)"
      ]
    },
    {
      "cell_type": "markdown",
      "metadata": {
        "id": "8qGL0WYW-QQc"
      },
      "source": [
        "### 1.2 Умная предобработка данных"
      ]
    },
    {
      "cell_type": "markdown",
      "metadata": {
        "id": "xUVLhli2-QQc"
      },
      "source": [
        "Теперь давайте попробуем сделать что-нибудь поинтереснее. Для того, чтобы будущие алгоритмы регрессии работали хорошо, они должны обучаться и предсказывать на информативных фичах. Зачастую оказывается гораздо продуктивнее потратить какое-то время на изучение предметной области и придумывание хороших фичей (feature engineering), нежели жадно перебирать все известные алгоритмы машинного обучения.\n",
        "В этом пункте попробуйте придумать новых фичей и написать новый класс предобработки данных, который их добавляет (а, возможно, и убирает ещё какие-то старые).\n",
        "\n",
        "В конце этого пункта в раскрывашке перечислены наши идеи относительно того, что можно было добавить."
      ]
    },
    {
      "cell_type": "markdown",
      "metadata": {
        "id": "kie-P9zN-QQd"
      },
      "source": [
        "<details>\n",
        "  <summary>Пара простых идей. Кликните, когда будете готовы</summary>\n",
        "\n",
        "Например в датасете есть координаты квартиры, которые по идее сами по себе мало чего дают нашему регрессору. С другой стороны, по ним можно оценить центр города (или просто найти его на карте) и использовать в качестве фичи расстояние до центра города, которое может естественным образом влиять на цену жилья.\n",
        "\n",
        "Ещё может быть полезным почистить пропуски. И тут есть хитрость. Если вы просто вызовете data.info(), то вам покажется, что пропусков нет, но они могут приходить под разными обличьями. Например, у 490 объектов параметр Lot_Frontage (площадь фасада) равен нулю. Неожиданно, правда? Возможно, мы хотим эти нулевые значения заменить чем-нибудь, скажем, медианой.\n",
        "\n",
        "</details>\n"
      ]
    },
    {
      "cell_type": "markdown",
      "metadata": {
        "id": "W6QgHN0Z-QQd"
      },
      "source": [
        "### 2. Линейная регрессия"
      ]
    },
    {
      "cell_type": "markdown",
      "metadata": {
        "id": "BLCeKqnx-QQd"
      },
      "source": [
        "Давайте получим базовое решение (бейзлайн), чтобы потом с ним можно было сравниваться.\n",
        "\n",
        "Обучите линейную регрессию на обучающей выборке (которую мы подвергли преобразованию BaseDataPreprocessor). В библиотеке Sklearn есть релизация [без регуляризации](https://scikit-learn.org/stable/modules/generated/sklearn.linear_model.LinearRegression.html?highlight=linear%20regression), [с L2-регуляризацией](https://scikit-learn.org/stable/modules/generated/sklearn.linear_model.Ridge.html#sklearn.linear_model.Ridge) и [с L1-регуляризацией](https://scikit-learn.org/stable/modules/generated/sklearn.linear_model.Lasso).\n",
        "\n",
        "Начнём с обычной регрессии. Получите предсказания на тестовых данных и оцените на них качество модели. В качестве метрики оценки качества возьмите [средний модуль отклонения](https://scikit-learn.org/stable/modules/generated/sklearn.metrics.mean_absolute_error.html) (mean absolute error, MAE). Как вам кажется, насколько хорошей вышла модель?\n"
      ]
    },
    {
      "cell_type": "code",
      "execution_count": null,
      "metadata": {
        "pycharm": {
          "name": "#%%\n"
        },
        "id": "YTQB4lI5-QQd",
        "colab": {
          "base_uri": "https://localhost:8080/"
        },
        "outputId": "ba838058-35aa-4943-c486-24a64263e525"
      },
      "outputs": [
        {
          "output_type": "execute_result",
          "data": {
            "text/plain": [
              "23821.65908285539"
            ]
          },
          "metadata": {},
          "execution_count": 19
        }
      ],
      "source": [
        "from sklearn.metrics import mean_absolute_error\n",
        "\n",
        "reg = LinearRegression()\n",
        "reg = reg.fit(X_train, Y_train)\n",
        "\n",
        "pred = reg.predict(X_test)\n",
        "\n",
        "mean_absolute_error(Y_test, pred)"
      ]
    },
    {
      "cell_type": "markdown",
      "metadata": {
        "id": "hA_jtKk7-QQe"
      },
      "source": [
        "Теперь попробуйте L2-регуляризованную модель Ridge(). Какие значения метрик она даёт?"
      ]
    },
    {
      "cell_type": "code",
      "execution_count": null,
      "metadata": {
        "pycharm": {
          "name": "#%%\n"
        },
        "id": "PQpwJUOz-QQe",
        "colab": {
          "base_uri": "https://localhost:8080/"
        },
        "outputId": "23f1da06-16cb-4a66-9174-58287e6d430d"
      },
      "outputs": [
        {
          "output_type": "execute_result",
          "data": {
            "text/plain": [
              "23819.15791153566"
            ]
          },
          "metadata": {},
          "execution_count": 23
        }
      ],
      "source": [
        "from sklearn.linear_model import Ridge\n",
        "\n",
        "reg2 = Ridge(alpha=5)\n",
        "reg2 = reg2.fit(X_train, Y_train)\n",
        "\n",
        "pred2 = reg2.predict(X_test)\n",
        "\n",
        "mean_absolute_error(Y_test, pred2)"
      ]
    },
    {
      "cell_type": "markdown",
      "metadata": {
        "id": "hMP92zy3-QQe"
      },
      "source": [
        "В целом, регуляризация редко портит модель, но важно правильно подобрать коэффициент регуляризации. Как именно — поговорим дальше."
      ]
    },
    {
      "cell_type": "markdown",
      "metadata": {
        "id": "T3VeaQNr-QQe"
      },
      "source": [
        "### 3. Выбор метрики"
      ]
    },
    {
      "cell_type": "markdown",
      "metadata": {
        "id": "hZy_jpk2-QQe"
      },
      "source": [
        "Средний модуль ошибки (MAE) — в целом довольно хорошая метрика для задачи регрессии, потому что ее довольно легко проинтерпретировать. Но с ней есть одна проблема: ошибиться на $ 10 000 $ USD в предсказании цены квартиры стоимостью $ 100 000 $ USD страшнее чем допустить такую ошибку в предсказании цены жилья за $ 700 000 $ USD. Иными словами более показательной метрикой будет не абсолютная  ошибка $ error_i = |y_i - \\hat{y_i}|$, а логарифм относительной ошибки $error_i = log \\frac{y_i}{\\hat{y_i}} $. Также давайте обычное усреднение по всем примерам в тестовой выборке заменим на среднеквадратичное $ \\frac{1}{N} \\sum_i^{test} {error_i} \\longrightarrow \\sqrt{\\frac{1}{N} \\sum_i^{test}{(error_i)^2}}$. Итоговая метрика получается равной:\n",
        "\n",
        "$$\n",
        "Metric = \\sqrt{\\frac{1}{N} \\sum_{i=1}^{N} (log(y_i) - log(\\hat{y_i}))^2}\n",
        "$$\n",
        "\n",
        "Логично? Да. Но возникает еще одна проблема. Логарифм нельзя брать от отрицательного числа. Бороться с этим можно двумя способами.\n",
        "- Случай когда отрицательное число затисалось в target-ax не очень разумен, т. к. цена на дом не может быть отрицательной. В этом случае стоит кинуть ошибку, чтобы пользователь этой функции еще раз перепроверил правильные ли таргеты он подает.\n",
        "- В целом, у нас нет гарантий того, что наша модель (например линейная) предсказывает только положительные числа. Брать логарифм от отрицательного числа не получится, но качество такой модели все еще надо оценить. Давайте все предсказания, которые меньше некоторого порога $ a_{min} $, заменять этим порогом ($ \\hat{y_i} \\longleftarrow max(\\hat{y_i}, a_{min}) $), после чего подавать их в метрику. Для прохождения тестов возьмите $ a_{min} = 1 $.\n",
        "\n",
        "**2. (1 балл) Реализуйте эту метрику и сдайте в контест**."
      ]
    },
    {
      "cell_type": "code",
      "execution_count": null,
      "metadata": {
        "pycharm": {
          "name": "#%%\n"
        },
        "id": "R60UyX2l-QQe"
      },
      "outputs": [],
      "source": [
        "def root_mean_squared_logarithmic_error(y_true, y_pred, a_min=1.0):\n",
        "    if y_true.any() < 0:\n",
        "      raise Exception(\"Sorry, some numbers below zero\")\n",
        "    \n",
        "    y_pred = np.array(y_pred)\n",
        "    y_pred = np.where(y_pred > a_min, y_pred, a_min)\n",
        "    res = (np.log(y_true) - np.log(y_pred)) ** 2\n",
        "    res = res.sum()\n",
        "    return np.sqrt(res / len(y_true))\n"
      ]
    },
    {
      "cell_type": "markdown",
      "metadata": {
        "id": "EKFRmdcU-QQe"
      },
      "source": [
        "### 4. Логарифмирование таргета."
      ]
    },
    {
      "cell_type": "markdown",
      "metadata": {
        "id": "2SBf9HYH-QQe"
      },
      "source": [
        "Вообще идея с логарифмированием таргета довольно хороша для этой задачи. Давайте посмотрим на распределение обычных и логарифмированных таргетов."
      ]
    },
    {
      "cell_type": "code",
      "execution_count": null,
      "metadata": {
        "pycharm": {
          "name": "#%%\n"
        },
        "id": "Gut1j9xh-QQf"
      },
      "outputs": [],
      "source": [
        "def plot_target_distribution(Y_train, Y_test, ax, n_bins=20):\n",
        "    ax.hist(Y_train, bins=n_bins, label=\"train\", color=\"red\", alpha=0.3, density=True)\n",
        "    ax.hist(Y_test, bins=n_bins, label=\"test\", color=\"blue\", alpha=0.3, density=True)\n",
        "\n",
        "    ax.legend()\n",
        "    ax.set_xlabel(\"Value\")\n",
        "    ax.set_ylabel(\"Probability\")\n",
        "\n",
        "\n",
        "def plot_both_distributions(Y_train, Y_test):\n",
        "    fig, (ax0, ax1) = plt.subplots(ncols=2, nrows=1, figsize=(15, 6))\n",
        "\n",
        "    plot_target_distribution(Y_train, Y_test, ax=ax0)\n",
        "    ax0.set_title(\"Standard\")\n",
        "\n",
        "    plot_target_distribution(np.log(Y_train), np.log(Y_test), ax=ax1)\n",
        "    ax1.set_title(\"Logarithmic\")"
      ]
    },
    {
      "cell_type": "code",
      "execution_count": null,
      "metadata": {
        "pycharm": {
          "name": "#%%\n"
        },
        "id": "0Xkgt22i-QQf",
        "colab": {
          "base_uri": "https://localhost:8080/",
          "height": 404
        },
        "outputId": "a3041c4b-166d-46ec-c0aa-85e43ff24515"
      },
      "outputs": [
        {
          "output_type": "display_data",
          "data": {
            "text/plain": [
              "<Figure size 1080x432 with 2 Axes>"
            ],
            "image/png": "[encoded data removed]"
          },
          "metadata": {
            "needs_background": "light"
          }
        }
      ],
      "source": [
        "plot_both_distributions(Y_train, Y_test)"
      ]
    },
    {
      "cell_type": "markdown",
      "metadata": {
        "id": "GTTXfLwy-QQf"
      },
      "source": [
        "Как видите, если прологарифмировать таргеты, то их распределение станет более похоже на гауссовское. Интуиция подсказывает, что линейная регрессия с MSE loss-функцией должна лучше учиться на таких таргетах.\n",
        "\n",
        "Попробуйте написать класс, который во время обучения логарифмирует таргет, а во время предсказания — наоборот, экспоненциирует. После чего обучите оба метода на обучающих данных и сравните значения метрик MAE и MSLE на тесте."
      ]
    },
    {
      "cell_type": "markdown",
      "metadata": {
        "id": "bNsXMLyt-QQf"
      },
      "source": [
        "Что должно быть в этом классе:\n",
        "- Класс должен называться ```ExponentialLinearRegression```\n",
        "- Класс должен иметь такой же fit-predict интерфейс, как и было до этого. На вход он получает оригинальные X и Y, а уже внутри происходит логарифмирование или экспоненциирование.\n",
        "- Внутри этой модели будет работать [Ridge](https://scikit-learn.org/stable/modules/generated/sklearn.linear_model.Ridge.html). Хочется, чтобы этому классу можно было передавать аргументы инициализации с помощью *args и **kwargs\n",
        "- Чтобы потом этот класс можно было использовать в [GridSearchCV](https://scikit-learn.org/stable/modules/generated/sklearn.model_selection.GridSearchCV.html) в следующих пунктах, у него должны быть реализованы 5 методов\n",
        "    1. ```__init__(self, *args, **kwargs)``` - все полученные аргументы передаются дальше в Ridge.\n",
        "    2. ```fit(self, X, Y)``` - обучает класс, возвращает self.\n",
        "    3. ```predict(self, X)``` - делает предсказание.\n",
        "    4. ```get_params(deep=True)``` - возвращает dict с параметрами модели. Больще подробностей [здесь](https://scikit-learn.org/stable/modules/generated/sklearn.base.BaseEstimator.html)\n",
        "    5. ```set_params(**params)``` - передает нужные параметры в модель. Больше подробносте [здесь](https://scikit-learn.org/stable/modules/generated/sklearn.base.BaseEstimator.html)\n",
        "- Есть два подхода к тому как сделать все нужные методы:\n",
        "    - Отнаследоваться от класса Ridge и переопределить методы fit и predict, внутри вызывая super() от отцовского класса.\n",
        "    - Отнаследоваться от класса RegressorMixin и внутренним атрибутом класса сделать Ridge. Тогда все методы нужно будет писать руками."
      ]
    },
    {
      "cell_type": "code",
      "execution_count": null,
      "metadata": {
        "pycharm": {
          "name": "#%%\n"
        },
        "id": "wJgUYN6k-QQf"
      },
      "outputs": [],
      "source": [
        "class ExponentialLinearRegression(Ridge):\n",
        "    def init(self, alpha=1):\n",
        "        super().init(alpha=alpha)\n",
        "\n",
        "    def fit(self, X, Y):\n",
        "        super(ExponentialLinearRegression, self).fit(X, np.log(Y))\n",
        "        return self\n",
        "\n",
        "    def predict(self, X):\n",
        "        pred = super(ExponentialLinearRegression, self).predict(X)\n",
        "        return np.exp(pred)\n",
        "\n",
        "    def get_params(self, *args, **kwargs):\n",
        "        return super(ExponentialLinearRegression, self).get_params(*args, **kwargs)\n",
        "\n",
        "    def set_params(self, *args, **kwargs):\n",
        "        return super(ExponentialLinearRegression, self).set_params(*args, **kwargs)"
      ]
    },
    {
      "cell_type": "markdown",
      "metadata": {
        "id": "8CjKjD_b-QQf"
      },
      "source": [
        "**3. (1 балл) Реализуйте этот класс и сдайте в контест**."
      ]
    },
    {
      "cell_type": "code",
      "execution_count": null,
      "metadata": {
        "id": "bcX4LYye-QQg",
        "colab": {
          "base_uri": "https://localhost:8080/"
        },
        "outputId": "5c36d803-bfe3-4079-e5e0-72a1f44dc2f3"
      },
      "outputs": [
        {
          "output_type": "stream",
          "name": "stdout",
          "text": [
            "MAE  : Classic : 23821.97776100681  Exponential : 26818.6997865444\n",
            "MSLE : Classic : 0.1950062123328133 Exponential : 0.21601027716185434\n"
          ]
        }
      ],
      "source": [
        "classic_regressor = Ridge()\n",
        "exponential_regressor = ExponentialLinearRegression()\n",
        "\n",
        "classic_regressor.fit(X_train, Y_train)\n",
        "exponential_regressor.fit(X_train, Y_train)\n",
        "\n",
        "classic_prediction = classic_regressor.predict(X_test)\n",
        "exponential_prediction = exponential_regressor.predict(X_test)\n",
        "\n",
        "print(f\"MAE  : Classic : {mean_absolute_error(Y_test, classic_prediction)}  Exponential : {mean_absolute_error(Y_test, exponential_prediction)}\")\n",
        "print(f\"MSLE : Classic : {root_mean_squared_logarithmic_error(Y_test, classic_prediction)} Exponential : {root_mean_squared_logarithmic_error(Y_test, exponential_prediction)}\")"
      ]
    },
    {
      "cell_type": "markdown",
      "metadata": {
        "id": "m00_W_ps-QQg"
      },
      "source": [
        "Иногда получается так, что разные обученные вами модели приводят к улучшению одних метрик и ухудшению других. Это абсолютно нормально и этому не надо удивляться.\n",
        "\n",
        "Также зачастую случается так, что прирост по метрике не очень большой. И вы можете захотеть убедиться, что это реальное улучшение, а не просто случайная флуктуация. Для этого можно использовать подсчёт метрики про кросс-валидации (подробнее о ней можно почитать в соответствующей [главе учебника](https://ml-handbook.ru/chapters/cross_validation/intro)). Суть метода в следующем:\n",
        "\n",
        "- мы разбиваем (случайным образом!) доступную нам выборку на $K$ (часто $K=5$) частей, которые называются _фолдами_\n",
        "- мы обучаем нашу модель $K$ раз, уча на всех фолдах, кроме одного, а на этом одном тестируя\n",
        "- мы получаем $K$ значений метрики, которые вместе дают нам лучшее представление о том, как ведёт себя модель на разных разбиениях на трейн и тест. В качестве итоговой метрики можно, к примеру, взять среднее полученных значений\n",
        "\n",
        "Сделать всё это можно с помощью обёртки [cross_val_score](https://scikit-learn.org/stable/modules/generated/sklearn.model_selection.cross_val_score.html), в которую можно подать модель, датасет и интересующую вас метрику. При этом оценку по кросс-валидации можно делать на всей доступной у вас выборке (ибо кросс-валидация уже включает разбиение на трейн и тест).\n",
        "\n",
        "Вычислите оценки MAE по кросс-валидации обычной (не регуляризованной) линейной регрессии и ExponentialLinearRegression на объединении обучающей и тестовой выборок. \n",
        "\n",
        "**4. (1 балл) Посчитайте и сдайте две оценки по кросс-валидации в Контест**.\n",
        "\n",
        "Обратите внимание, что параметр scoring — это не совсем функция-метрика, а немного более сложный объект, который можно соорудить, например, с помощью обёртки [make_scorer](https://scikit-learn.org/stable/modules/generated/sklearn.metrics.make_scorer.html#sklearn.metrics.make_scorer).\n",
        "\n",
        "Также имейте в виду, что, вообще говоря, с дефолтным значением параметра `cv` кросс-валидация разбивает датасет на фолды детерминированным образом. Если вам нужно случайное разбиение, то в качестве cv стоит подать объект класса `sklearn.model_selection.KFold` или `sklearn.model_selection.StratifiedKFold`. Используйте\n",
        "\n",
        "```\n",
        "cv=KFold(n_splits=5, shuffle=True, random_state=42)\n",
        "```"
      ]
    },
    {
      "cell_type": "markdown",
      "metadata": {
        "pycharm": {
          "name": "#%% md\n"
        },
        "id": "ps2GnT38-QQg"
      },
      "source": [
        "Также при написании кода для кросс-валидации вам может пригодиться знание о пайплайнах.\n",
        "\n",
        "Представьте ситуацию. Прошел месяц с того момента, как вы построили модель, а теперь вам надо дообучить её на новых данных и активно применять для предсказания. Если вы не позаботились об инфраструктуре, то вам придётся рыскать по всему ноутбуку в поисках того, как вы предобрабатывали данные, какую модель учили, обязательно что-нибудь забудете и будете очень страдать. Поэтому человечество придумало пайплайны, которые позволяют объединить предобработку данных и обучение модели в один класс - pipeline. Его можно писать самому, либо взять из sklearn ([link](https://scikit-learn.org/stable/modules/generated/sklearn.pipeline.Pipeline.html))"
      ]
    },
    {
      "cell_type": "code",
      "source": [
        "scaler = StandardScaler()\n",
        "data_tr = scaler.fit_transform(data[continuous_columns])"
      ],
      "metadata": {
        "id": "d92JSU13tAcI"
      },
      "execution_count": null,
      "outputs": []
    },
    {
      "cell_type": "code",
      "source": [
        "X_train"
      ],
      "metadata": {
        "id": "L6htFsI8zoJX"
      },
      "execution_count": null,
      "outputs": []
    },
    {
      "cell_type": "code",
      "source": [
        "res_X = np.concatenate((X_train, X_test))\n",
        "res_y = np.concatenate((Y_train, Y_test))"
      ],
      "metadata": {
        "id": "QUejfjXjvhGV"
      },
      "execution_count": null,
      "outputs": []
    },
    {
      "cell_type": "code",
      "execution_count": null,
      "metadata": {
        "pycharm": {
          "name": "#%%\n"
        },
        "id": "v0ccJsqH-QQg",
        "colab": {
          "base_uri": "https://localhost:8080/"
        },
        "outputId": "ed82a2b3-eade-49eb-e94a-118aac255c8c"
      },
      "outputs": [
        {
          "output_type": "execute_result",
          "data": {
            "text/plain": [
              "-23223.642467321206"
            ]
          },
          "metadata": {},
          "execution_count": 60
        }
      ],
      "source": [
        "cv=KFold(n_splits=5, shuffle=True, random_state=42)\n",
        "from sklearn.metrics import fbeta_score, make_scorer\n",
        "from sklearn.model_selection import cross_val_score\n",
        "\n",
        "res = cross_val_score(estimator=LinearRegression(), X=res_X, y=res_y, cv=cv, scoring=make_scorer(mean_absolute_error, greater_is_better=False))\n",
        "\n",
        "np.mean(res)"
      ]
    },
    {
      "cell_type": "code",
      "source": [
        "cv=KFold(n_splits=5, shuffle=True, random_state=42)\n",
        "\n",
        "from sklearn.model_selection import cross_val_score\n",
        "\n",
        "res = cross_val_score(estimator=ExponentialLinearRegression(), X=res_X, y=res_y, cv=cv, scoring=make_scorer(mean_absolute_error, greater_is_better=False))\n",
        "\n",
        "np.mean(res)"
      ],
      "metadata": {
        "colab": {
          "base_uri": "https://localhost:8080/"
        },
        "id": "CuudE4-Crmfr",
        "outputId": "ae369004-43f4-437b-8ca8-0fce1d251b81"
      },
      "execution_count": null,
      "outputs": [
        {
          "output_type": "execute_result",
          "data": {
            "text/plain": [
              "-21166.681537752724"
            ]
          },
          "metadata": {},
          "execution_count": 61
        }
      ]
    },
    {
      "cell_type": "markdown",
      "metadata": {
        "id": "VeTmoAHm-QQg"
      },
      "source": [
        "### 5. Подбор гиперпараметров"
      ]
    },
    {
      "cell_type": "markdown",
      "metadata": {
        "id": "jVB1QIJZ-QQg"
      },
      "source": [
        "Линейную регрессию почти всегда можно улучшить с помощью регуляризации. Но при этом у нас возникает **гиперпараметр** — коэффициент регуляризации, и подбирать его нужно правильно. Более подробно о подборе гиперпараметров вы можете прочитать в соответствующей [главе учебника](https://ml-handbook.ru/chapters/hyperparameters_tuning/intro)), а пока мы разберём самые базовые подходы.\n",
        "\n",
        "В этой лабораторной вы познакомитесь с самым тривиальным способом — подбором по сетке. В данном случае это значит, что мы фиксируем несколько значений коэффициента регуляризации ```alpha``` и просто для каждого из них смотрим, что получится. Но важно отметить, что коэффициенты регуляризации стоит перебирать по _логарифмической_ сетке, например: `1e-2, 1e-1, 1, 1e+1, 1e+2`.\n",
        "\n",
        "Разобравшись, что перебирать, перейдём к вопросу о том, как оценивать. Есть два основных подхода:\n",
        "\n",
        "— Train-Val-Test split. Датасет делится на три части, на одной модели учатся, на другой подбираются гиперпараметры, на третьей считаются финальные метрики. Этот метод довольно шумный, зато быстрый.\n",
        "— Кроссвалидация. Она значительно дольше, но надёжней. В этом пункте мы воспользуемся именно ей.\n",
        "\n",
        "Возьмите класс [GridSearchCV](https://scikit-learn.org/stable/modules/generated/sklearn.model_selection.GridSearchCV.html) из scikit-learn и с его помощью подберите гиперпараметр ```alpha``` для линейной регрессии с L2-регуляризацией (соответствующий класс зовут Ridge). Возможно, для минимизации разных метрик (_root_mean_squared_logarithmic_error_ и _mean_absolute_error_) понадобятся разные значения гиперпараметров. Выберите из сетки ```np.logspace(-3, 3, num=7, base=10.)``` значение, которое максимизирует _root_mean_squared_logarithmic_error_ для _ExponentialLinearRegression_ и \n",
        "\n",
        "**5. (1 балл) Загрузите оптимальное значение коэффициента регуляризации в Контест**.\n",
        "\n",
        "Параметр `cv` оставьте дефолтным или возьмите `cv=5` (результат не поменяется). Будьте внимательны: по умолчанию `best_score_` у `GridSearchCV` - это _самое большое значение_. Чтобы не попасться в эту ловушку, обратите внимание на параметр `greater_is_better` функции `make_scorer`."
      ]
    },
    {
      "cell_type": "code",
      "execution_count": null,
      "metadata": {
        "pycharm": {
          "name": "#%%\n"
        },
        "id": "gIIJ7a70-QQg",
        "colab": {
          "base_uri": "https://localhost:8080/"
        },
        "outputId": "9669dd21-5bae-4272-a437-e0ec21a54dac"
      },
      "outputs": [
        {
          "output_type": "execute_result",
          "data": {
            "text/plain": [
              "{'alpha': 100.0}"
            ]
          },
          "metadata": {},
          "execution_count": 63
        }
      ],
      "source": [
        "params_grid = {\n",
        "    'alpha' : np.logspace(-3, 3, num=7, base=10.)\n",
        "}\n",
        "\n",
        "\n",
        "gs = GridSearchCV(estimator=ExponentialLinearRegression(), param_grid=params_grid, cv=5, scoring=make_scorer(root_mean_squared_logarithmic_error, greater_is_better=False))\n",
        "gs.fit(res_X, res_y)\n",
        "gs.best_params_"
      ]
    },
    {
      "cell_type": "markdown",
      "metadata": {
        "id": "e_OT0zfL-QQg"
      },
      "source": [
        "### 6. Линейная модель своими руками\n",
        "\n",
        "В этом разделе вы напишете собственный класс линейной модели, чтобы лучше разобраться, как работает обучение с помощью SGD."
      ]
    },
    {
      "cell_type": "markdown",
      "metadata": {
        "id": "C3yEWknf-QQg"
      },
      "source": [
        "Линейная модель делает предсказание по такой формуле:\n",
        "$$\n",
        "\\hat{y_i} = \\langle \\vec{w}, \\vec{x_i} \\rangle + b\n",
        "$$\n",
        "Здесь $\\vec{w}$ и b - обучаемые параметры. $\\vec{x_i}$ - вектор фичей данного примера.\n",
        "$\\vec{w}$ и b находятся из задачи минимизации лосс функции:\n",
        "\n",
        "$$\n",
        "\\vec{w}, b = {argmin}_{\\vec{w}, b}(L) \\ ; \\ L = \\frac{1}{N} \\sum_{i=1}^{N} (y_i - \\hat{y_i})^2 + \\lambda \\vec{w}^T\\vec{w}\n",
        "$$"
      ]
    },
    {
      "cell_type": "markdown",
      "metadata": {
        "id": "AIl45IJX-QQh"
      },
      "source": [
        "Задачу минимизации лосс функции мы будем решать градиентным спуском. Для этого надо найти градиенты лосса по параметром модели."
      ]
    },
    {
      "cell_type": "markdown",
      "metadata": {
        "id": "anYeOLXT-QQh"
      },
      "source": [
        "$$\n",
        "\\nabla_b L = \\frac{2}{N} sum(X \\vec{w} + b - \\vec{y})\\\\\n",
        "\\nabla_{\\vec{w}} L = \\frac{2}{N} X^T(X \\vec{w} + b - \\vec{y}) + 2\\lambda \\vec{w}\n",
        "$$"
      ]
    },
    {
      "cell_type": "markdown",
      "metadata": {
        "id": "tI5N8gLs-QQh"
      },
      "source": [
        "Теперь давайте реализуем этот алгоритм ввиде класса с методами fit-predict.\n",
        "Что в нем должно быть:\n",
        "1. Класс должен называться ```SGDLinearRegressor```\n",
        "2. Класс должен быть отнаследован от sklearn-овского класса [RegressorMixin](https://scikit-learn.org/stable/modules/generated/sklearn.base.RegressorMixin.html)\n",
        "3. Класс должен инициализироваться со следующими гиперпараметрами:\n",
        "\n",
        "    a. ```lr``` — learning rate. Длина шага градиентного спуска\n",
        "\n",
        "    b. ```regularization``` — коэффициент $\\lambda$ из формулы выше\n",
        "    \n",
        "    c. ```delta_converged``` — устанавливает условие окончание обучение. В тот момент когда норма разности весов на соседних шагах градиентного спуска меньше чем ```delta_converged``` алгоритм перкращает обновлять веса\n",
        "    \n",
        "    d. ```max_steps``` — максимальное число шагов градиентного спуска\n",
        "    \n",
        "    e. ```batch_size``` — размер батча\n",
        "\n",
        "4. Реализуйте **стохастический** градиентный спуск. На каждом шагу градиентного спуска должен формироваться батч размера ```batch_size``` из матрицы признаков. Это нужно для того чтобы алгоритм быстрее сходился. Батч может выбираться случайно на каждом шаге градиентного спуска, либо каждую эпоху можно перемешивать трейн выборку и итерироваться батчами по ней."
      ]
    },
    {
      "cell_type": "markdown",
      "metadata": {
        "pycharm": {
          "name": "#%% md\n"
        },
        "id": "Gysyy_Jk-QQh"
      },
      "source": [
        "Обратите внимание при реализации SGD на следующие моменты (частые ошибки):\n",
        "* не перепутайте, какие коэффициенты в SGD стоят при самой функции потерь, а какие — при регуляризационном члене. Правильный вариант: $\\frac{\\alpha}{batch\\_size}$ при градиенте MSE, $\\alpha\\lambda$ при градиенте регуляризатора.\n",
        "* для остановки нужно сравнивать норму, а не ее квадрат\n",
        "* для правильного решения нужно не итерироваться по батчу,  а перемножать матрицы (иначе не зайдет по TL)"
      ]
    },
    {
      "cell_type": "code",
      "execution_count": null,
      "metadata": {
        "pycharm": {
          "name": "#%%\n"
        },
        "id": "pKgmofZc-QQh"
      },
      "outputs": [],
      "source": [
        "class SGDLinearRegressor(RegressorMixin):\n",
        "    def __init__(self,\n",
        "                 lr=0.01, regularization=1., delta_converged=1e-2, max_steps=1000,\n",
        "                 batch_size=64):\n",
        "        self.lr = lr\n",
        "        self.regularization = regularization\n",
        "        self.max_steps = max_steps\n",
        "        self.delta_converged = delta_converged\n",
        "        self.batch_size = batch_size\n",
        "\n",
        "        self.W = None\n",
        "        self.b = None\n",
        "\n",
        "\n",
        "    def grad(self, X, y):\n",
        "        alpha = self.regularization * np.eye(self.W.shape[0])\n",
        "        y = np.array(y)\n",
        "        alpha[-1, -1] = 0\n",
        "        grad = 2 * X.T @ X @ self.W / self.batch_size + 2 * alpha @ self.W -  2 * X.T @ y / self.batch_size\n",
        "        return grad\n",
        "\n",
        "\n",
        "    def fit(self, X, Y):\n",
        "        X_copy = np.hstack((X, np.ones((X.shape[0], 1))))\n",
        "        self.W = np.random.random(X.shape[1] + 1) \n",
        "\n",
        "        for i in range(self.max_steps):\n",
        "          batch = np.random.choice(range(X_copy.shape[0]), size=self.batch_size, replace=False)\n",
        "          gradient = self.grad(X_copy[batch], Y[batch])\n",
        "          self.W = self.W - self.lr * gradient\n",
        "          \n",
        "          if np.linalg.norm(gradient) * self.lr < self.delta_converged:\n",
        "            break\n",
        "\n",
        "        self.b = self.W[-1]\n",
        "        self.W = self.W[:-1]\n",
        "\n",
        "        return self\n",
        "        \n",
        "\n",
        "    def predict(self, X):\n",
        "\n",
        "        return  X @ self.W + self.b"
      ]
    },
    {
      "cell_type": "code",
      "source": [
        "from numpy.linalg import norm\n",
        "\n",
        "class SGDLinearRegressor(RegressorMixin):\n",
        "    def __init__(self,\n",
        "                 lr=0.01, regularization=1., delta_converged=1e-3, max_steps=1000,\n",
        "                 batch_size=64):\n",
        "        self.lr = lr\n",
        "        self.regularization = regularization\n",
        "        self.max_steps = max_steps\n",
        "        self.delta_converged = delta_converged\n",
        "        self.batch_size = batch_size\n",
        "        self.W = None\n",
        "        self.b = None\n",
        "\n",
        "    def gradient(self, X, Y):\n",
        "        \n",
        "        Y = np.array(Y)\n",
        "        alpha = self.regularization * np.eye(self.W.shape[0])\n",
        "        alpha[-1, -1] = 0\n",
        "\n",
        "        grad = 2 * X.T @ X @ self.W / self.batch_size + 2 * alpha @ self.W\n",
        "        grad -= 2 * X.T @ Y / self.batch_size\n",
        "        return grad\n",
        "\n",
        "    def fit(self, X, Y):\n",
        "        X_copy = np.hstack((X, np.ones((X.shape[0], 1))))\n",
        "        self.W = np.random.random(X.shape[1] + 1) \n",
        "\n",
        "        for i in range(self.max_steps):\n",
        "            batch = np.random.choice(np.arange(X.shape[0]), size=self.batch_size, replace=False)\n",
        "            grad = self.gradient(X_copy[batch], Y[batch])\n",
        "            self.W -= self.lr * grad\n",
        "            if norm(grad) * self.lr < self.delta_converged:\n",
        "              break\n",
        "\n",
        "        self.b = self.W[-1]\n",
        "        self.W = self.W[:-1]\n",
        "\n",
        "    def predict(self, X):\n",
        "        return X @ self.W + self.b"
      ],
      "metadata": {
        "id": "KucMPMHqM3fJ"
      },
      "execution_count": null,
      "outputs": []
    },
    {
      "cell_type": "code",
      "execution_count": null,
      "metadata": {
        "pycharm": {
          "name": "#%%\n"
        },
        "id": "4eF4g7Wg-QQh",
        "colab": {
          "base_uri": "https://localhost:8080/"
        },
        "outputId": "75e47ce5-36ca-4c8d-8c96-597ca597abd9"
      },
      "outputs": [
        {
          "output_type": "stream",
          "name": "stdout",
          "text": [
            "(586,) (586,)\n",
            "MAE :  25470.17093757239\n",
            "Mean log :  0.1871218253234236\n"
          ]
        }
      ],
      "source": [
        "# Check yourself\n",
        "\n",
        "model = SGDLinearRegressor()\n",
        "model.fit(X_train, Y_train)\n",
        "\n",
        "prediction = model.predict(X_test)\n",
        "print(Y_test.shape, prediction.shape)\n",
        "print(\"MAE : \", mean_absolute_error(Y_test, prediction))\n",
        "print(\"Mean log : \", root_mean_squared_logarithmic_error(Y_test, prediction))"
      ]
    },
    {
      "cell_type": "markdown",
      "metadata": {
        "id": "r0iZbZxf-QQh"
      },
      "source": [
        "### 7. Категориальные признаки"
      ]
    },
    {
      "cell_type": "markdown",
      "metadata": {
        "id": "DG55GUjh-QQh"
      },
      "source": [
        "В самом начале ноутбука мы отбросили категориальные фичи, хотя они могут помочь нам сделать модель лучше. Давайте же научимся ими пользоваться.\n",
        "\n",
        "Самый простой подход — это закодировать значения категориального признака числами, скажем, от $0$ до $C-1$, где $C$ — количество значений категориального признака. Иногда это может сработать, но для этого нужно, чтобы между значениями признака были определены отношения больше/меньше (такие признаки называются _ординальными_), причём соотношения между значениями должны быть более-менее линейными. В целом, не очень частая ситуация, поэтому так мы делать не будем.\n",
        "\n",
        "Вместо этого мы будем использовать OneHotEncoding. Пусть некоторая категориальная фича имеет $C$ уникальных значений. Давайте эту фичу закодируем в виде $C$ столбцов, каждый из которых соответствует некоторому уникальному значению категориальной фичи. Для каждого элемента выборки будем класть единичку в столбец, соответствующий этой фиче, и нолики в остальные.\n",
        "\n",
        "У этого метода есть недостаток. Если категориальная фича принимает слишком много значений, то вы нагенерируете много новых столбцов, каждый из которых будет содержать мало информации. Из-за них моделька может переобучиться.\n",
        "\n",
        "Этот метод имплементирован [здесь](https://scikit-learn.org/stable/modules/generated/sklearn.preprocessing.OneHotEncoder.html). У него есть пара важных гиперпараметров, которые стоит упомянуть:\n",
        "- ```handle_unknown``` - управляет обработкой незнакомых категорий на этапе `transform`. Число уникальных значений (и число столбцов) настраивается на обучающей выборке, и при дальнейшем применении может появиться значение, которого ещё не было. Если указать ```handle_unknown=\"ignore\"```, все поля для такого объекта будут заполнены нулями.\n",
        "- ```drop``` - если делать one-hot-encoding так как это описано выше, то сумма всех столбцов, соответствующих значениям категориальной фичи, будет равна единичному вектору. А такой вектор уже есть (он соответствует свободному члену). То есть признаки становятся линейно зависимыми, и это сломает процесс обучения линейной модели. Поэтому есть смысл для каждой фичи отбрасывать одну из получившихся колонок (```drop=\"first\"```) или хотя бы делать это только для бинарных фичей (```drop=\"if_binary\"```)"
      ]
    },
    {
      "cell_type": "markdown",
      "metadata": {
        "id": "WaM96mnn-QQi"
      },
      "source": [
        "В этом пункте вам надо еще раз предобработать данные, добавив в них часть категориальных фичей, закодированных OneHotEncoding-ом. После этого обучите классификатор заново и выбейте лучшую метрику на тестовой выборке. А именно, мы добавим фичи \"Overall_Qual\", \"Garage_Qual\", \"Sale_Condition\", \"MS_Zoning\". Используйте значение параметра handle_unknown=\"ignore\".\n",
        "\n",
        "*На практике в некоторых версиях scikit-learn есть проблема с совместимостью `handle_unknown=\"ignore\"` и `drop=\"first\"` одновременно, поэтому вторым можно пожертвовать.\n",
        "\n",
        "Класс будет наследоваться от BaseDataPreprocessor, так что в него можно будет передавать нужные для BaseDataPreprocessor параметры. Также это позволит не переписывать заново то, что происходит в базовом классе, а просто взывать к ним с помощью конструкции `super`."
      ]
    },
    {
      "cell_type": "code",
      "execution_count": null,
      "metadata": {
        "pycharm": {
          "name": "#%%\n"
        },
        "id": "zsUBFqJd-QQi"
      },
      "outputs": [],
      "source": [
        "interesting_columns = [\"Overall_Qual\", \"Garage_Qual\", \"Sale_Condition\", \"MS_Zoning\"]\n",
        "\n",
        "class OneHotPreprocessor(BaseDataPreprocessor):\n",
        "    def __init__(self, **kwargs):\n",
        "        super(OneHotPreprocessor, self).__init__(**kwargs)\n",
        "        ## <YOUR CODE HERE>\n",
        "\n",
        "    def fit(self, data, *args):\n",
        "        ## <YOUR CODE HERE>\n",
        "\n",
        "    def transform(self, data):\n",
        "        ## <YOUR CODE HERE>"
      ]
    },
    {
      "cell_type": "markdown",
      "metadata": {
        "id": "B7mHVxi8-QQi"
      },
      "source": [
        "Обучите модель с добавленными категориальными фичами. Получилось ли улучшить её качество?"
      ]
    },
    {
      "cell_type": "markdown",
      "metadata": {
        "id": "hbK5HMKe-QQi"
      },
      "source": [
        "### 8. Pipeline"
      ]
    },
    {
      "cell_type": "markdown",
      "metadata": {
        "id": "a5Tb61cc-QQi"
      },
      "source": [
        "Представьте ситуацию. Прошел месяц с того момента, как вы построили модель, а теперь вам надо дообучить её на новых данных и активно применять для предсказания. Если вы не позаботились об инфраструктуре, то вам придётся рыскать по всему ноутбуку в поисках того, как вы предобрабатывали данные, какую модель учили, обязательно что-нибудь забудете и будете очень страдать. Поэтому человечество придумало пайплайны, которые позволяют объединить предобработку данных и обучение модели в один класс — pipeline. Его можно писать самому, либо взять из sklearn ([link](https://scikit-learn.org/stable/modules/generated/sklearn.pipeline.Pipeline.html)).\n",
        "\n",
        "**7. Напишите пайплайн, объединяющий использованную нами базовую предобработку данных (BaseDataPreprocessor и OneHotPreprocessor), а также линейную регрессию с L2-регуляризацией, и сдайте его в Контест.**"
      ]
    },
    {
      "cell_type": "code",
      "execution_count": null,
      "metadata": {
        "pycharm": {
          "name": "#%%\n"
        },
        "id": "G5NE74wf-QQi"
      },
      "outputs": [],
      "source": [
        "continuous_columns = ['Lot_Frontage',\n",
        " 'Lot_Area',\n",
        " 'Year_Built',\n",
        " 'Year_Remod_Add',\n",
        " 'Mas_Vnr_Area',\n",
        " 'Bsmt_Unf_SF',\n",
        " 'Total_Bsmt_SF',\n",
        " 'First_Flr_SF',\n",
        " 'Gr_Liv_Area',\n",
        " 'TotRms_AbvGrd',\n",
        " 'Garage_Area',\n",
        " 'Wood_Deck_SF',\n",
        " 'Open_Porch_SF',\n",
        " 'Mo_Sold',\n",
        " 'Longitude',\n",
        " 'Latitude']\n",
        "\n",
        "categorical_columns = ['MS_SubClass',\n",
        " 'MS_Zoning',\n",
        " 'Lot_Shape',\n",
        " 'Lot_Config',\n",
        " 'Neighborhood',\n",
        " 'House_Style',\n",
        " 'Overall_Qual',\n",
        " 'Overall_Cond',\n",
        " 'Roof_Style',\n",
        " 'Exterior_1st',\n",
        " 'Exterior_2nd',\n",
        " 'Mas_Vnr_Type',\n",
        " 'Exter_Qual',\n",
        " 'Foundation',\n",
        " 'Bsmt_Qual',\n",
        " 'Bsmt_Exposure',\n",
        " 'BsmtFin_Type_1',\n",
        " 'Heating_QC',\n",
        " 'Kitchen_Qual',\n",
        " 'Fireplace_Qu',\n",
        " 'Garage_Type',\n",
        " 'Garage_Finish',\n",
        "  'Year_Sold',\n",
        "   'Garage_Cars',\n",
        "    'Fireplaces',\n",
        "     'Bedroom_AbvGr',\n",
        "      'Half_Bath',\n",
        "       'Full_Bath',\n",
        "        'Bsmt_Full_Bath',\n",
        "         'BsmtFin_SF_1',\n",
        "\n",
        "  ]\n",
        "\n",
        "\n",
        "\n",
        "class PipelineDataPreprocessor(TransformerMixin):\n",
        "    def __init__(self, categorical_cols, continuous_cols):\n",
        "        self.categ = categorical_cols\n",
        "        self.contin = continuous_cols\n",
        "        self.encoder = OneHotEncoder()\n",
        "        self.scaler = StandardScaler()\n",
        "        \n",
        "\n",
        "    def fit(self, data, *args):\n",
        "        data = data[data['Longitude'] <= -93.60]\n",
        "        data = data[data['Lot_Area'] <= 200000]\n",
        "        self.scaler.fit(np.array(data[self.contin]))\n",
        "        self.OneHot.fit(np.array(data[self.categ]))\n",
        "        return self\n",
        "    \n",
        "    def transform(self, data):\n",
        "        data_contin = self.scaler.transform(data[self.contin].to_numpy())\n",
        "        data_categ= self.OneHot.transform(data[self.categ].to_numpy).toarray()\n",
        "        return np.hstack(data_contin, data_categ)\n",
        "\n",
        "    \n",
        "def root_mean_squared_logarithmic_error(y_true, y_pred, a_min=1.0):\n",
        "    if y_true.any() < 0:\n",
        "      raise Exception(\"Sorry, some numbers below zero\")\n",
        "    \n",
        "    y_pred = np.array(y_pred)\n",
        "    y_pred = np.where(y_pred > a_min, y_pred, a_min)\n",
        "    res = (np.log(y_true) - np.log(y_pred)) ** 2\n",
        "    res = res.sum()\n",
        "    return np.sqrt(res / len(y_true))\n",
        "\n",
        "\n",
        "def make_ultimate_pipeline():\n",
        "    params_grid = {\n",
        "        'alpha' : np.logspace(-3, 3, num = 7, base = 10)\n",
        "    }\n",
        "\n",
        "    pipe = Pipeline([('preproc', PipelineDataPreprocessor(categorical_columns, continuous_columns)),\n",
        "        ('model', GridSearchCV(estimator= ExponentialLinearRegression(),\n",
        "                               param_grid = params_grid,\n",
        "                               cv = 5,\n",
        "                               scoring = metrics.make_scorer(root_mean_squared_logarithmic_error, greater_is_better = False)\n",
        "                               ))])\n",
        "    \n",
        "    return pipe"
      ]
    },
    {
      "cell_type": "code",
      "source": [
        "b = make_ultimate_pipeline()\n",
        "b"
      ],
      "metadata": {
        "id": "Vb6X3u29f2ai",
        "outputId": "d1c71668-c934-412c-dc1c-9bfca76c083e",
        "colab": {
          "base_uri": "https://localhost:8080/"
        }
      },
      "execution_count": null,
      "outputs": [
        {
          "output_type": "execute_result",
          "data": {
            "text/plain": [
              "Pipeline(steps=[('preproc',\n",
              "                 <__main__.PipelineDataPreprocessor object at 0x7f30af777710>),\n",
              "                ('model',\n",
              "                 GridSearchCV(cv=5, estimator=ExponentialLinearRegression(),\n",
              "                              param_grid={'alpha': array([1.e-03, 1.e-02, 1.e-01, 1.e+00, 1.e+01, 1.e+02, 1.e+03])},\n",
              "                              scoring=make_scorer(root_mean_squared_logarithmic_error, greater_is_better=False)))])"
            ]
          },
          "metadata": {},
          "execution_count": 291
        }
      ]
    },
    {
      "cell_type": "code",
      "source": [
        "continuous_columns = [key for key in data.keys() if data[key].dtype in (\"int64\", \"float64\")]\n",
        "categorical_columns = [key for key in data.keys() if data[key].dtype == \"object\"]"
      ],
      "metadata": {
        "id": "OAXHsQcyYiQh"
      },
      "execution_count": null,
      "outputs": []
    },
    {
      "cell_type": "code",
      "source": [
        "categorical_columns = ['MS_SubClass',\n",
        " 'MS_Zoning',\n",
        " 'Lot_Shape',\n",
        " 'Lot_Config',\n",
        " 'Neighborhood',\n",
        " 'House_Style',\n",
        " 'Overall_Qual',\n",
        " 'Overall_Cond',\n",
        " 'Roof_Style',\n",
        " 'Exterior_1st',\n",
        " 'Exterior_2nd',\n",
        " 'Mas_Vnr_Type',\n",
        " 'Exter_Qual',\n",
        " 'Foundation',\n",
        " 'Bsmt_Qual',\n",
        " 'Bsmt_Exposure',\n",
        " 'BsmtFin_Type_1',\n",
        " 'Heating_QC',\n",
        " 'Kitchen_Qual',\n",
        " 'Fireplace_Qu',\n",
        " 'Garage_Type',\n",
        " 'Garage_Finish',\n",
        "  'Year_Sold',\n",
        "   'Garage_Cars',\n",
        "    'Fireplaces',\n",
        "     'Bedroom_AbvGr',\n",
        "      'Half_Bath',\n",
        "       'Full_Bath',\n",
        "        'Bsmt_Full_Bath',\n",
        "         'BsmtFin_SF_1',\n",
        "\n",
        "  ]"
      ],
      "metadata": {
        "id": "AKXRz-ppZ_UA"
      },
      "execution_count": null,
      "outputs": []
    },
    {
      "cell_type": "code",
      "source": [
        "continuous_columns = ['Lot_Frontage',\n",
        " 'Lot_Area',\n",
        " 'Year_Built',\n",
        " 'Year_Remod_Add',\n",
        " 'Mas_Vnr_Area',\n",
        " 'Bsmt_Unf_SF',\n",
        " 'Total_Bsmt_SF',\n",
        " 'First_Flr_SF',\n",
        " 'Second_Flr_SF',\n",
        " 'Gr_Liv_Area',\n",
        " 'TotRms_AbvGrd',\n",
        " 'Garage_Area',\n",
        " 'Wood_Deck_SF',\n",
        " 'Open_Porch_SF',\n",
        " 'Mo_Sold',\n",
        " 'Sale_Price',\n",
        " 'Longitude',\n",
        " 'Latitude']"
      ],
      "metadata": {
        "id": "yfX-k9qaY7Ou"
      },
      "execution_count": null,
      "outputs": []
    },
    {
      "cell_type": "code",
      "source": [
        "for cat in continuous_columns:\n",
        "\n",
        "  plt.figure(figsize=(16, 10))\n",
        "  plt.hist(data[cat], bins=20)\n",
        "  plt.title(cat)\n"
      ],
      "metadata": {
        "colab": {
          "base_uri": "https://localhost:8080/",
          "height": 1000
        },
        "id": "f2795V9MYjhG",
        "outputId": "0d56dd6c-6fc8-460b-efc0-9406ee98cfff"
      },
      "execution_count": null,
      "outputs": [
        {
          "output_type": "display_data",
          "data": {
            "text/plain": [
              "<Figure size 1152x720 with 1 Axes>"
            ],
            "image/png": "[encoded data removed]"
          },
          "metadata": {
            "needs_background": "light"
          }
        },
        {
          "output_type": "display_data",
          "data": {
            "text/plain": [
              "<Figure size 1152x720 with 1 Axes>"
            ],
            "image/png": "[encoded data removed]"
          },
          "metadata": {
            "needs_background": "light"
          }
        },
        {
          "output_type": "display_data",
          "data": {
            "text/plain": [
              "<Figure size 1152x720 with 1 Axes>"
            ],
            "image/png": "[encoded data removed]"
          },
          "metadata": {
            "needs_background": "light"
          }
        },
        {
          "output_type": "display_data",
          "data": {
            "text/plain": [
              "<Figure size 1152x720 with 1 Axes>"
            ],
            "image/png": "[encoded data removed]"
          },
          "metadata": {
            "needs_background": "light"
          }
        },
        {
          "output_type": "display_data",
          "data": {
            "text/plain": [
              "<Figure size 1152x720 with 1 Axes>"
            ],
            "image/png": "[encoded data removed]"
          },
          "metadata": {
            "needs_background": "light"
          }
        },
        {
          "output_type": "display_data",
          "data": {
            "text/plain": [
              "<Figure size 1152x720 with 1 Axes>"
            ],
            "image/png": "[encoded data removed]"
          },
          "metadata": {
            "needs_background": "light"
          }
        },
        {
          "output_type": "display_data",
          "data": {
            "text/plain": [
              "<Figure size 1152x720 with 1 Axes>"
            ],
            "image/png": "[encoded data removed]"
          },
          "metadata": {
            "needs_background": "light"
          }
        },
        {
          "output_type": "display_data",
          "data": {
            "text/plain": [
              "<Figure size 1152x720 with 1 Axes>"
            ],
            "image/png": "[encoded data removed]"
          },
          "metadata": {
            "needs_background": "light"
          }
        },
        {
          "output_type": "display_data",
          "data": {
            "text/plain": [
              "<Figure size 1152x720 with 1 Axes>"
            ],
            "image/png": "[encoded data removed]"
          },
          "metadata": {
            "needs_background": "light"
          }
        },
        {
          "output_type": "display_data",
          "data": {
            "text/plain": [
              "<Figure size 1152x720 with 1 Axes>"
            ],
            "image/png": "[encoded data removed]"
          },
          "metadata": {
            "needs_background": "light"
          }
        },
        {
          "output_type": "display_data",
          "data": {
            "text/plain": [
              "<Figure size 1152x720 with 1 Axes>"
            ],
            "image/png": "[encoded data removed]"
          },
          "metadata": {
            "needs_background": "light"
          }
        },
        {
          "output_type": "display_data",
          "data": {
            "text/plain": [
              "<Figure size 1152x720 with 1 Axes>"
            ],
            "image/png": "[encoded data removed]"
          },
          "metadata": {
            "needs_background": "light"
          }
        },
        {
          "output_type": "display_data",
          "data": {
            "text/plain": [
              "<Figure size 1152x720 with 1 Axes>"
            ],
            "image/png": "[encoded data removed]"
          },
          "metadata": {
            "needs_background": "light"
          }
        },
        {
          "output_type": "display_data",
          "data": {
            "text/plain": [
              "<Figure size 1152x720 with 1 Axes>"
            ],
            "image/png": "[encoded data removed]"
          },
          "metadata": {
            "needs_background": "light"
          }
        },
        {
          "output_type": "display_data",
          "data": {
            "text/plain": [
              "<Figure size 1152x720 with 1 Axes>"
            ],
            "image/png": "[encoded data removed]"
          },
          "metadata": {
            "needs_background": "light"
          }
        },
        {
          "output_type": "display_data",
          "data": {
            "text/plain": [
              "<Figure size 1152x720 with 1 Axes>"
            ],
            "image/png": "[encoded data removed]"
          },
          "metadata": {
            "needs_background": "light"
          }
        },
        {
          "output_type": "display_data",
          "data": {
            "text/plain": [
              "<Figure size 1152x720 with 1 Axes>"
            ],
            "image/png": "[encoded data removed]"
          },
          "metadata": {
            "needs_background": "light"
          }
        },
        {
          "output_type": "display_data",
          "data": {
            "text/plain": [
              "<Figure size 1152x720 with 1 Axes>"
            ],
            "image/png": "[encoded data removed]"
          },
          "metadata": {
            "needs_background": "light"
          }
        }
      ]
    },
    {
      "cell_type": "markdown",
      "metadata": {
        "id": "mnENtpEM-QQi"
      },
      "source": [
        "В этом пункте вы попробуете сделать что-то поинтереснее и загрузите плоды выших трудов в Контест.\n",
        "\n",
        "Попробуйте усовершенствовать предобработку данных, добавляя или выкидывая фичи, придумывая функции от признаков так, чтобы улучшить качество классификатора.\n",
        "\n",
        "Ещё несколько базовых идей о том, что можно было бы попробовать:\n",
        "\n",
        "- Постройте гистограммы значений признаков. Вы обнаружите, что некоторые из них почти всегда принимают одно и то же значение. Для начала их можно просто выкинуть.\n",
        "- Почистите выбросы. У некоторых объектов значения каких-то признаков могут сильно выбиваться, и это будет мешать регрессии обучиться. Вообще говоря, такие объекты можно выкидывать, но с текущей архитектурой пайплайна вам будет трудно это настроить. Так что вы можете пока заменять их на более разумные значения.\n",
        "- Мы добавили лишь несколько категориальных признаков, а на самом деле многие из них могут быть полезными.\n",
        "- Можно дискретизовать непрерывные фичи. Самый банальный пример: если непрерывная фича принимает всего несколько значений, её можно попробовать проинтерпретировать, как категориальную, и подать в one-hot энкодер. Но можно и как-то ещё разбивать по порогам.\n",
        "- Можно делать и более сложные преобразования. Например в датасете есть координаты квартиры, которые по идее сами по себе мало чего дают нашему регрессору. С другой стороны, по ним можно оценить центр города (или просто найти его на карте) и использовать в качестве фичи расстояние до центра города, которое может естественным образом влиять на цену жилья.\n",
        "- Не забывайте настраивать коэффициент регуляризации: для разных датасетов оптимальное значение будет разным.\n",
        "\n",
        "**В контест вам нужно будет сдать свой класс модели**. Он будет обучаться и тестироваться на новом и неизвестном вам разбиении датасета на трейн и тест по метрике `root_mean_squared_logarithmic_error`. За значение метрики 0.185 вы получите 1 балл (метрика будет округляться до трёх знаков после запятой). Для этого должно быть достаточно нормально написать OneHotPreprocessor и использовать ExponentialLinearRegression с правильно подобранным коэффициентом регуляризации. Если вам удалось получить метрику меньше, то вы получите\n",
        "\n",
        "`1 + min(1, (0.19 - x) / (0.19 - 0.15))`\n",
        "\n",
        "балла.\n",
        "\n",
        "В контесте будет специально проверено, что вы сдаёте именно `Pipeline`.\n",
        "\n",
        "Не забывайте, что вместе с пайплайном вам нужно отправить и все самописные классы, которые в нём участвуют.\n"
      ]
    }
  ],
  "metadata": {
    "kernelspec": {
      "display_name": "Python 3 (ipykernel)",
      "language": "python",
      "name": "python3"
    },
    "language_info": {
      "codemirror_mode": {
        "name": "ipython",
        "version": 3
      },
      "file_extension": ".py",
      "mimetype": "text/x-python",
      "name": "python",
      "nbconvert_exporter": "python",
      "pygments_lexer": "ipython3",
      "version": "3.8.10"
    },
    "colab": {
      "provenance": []
    }
  },
  "nbformat": 4,
  "nbformat_minor": 0
}