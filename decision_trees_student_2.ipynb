{
  "cells": [
    {
      "cell_type": "markdown",
      "id": "0b301fac",
      "metadata": {
        "id": "0b301fac"
      },
      "source": [
        "## Лабораторная работа 6. Решающие деревья"
      ]
    },
    {
      "cell_type": "markdown",
      "id": "f8220c6a",
      "metadata": {
        "id": "f8220c6a"
      },
      "source": [
        "В этой домашке мы будем работать с набором данных с платформы kaggle в формате соревнования и по ходу этой и следующей лабораторной работы узнаем как правильно организовать решение соревнования, чтобы удобно было воспользоваться техниками ансамблирования решений и адекватно оценить какие идеи в нашем решении привели к улучшениям нашего итогового результата.\n",
        "\n",
        "Кроме того, в этой домашке мы познакомимся с новыми классами моделей — деревьями и случайными лесами.\n",
        "\n",
        "План такой:\n",
        "* Пишем новые модели, над которыми будем экспериментировать\n",
        "* Пишем пайплайн для ведения и сравнения экспериментов\n",
        "* Мучаем наши новые модели и модели, которые мы уже знаем, для достижения высокого качества на тестовой выборке\n",
        "* Применяем ансамблирование и получаем топовый результат\n",
        "\n",
        "Ссылка на Контест:\n",
        "https://contest.yandex.ru/contest/40099/problems/"
      ]
    },
    {
      "cell_type": "code",
      "execution_count": null,
      "id": "e1e296ec",
      "metadata": {
        "id": "e1e296ec"
      },
      "outputs": [],
      "source": [
        "import contextlib\n",
        "import enum\n",
        "import json\n",
        "import os\n",
        "import pathlib\n",
        "import typing as tp\n",
        "import uuid\n",
        "\n",
        "import numpy as np\n",
        "import pandas as pd\n",
        "import sklearn\n",
        "from scipy.stats import mode\n",
        "from sklearn.metrics._scorer import _check_multimetric_scoring\n",
        "from sklearn.model_selection._validation import _score\n",
        "from collections import Counter\n",
        "\n",
        "class NodeType(enum.Enum):\n",
        "    REGULAR = 1\n",
        "    TERMINAL = 2"
      ]
    },
    {
      "cell_type": "markdown",
      "id": "f696ca9d",
      "metadata": {
        "id": "f696ca9d"
      },
      "source": [
        "**1. (1 балл)** Загрузите в Контест решение первой задачи (см. файл `src.py`)."
      ]
    },
    {
      "cell_type": "code",
      "execution_count": null,
      "id": "ee4facc1",
      "metadata": {
        "id": "ee4facc1"
      },
      "outputs": [],
      "source": [
        "def gini(y: np.ndarray) -> float:\n",
        "    \"\"\"\n",
        "    Computes Gini index for given set of labels\n",
        "    :param y: labels\n",
        "    :return: Gini impurity\n",
        "    \"\"\"\n",
        "    #raise NotImplementedError(\"COMPLETE THIS FUNCTION\")\n",
        "    unique, counts = np.unique(y, return_counts=True)\n",
        "    v = np.array(counts) / float(len(y))\n",
        "    gini = np.sum(np.array([(1-p)*p for p in v]))\n",
        "    return gini"
      ]
    },
    {
      "cell_type": "markdown",
      "id": "f99118dc",
      "metadata": {
        "id": "f99118dc"
      },
      "source": [
        "**2. (1 балл)** Загрузите в Контест решение второй задачи (см. файл `src.py`)."
      ]
    },
    {
      "cell_type": "code",
      "execution_count": null,
      "id": "99090ed3",
      "metadata": {
        "id": "99090ed3"
      },
      "outputs": [],
      "source": [
        "def weighted_impurity(y_left: np.ndarray, y_right: np.ndarray) -> \\\n",
        "        tp.Tuple[float, float, float]:\n",
        "    \"\"\"\n",
        "    Computes weighted impurity by averaging children impurities\n",
        "    :param y_left: left  partition\n",
        "    :param y_right: right partition\n",
        "    :return: averaged impurity, left child impurity, right child impurity\n",
        "    \"\"\"\n",
        "    #raise NotImplementedError(\"COMPLETE THIS FUNCTION\")\n",
        "    li = gini(y_left)\n",
        "    ri = gini(y_right)\n",
        "    wi = li * len(y_left) + ri * len(y_right)\n",
        "    wi /= len(y_left) + len(y_right)\n",
        "    return wi, li, ri"
      ]
    },
    {
      "cell_type": "markdown",
      "id": "d4eb1243",
      "metadata": {
        "id": "d4eb1243"
      },
      "source": [
        "**3. (2 балла)** Загрузите в Контест решение третьей задачи (см. файл `src.py`)."
      ]
    },
    {
      "cell_type": "code",
      "execution_count": null,
      "id": "ad598ec4",
      "metadata": {
        "id": "ad598ec4"
      },
      "outputs": [],
      "source": [
        "def create_split(feature_values: np.ndarray, threshold: float) -> tp.Tuple[np.ndarray, np.ndarray]:\n",
        "    \"\"\"\n",
        "    splits given 1-d array according to relation to threshold into two subarrays\n",
        "    :param feature_values: feature values extracted from data\n",
        "    :param threshold: value to compare with\n",
        "    :return: two sets of indices\n",
        "    \"\"\"\n",
        "    #raise NotImplementedError(\"COMPLETE THIS FUNCTION\")\n",
        "    left_idx = []\n",
        "    right_idx = []\n",
        "    for i in range(feature_values.size):\n",
        "        if feature_values[i] <= threshold:\n",
        "            left_idx.append(i)\n",
        "            #right_idx.append(False)\n",
        "        else:\n",
        "            right_idx.append(i)\n",
        "            #left_idx.append(False)\n",
        "    return left_idx, right_idx"
      ]
    },
    {
      "cell_type": "markdown",
      "id": "d86b2e13",
      "metadata": {
        "id": "d86b2e13"
      },
      "source": [
        "**4. (2 балла)** Загрузите в Контест решение четвёртой задачи (см. файл `src.py`)."
      ]
    },
    {
      "cell_type": "code",
      "execution_count": null,
      "id": "1bc0503b",
      "metadata": {
        "id": "1bc0503b"
      },
      "outputs": [],
      "source": [
        "class MyDecisionTreeNode:\n",
        "    \"\"\"\n",
        "    Auxiliary class serving as representation of a decision tree node\n",
        "    \"\"\"\n",
        "    def __init__(\n",
        "            self,\n",
        "            meta: 'MyDecisionTreeClassifier',\n",
        "            depth,\n",
        "            node_type: NodeType = NodeType.REGULAR,\n",
        "            predicted_class: tp.Optional[tp.Union[int, str]] = None,\n",
        "            left_subtree: tp.Optional['MyDecisionTreeNode'] = None,\n",
        "            right_subtree: tp.Optional['MyDecisionTreeNode'] = None,\n",
        "            feature_id: int = None,\n",
        "            threshold: float = None,\n",
        "            impurity: float = np.inf\n",
        "    ):\n",
        "        \"\"\"\n",
        "        :param meta: object, holding meta information about tree\n",
        "        :param depth: depth of this node in a tree (is deduced on creation by depth of ancestor)\n",
        "        :param node_type: 'regular' or 'terminal' depending on whether this node is a leaf node\n",
        "        :param predicted_class: class label assigned to a terminal node\n",
        "        :param feature_id: index if feature to split by\n",
        "        :param\n",
        "        \"\"\"\n",
        "        self._node_type = node_type\n",
        "        self._meta = meta\n",
        "        self._depth = depth\n",
        "        self._predicted_class = predicted_class\n",
        "        self._class_proba = None\n",
        "        self._left_subtree = left_subtree\n",
        "        self._right_subtree = right_subtree\n",
        "        self._feature_id = feature_id\n",
        "        self._threshold = threshold\n",
        "        self._impurity = impurity\n",
        "\n",
        "    \n",
        "    def _best_split(self, X: np.ndarray, y: np.ndarray):\n",
        "        \"\"\"\n",
        "        finds best split\n",
        "        :param X: Data, passed to node\n",
        "        :param y: labels\n",
        "        :return: best feature, best threshold, left child impurity, right child impurity\n",
        "        \"\"\"\n",
        "        lowest_impurity = np.inf\n",
        "        best_feature_id = None\n",
        "        best_threshold = None\n",
        "        lowest_left_child_impurity, lowest_right_child_impurity = None, None\n",
        "        features = self._meta.rng.permutation(X.shape[1])\n",
        "        for feature in features:\n",
        "            current_feature_values = X[:, feature]\n",
        "            thresholds = np.unique(current_feature_values)\n",
        "            for threshold in thresholds:\n",
        "                left_counts, right_counts = create_split(current_feature_values, threshold)\n",
        "                current_weighted_impurity, current_left_impurity, current_right_impurity = weighted_impurity(y[left_counts], y[right_counts])\n",
        "                #raise NotImplementedError(\"COMPLETE THIS FUNCTION\")\n",
        "                if current_weighted_impurity < lowest_impurity:\n",
        "                    lowest_impurity = current_weighted_impurity\n",
        "                    best_feature_id = feature\n",
        "                    best_threshold = threshold\n",
        "                    lowest_left_child_impurity = current_left_impurity\n",
        "                    lowest_right_child_impurity = current_right_impurity\n",
        "        return best_feature_id, best_threshold, lowest_left_child_impurity, lowest_right_child_impurity\n",
        "    \n",
        "    def fit(self, X: np.ndarray, y: np.ndarray):\n",
        "        \"\"\"\n",
        "        recursively fits a node, providing it with predicted class or split condition\n",
        "        :param X: Data\n",
        "        :param y: labels\n",
        "        :return: fitted node\n",
        "        \"\"\"\n",
        "        #raise NotImplementedError(\"COMPLETE THIS FUNCTION\")\n",
        "        if (\n",
        "            self._depth >= self._meta.max_depth or y.size < self._meta.min_samples_split\n",
        "        ):\n",
        "            self._node_type = NodeType.TERMINAL\n",
        "            self._predicted_class = mode(y)[0][0] # choose most common class\n",
        "            cnts = Counter(y)\n",
        "            v = [cnts[clas]/y.size for clas in self._meta._all_classes]\n",
        "            self._class_proba = v   # compute its probability as ratio\n",
        "            return self\n",
        "\n",
        "        self._feature_id, self._threshold, left_imp, right_imp = self._best_split(X, y)\n",
        "        left_idx, right_idx = create_split(X[:, self._feature_id], self._threshold)\n",
        "        self._left_subtree = MyDecisionTreeNode(\n",
        "            meta=self._meta,\n",
        "            depth = self._depth + 1,  # adjust depth\n",
        "            impurity=left_imp\n",
        "        ).fit(\n",
        "            X[left_idx], # choose proper data to fit\n",
        "            y[left_idx]\n",
        "        )\n",
        "        self._right_subtree = MyDecisionTreeNode(\n",
        "            meta=self._meta,\n",
        "            depth = self._depth + 1,  # adjust depth\n",
        "            impurity=right_imp\n",
        "        ).fit(\n",
        "            X[right_idx], # choose proper data to fit\n",
        "            y[right_idx]\n",
        "        )\n",
        "        return self\n",
        "\n",
        "    def predict(self, x: np.ndarray):\n",
        "        \"\"\"\n",
        "        Predicts class for a single object\n",
        "        :param x: object of shape (n_features, )\n",
        "        :return: class assigned to object\n",
        "        \"\"\"\n",
        "        #raise NotImplementedError(\"COMPLETE THIS FUNCTION\")\n",
        "        if self._node_type is NodeType.TERMINAL:\n",
        "            return self._predicted_class\n",
        "        if x[self._feature_id] <= self._threshold:\n",
        "            return self._left_subtree.predict(x)\n",
        "        else:\n",
        "            return self._right_subtree.predict(x)\n",
        "\n",
        "    def predict_proba(self, x: np.ndarray):\n",
        "        \"\"\"\n",
        "        Predicts probability for a single object\n",
        "        :param x: object of shape (n_features, )\n",
        "        :return: vector of probabilities assigned to object\n",
        "        \"\"\"\n",
        "        #raise NotImplementedError(\"COMPLETE THIS FUNCTION\")\n",
        "        if self._node_type is NodeType.TERMINAL:\n",
        "            return self._class_proba\n",
        "        if x[self._feature_id] <= self._threshold:\n",
        "            return self._left_subtree.predict_proba(x)\n",
        "        else:\n",
        "            return self._right_subtree.predict_proba(x)"
      ]
    },
    {
      "cell_type": "markdown",
      "id": "ad518b2d",
      "metadata": {
        "id": "ad518b2d"
      },
      "source": [
        "#### 5. (2 балла) Решающее дерево\n",
        "Допишите `sklearn`-совместимый класс `MyDecisionTreeClassifier` в `src.py`, убедитесь, что он проходит тесты в проверяющей системе."
      ]
    },
    {
      "cell_type": "code",
      "execution_count": null,
      "id": "db9ff4bc",
      "metadata": {
        "id": "db9ff4bc"
      },
      "outputs": [],
      "source": [
        "class MyDecisionTreeClassifier:\n",
        "    \"\"\"\n",
        "    Class analogous to sklearn implementation of decision tree classifier with Gini impurity criterion,\n",
        "    named in a manner avoiding collisions\n",
        "    \"\"\"\n",
        "\n",
        "    def __init__(\n",
        "            self,\n",
        "            max_depth: tp.Optional[int] = None,\n",
        "            min_samples_split: tp.Optional[int] = 2,\n",
        "            seed: int = 0\n",
        "    ):\n",
        "        \"\"\"\n",
        "        :param max_depth: maximal depth of tree, prevents overfitting\n",
        "        :param min_samples_split: minimal amount of samples for node to be a splitter node\n",
        "        :param seed: seed for RNG, enables reproducibility\n",
        "        \"\"\"\n",
        "        self.root = MyDecisionTreeNode(self, 1)\n",
        "        self._is_trained = False\n",
        "        self.max_depth = max_depth or np.inf\n",
        "        self.min_samples_split = min_samples_split or 2\n",
        "        self.rng = np.random.default_rng(seed)\n",
        "        self._n_classes = 0\n",
        "\n",
        "    def fit(self, X: np.ndarray, y: np.ndarray):\n",
        "        \"\"\"\n",
        "        starts recursive process of node criterion fitting from the root\n",
        "        :param X: Data\n",
        "        :param y: labels\n",
        "        :return: fitted self\n",
        "        \"\"\"\n",
        "        self._n_classes = np.unique(y).shape[0]\n",
        "        self._all_classes = np.unique(y)\n",
        "        self.root.fit(X, y)\n",
        "        self._is_trained = True\n",
        "        #print('обучилось одно дерево', self._is_trained)\n",
        "        return self\n",
        "    \n",
        "    def predict(self, X: np.ndarray):\n",
        "        \"\"\"\n",
        "        Predicts class for a sequence of objects\n",
        "        :param x: Data\n",
        "        :return: classes assigned to each object\n",
        "        \"\"\"\n",
        "        if not self._is_trained:\n",
        "            raise RuntimeError('predict call on untrained model')\n",
        "        else:\n",
        "            ans = np.array([self.root.predict(x) for x in X])\n",
        "            return ans\n",
        "            \n",
        "    def predict_proba(self, X: np.ndarray):\n",
        "        \"\"\"\n",
        "        Predicts class for a sequence of objects\n",
        "        :param x: Data\n",
        "        :return: probabilities of all classes for each object\n",
        "        \"\"\"\n",
        "        if not self._is_trained:\n",
        "            raise RuntimeError('predict call on untrained model')\n",
        "        else:\n",
        "            ans = np.array([self.root.predict_proba(x) for x in X])\n",
        "            return ans\n"
      ]
    },
    {
      "cell_type": "code",
      "execution_count": null,
      "id": "c3b01403",
      "metadata": {
        "id": "c3b01403"
      },
      "outputs": [],
      "source": [
        "import numpy as np\n",
        "import scipy as sp\n",
        "import pandas as pd\n",
        "import matplotlib.pyplot as plt\n",
        "\n",
        "from sklearn.datasets import make_moons\n",
        "\n",
        "#from src import MyDecisionTreeClassifier"
      ]
    },
    {
      "cell_type": "markdown",
      "id": "91b25a90",
      "metadata": {
        "id": "91b25a90"
      },
      "source": [
        "Мы хотим посмотреть на него в картинках, так что воспользуемся удобной библиотечкой `mlxtend`, которая позволяет взмахом руки получать подробные графики работы модели."
      ]
    },
    {
      "cell_type": "code",
      "execution_count": null,
      "id": "c66cf09e",
      "metadata": {
        "id": "c66cf09e",
        "outputId": "d2a64005-4467-4003-cc09-c738f0987472"
      },
      "outputs": [
        {
          "name": "stdout",
          "output_type": "stream",
          "text": [
            "Counter({0: 150, 1: 150, 2: 150})\n"
          ]
        },
        {
          "data": {
            "image/png": "[encoded data removed]",
            "text/plain": [
              "<Figure size 432x432 with 1 Axes>"
            ]
          },
          "metadata": {
            "needs_background": "light"
          },
          "output_type": "display_data"
        }
      ],
      "source": [
        "def make_sunny_moons(n_sun=50, n_moons=100, noise=0.0, sun_radius=1.9, theta=None):\n",
        "    X_moons, y_moons = make_moons(n_samples=n_moons, noise=noise, random_state=0xC0FFEE)\n",
        "    if not n_sun:\n",
        "        return X_moons, y_moons\n",
        "    \n",
        "    rng = np.random.default_rng(0xC0FFEE)\n",
        "    angles = np.arange(0, 2 * np.pi, 2 * np.pi / n_sun)\n",
        "    X_sun = sun_radius * np.column_stack([np.cos(angles), np.sin(angles)]) + np.array([0.5, 0.25])\n",
        "    X_sun += rng.normal(scale=noise, size=X_sun.shape)\n",
        "    y_sun = 2 * np.ones(n_sun)\n",
        "\n",
        "    X = np.vstack([X_moons, X_sun])\n",
        "    y = np.concatenate([y_moons, y_sun]).astype(int)\n",
        "    X -= X.mean(axis=0)\n",
        "\n",
        "    if theta is None:\n",
        "        theta = np.pi / 4\n",
        "    c, s = np.cos(theta), np.sin(theta)\n",
        "    R = np.array(((c,-s), (s, c)))\n",
        "    X = X @ R\n",
        "    \n",
        "    return X, y\n",
        "\n",
        "X, y = make_sunny_moons(n_sun=150, n_moons=300, noise=0.15)\n",
        "_ = plt.figure(figsize=(6, 6))\n",
        "\n",
        "print(Counter(y))\n",
        "plt.scatter(X[:,0], X[:,1], c=y, cmap='cool')\n",
        "plt.show();"
      ]
    },
    {
      "cell_type": "code",
      "execution_count": null,
      "id": "c8313a9b",
      "metadata": {
        "id": "c8313a9b",
        "outputId": "44c22de3-4b28-4277-f055-ecec8cf5f67e"
      },
      "outputs": [
        {
          "data": {
            "image/png": "[encoded data removed]",
            "text/plain": [
              "<Figure size 432x432 with 1 Axes>"
            ]
          },
          "metadata": {
            "needs_background": "light"
          },
          "output_type": "display_data"
        }
      ],
      "source": [
        "from mlxtend.plotting import plot_decision_regions\n",
        "from sklearn.metrics import accuracy_score\n",
        "\n",
        "def make_clf_plot(classifier, axis):\n",
        "    classifier.fit(X, y)\n",
        "    plot_decision_regions(X, y, clf=classifier, legend=2, ax=axis)\n",
        "    accuracy = accuracy_score(y, classifier.predict(X))\n",
        "    axis.set_title(f\"{classifier.__class__.__name__}, accuracy = {accuracy:2.2f}\")\n",
        "\n",
        "_ = plt.figure(figsize=(6, 6))\n",
        "axis = plt.axes()\n",
        "make_clf_plot(MyDecisionTreeClassifier(max_depth=4, seed=42), axis)"
      ]
    },
    {
      "cell_type": "markdown",
      "id": "3be25e9d",
      "metadata": {
        "id": "3be25e9d"
      },
      "source": [
        "Поменяйте параметры дерева — глубину или минимальное количество сэмплов для сплита, посмотрите на картинки и значения точности для этих случаев"
      ]
    },
    {
      "cell_type": "code",
      "execution_count": null,
      "id": "5dcc4a22",
      "metadata": {
        "id": "5dcc4a22",
        "outputId": "99b19612-dbf5-4f3d-d41c-4efcd3b85c1c"
      },
      "outputs": [
        {
          "data": {
            "image/png": "[encoded data removed]",
            "text/plain": [
              "<Figure size 792x792 with 4 Axes>"
            ]
          },
          "metadata": {
            "needs_background": "light"
          },
          "output_type": "display_data"
        }
      ],
      "source": [
        "cases = [\n",
        "    MyDecisionTreeClassifier(max_depth=3, seed=42),\n",
        "    MyDecisionTreeClassifier(max_depth=5, seed=42),\n",
        "    MyDecisionTreeClassifier(max_depth=None, min_samples_split=20, seed=42),\n",
        "    MyDecisionTreeClassifier(max_depth=None, min_samples_split=5, seed=42),\n",
        "]\n",
        "\n",
        "def make_clf_plot(classifier, axis):\n",
        "    classifier.fit(X, y)\n",
        "    plot_decision_regions(X, y, clf=classifier, legend=2, ax=axis)\n",
        "    accuracy = accuracy_score(y, classifier.predict(X))\n",
        "    axis.set_title(f\"{classifier.__class__.__name__}, accuracy = {accuracy:2.2f}\")\n",
        "\n",
        "fig, axes = plt.subplots(ncols=2, nrows=2, figsize=(11, 11))\n",
        "\n",
        "for classifier, axis in zip(cases, axes.flat):\n",
        "    make_clf_plot(classifier, axis)"
      ]
    },
    {
      "cell_type": "markdown",
      "id": "d4639bc4",
      "metadata": {
        "id": "d4639bc4"
      },
      "source": [
        "##### Делаем красиво с помощью фича-инжиниринга\n",
        "\n",
        "Воспользуйтесь пайплайнами (`Pipeline`) из `sklearn`, чтобы предобработать наши признаки для получения более информативных и достигните высокого качества на обучающей выборке с маленькой глубиной дерева и сравните с линейной моделью на нелинейных признаках"
      ]
    },
    {
      "cell_type": "code",
      "execution_count": null,
      "id": "82e84704",
      "metadata": {
        "id": "82e84704"
      },
      "outputs": [],
      "source": [
        "from sklearn.pipeline import Pipeline, FeatureUnion\n",
        "from sklearn.preprocessing import PolynomialFeatures, StandardScaler, QuantileTransformer, FunctionTransformer, MinMaxScaler\n",
        "from sklearn.random_projection import GaussianRandomProjection\n",
        "from sklearn.decomposition import PCA\n",
        "from sklearn.linear_model import LogisticRegression"
      ]
    },
    {
      "cell_type": "code",
      "execution_count": null,
      "id": "0615c3bc",
      "metadata": {
        "id": "0615c3bc",
        "outputId": "d705c83c-5050-49dc-cb6f-2fc9413bb85a"
      },
      "outputs": [
        {
          "data": {
            "image/png": "[encoded data removed]",
            "text/plain": [
              "<Figure size 1224x576 with 2 Axes>"
            ]
          },
          "metadata": {
            "needs_background": "light"
          },
          "output_type": "display_data"
        }
      ],
      "source": [
        "logreg_pipeline = Pipeline([\n",
        "    ('feature_generation', FeatureUnion([\n",
        "        ('sine', FunctionTransformer(np.sin)),\n",
        "        ('cosine', FunctionTransformer(np.cos)),\n",
        "        ('id', FunctionTransformer())\n",
        "    ])),\n",
        "    ('polynomial', PolynomialFeatures(2)),\n",
        "    ('standartization', StandardScaler()),\n",
        "    ('logreg', LogisticRegression(random_state=42)),\n",
        "])\n",
        "\n",
        "tree_pipeline = Pipeline([\n",
        "    ('standartization', MinMaxScaler()),\n",
        "    ('feature_generation', FeatureUnion([\n",
        "        ('sine', FunctionTransformer(np.sin)),\n",
        "        ('cosine', FunctionTransformer(np.cos)),\n",
        "        ('id', FunctionTransformer())\n",
        "    ])),\n",
        "    ('polynomial', PolynomialFeatures(2)),\n",
        "    ('tree', MyDecisionTreeClassifier(max_depth=4, seed=42)),\n",
        "])\n",
        "\n",
        "fig, axes = plt.subplots(ncols=2, nrows=1, figsize=(17, 8))\n",
        "\n",
        "for classifier, axis in zip((logreg_pipeline, tree_pipeline), axes):\n",
        "    make_clf_plot(classifier, axis)"
      ]
    },
    {
      "cell_type": "markdown",
      "id": "c84b3ae0",
      "metadata": {
        "id": "c84b3ae0"
      },
      "source": [
        "##### 6. (2 балла) Случайный лес\n",
        "Допишите `sklearn`-совместимый класс `MyRandomForestClassifier` в `src.py`, убедитесь, что он проходит тесты в проверяющей системе.\\\n",
        "Посмотрите как он работает на сгенерированных данных, наблюдается ли улучшение от ансамблирования?"
      ]
    },
    {
      "cell_type": "code",
      "execution_count": null,
      "id": "a8a33282",
      "metadata": {
        "id": "a8a33282"
      },
      "outputs": [],
      "source": [
        "class MyRandomForestClassifier:\n",
        "    \"\"\"\n",
        "    Data-diverse ensemble of tree calssifiers\n",
        "    \"\"\"\n",
        "    big_number = 1 << 32\n",
        "\n",
        "    def __init__(\n",
        "            self,\n",
        "            n_estimators: int,\n",
        "            max_depth: tp.Optional[int] = None,\n",
        "            min_samples_split: tp.Optional[int] = 2,\n",
        "            epsilon: float = 1e-8,\n",
        "            seed: int = 0\n",
        "    ):\n",
        "        \"\"\"\n",
        "        :param n_estimators: number of trees in forest\n",
        "        :param max_depth: maximal depth of tree, prevents overfitting\n",
        "        :param min_samples_split: minimal amount of samples for node to be a splitter node\n",
        "        :param epsilon: stop growing branch if impurity is already low enough\n",
        "        :param seed: seed for RNG, enables reproducibility\n",
        "        \"\"\"\n",
        "        self._n_classes = 0\n",
        "        self._is_trained = False\n",
        "        self.rng = np.random.default_rng(seed)\n",
        "        self.estimators = [\n",
        "            MyDecisionTreeClassifier(max_depth, min_samples_split, seed=seed) for\n",
        "            seed in self.rng.choice(max(MyRandomForestClassifier.big_number, n_estimators), size=(n_estimators,),\n",
        "                                    replace=False)]\n",
        "\n",
        "    def _bootstrap_sample(self, X: np.ndarray, y: np.ndarray):\n",
        "        \"\"\"\n",
        "        returns bootstrapped sample from X of equal size\n",
        "        :param X: objects collection to sample from\n",
        "        :param y: corresponding labels\n",
        "        :return:\n",
        "        \"\"\"\n",
        "        #raise NotImplementedError(\"COMPLETE THIS FUNCTION\")\n",
        "        indices = np.random.randint(0, len(X), size = X.shape[0]) # bootstrap indices with equal probability from X\n",
        "        return X[indices], y[indices]\n",
        "\n",
        "    def fit(self, X: np.ndarray, y: np.ndarray):\n",
        "        \"\"\"\n",
        "        fits each estimator of the ensemble on the bootstrapped data sample\n",
        "        :param X: Data\n",
        "        :param y: labels\n",
        "        :return: fitted self\n",
        "        \"\"\"\n",
        "        self._n_classes = np.unique(y).shape[0]\n",
        "        #raise NotImplementedError(\"COMPLETE THIS FUNCTION\")\n",
        "        for estimator in self.estimators:\n",
        "            X_bst, y_bst = self._bootstrap_sample(X, y) \n",
        "            estimator.fit(X_bst, y_bst) # fit each estimator on a bootstrapped sample\n",
        "        self._is_trained = True\n",
        "        return self\n",
        "\n",
        "    def predict_proba(self, X: np.ndarray):\n",
        "        \"\"\"\n",
        "        predict probability of each class by averaging over all base estimators\n",
        "        :param X: Data\n",
        "        :return: array of probabilities\n",
        "        \"\"\"\n",
        "        probas = np.zeros((X.shape[0], self._n_classes))\n",
        "        #raise NotImplementedError(\"COMPLETE THIS FUNCTION\")\n",
        "        # get averaged probabilities from each estimator\n",
        "        for est in self.estimators:\n",
        "            probas += est.predict_proba(X)\n",
        "    \n",
        "        return np.array(probas / len(self.estimators))\n",
        "\n",
        "    def predict(self, X):\n",
        "        \"\"\"\n",
        "        predict class for each object\n",
        "        :param X: Data\n",
        "        :return: array of class labels\n",
        "        \"\"\"\n",
        "        #raise NotImplementedError(\"COMPLETE THIS FUNCTION\")\n",
        "        classes = self.predict_proba(X)\n",
        "        \n",
        "        return  np.argmax(classes, axis = -1) # most probable class for each object"
      ]
    },
    {
      "cell_type": "code",
      "execution_count": null,
      "id": "929f82fb",
      "metadata": {
        "id": "929f82fb",
        "outputId": "8a6ea685-5551-4e16-e8a1-b15e8521d56c"
      },
      "outputs": [
        {
          "data": {
            "image/png": "[encoded data removed]",
            "text/plain": [
              "<Figure size 432x432 with 1 Axes>"
            ]
          },
          "metadata": {
            "needs_background": "light"
          },
          "output_type": "display_data"
        }
      ],
      "source": [
        "#from src import MyRandomForestClassifier\n",
        "from sklearn.ensemble import RandomForestClassifier\n",
        "from sklearn.tree import DecisionTreeClassifier\n",
        "_ = plt.figure(figsize=(6, 6))\n",
        "axis = plt.axes()\n",
        "make_clf_plot(MyRandomForestClassifier(n_estimators=100, max_depth=3, seed=42), axis)"
      ]
    },
    {
      "cell_type": "markdown",
      "id": "1ec5aa70",
      "metadata": {
        "id": "1ec5aa70"
      },
      "source": [
        "*Ниже можно использовать `DecisionTreeClassifier` и `RandomForestClassifier` из `sklearn`, поскольку они имплементированы на `Cython`* $=>$ *работают быстрее и обладают большим числом настраиваемых параметров.*"
      ]
    },
    {
      "cell_type": "markdown",
      "id": "4317e4b1",
      "metadata": {
        "id": "4317e4b1"
      },
      "source": [
        "#### Серьезные данные\n",
        "##### Получаем датасет"
      ]
    },
    {
      "cell_type": "markdown",
      "id": "42980393",
      "metadata": {
        "id": "42980393"
      },
      "source": [
        "Ссылка на публичный датасет https://www.kaggle.com/purumalgi/music-genre-classification \\\n",
        "Ознакомьтесь с описанием, поймите о какой задаче и каких данных идет речь, можно удовлетворить некоторое любопытство в `Data Explorer'e`, но в целом мы разберемся с этим по ходу ноутбука \\\n",
        "Мы сразу научимся работать с данными на kaggle (почти) без использования графического интерфейса при помощи kaggle-api, это полезно, например, если нам надо залить данные на сервер с консольным доступом и обработать их там."
      ]
    },
    {
      "cell_type": "markdown",
      "id": "6fd4860b",
      "metadata": {
        "id": "6fd4860b"
      },
      "source": [
        "Если у вас менеджер пакетов pip, то запустите эту команду из того же окружения то и юпитер-ноутбук (например в новой ячейке) \\\n",
        "`!pip install kaggle` \\\n",
        "Если conda, то вот эту \\\n",
        "`!conda install -c conda-forge kaggle`"
      ]
    },
    {
      "cell_type": "markdown",
      "id": "21c5e411",
      "metadata": {
        "id": "21c5e411"
      },
      "source": [
        "Теперь ваша задача зайти в свой аккаунт в kaggle (создайте, если его еще нет) и создать API токен, чтобы авторизовать все действия из командной строки, такие как загрузка датасета или ноутбука. Подробная инструкция есть тут https://github.com/Kaggle/kaggle-api#api-credentials \\\n",
        "Когда ваш токен готов, полложите `kaggle.json` по нужному адресу или создайе соответствующие переменные окружения:\n",
        "```\n",
        "!export KAGGLE_USERNAME=username\n",
        "!export KAGGLE_KEY=key\n",
        "```"
      ]
    },
    {
      "cell_type": "markdown",
      "id": "77b05b9c",
      "metadata": {
        "id": "77b05b9c"
      },
      "source": [
        "Теперь скачаем датасет и положим рядом с ноутбуком"
      ]
    },
    {
      "cell_type": "code",
      "execution_count": null,
      "id": "6620f29f",
      "metadata": {
        "id": "6620f29f",
        "outputId": "7847b5f1-14fa-44c0-c0e8-4a8a0a927fa4"
      },
      "outputs": [
        {
          "name": "stdout",
          "output_type": "stream",
          "text": [
            "Warning: Your Kaggle API key is readable by other users on this system! To fix this, you can run 'chmod 600 /home/avalur/.kaggle/kaggle.json'\n",
            "Downloading music-genre-classification.zip to /home/avalur/autohw/dt\n",
            "  0%|                                               | 0.00/1.29M [00:00<?, ?B/s]\n",
            "100%|██████████████████████████████████████| 1.29M/1.29M [00:00<00:00, 13.8MB/s]\n"
          ]
        }
      ],
      "source": [
        "!kaggle datasets download -d purumalgi/music-genre-classification"
      ]
    },
    {
      "cell_type": "markdown",
      "id": "a41415d4",
      "metadata": {
        "id": "a41415d4"
      },
      "source": [
        "Разархивируем даннные в папку `data`"
      ]
    },
    {
      "cell_type": "code",
      "execution_count": null,
      "id": "68f2350e",
      "metadata": {
        "id": "68f2350e",
        "outputId": "fad70800-a679-4098-cacf-9a5c4b285c45"
      },
      "outputs": [
        {
          "name": "stdout",
          "output_type": "stream",
          "text": [
            "Archive:  music-genre-classification.zip\r\n",
            "  inflating: ./data/submission.csv   \r\n",
            "  inflating: ./data/test.csv         \r\n",
            "  inflating: ./data/train.csv        \r\n"
          ]
        }
      ],
      "source": [
        "!unzip music-genre-classification.zip -d ./data"
      ]
    },
    {
      "cell_type": "markdown",
      "id": "2f5bfc88",
      "metadata": {
        "id": "2f5bfc88"
      },
      "source": [
        "Посмотрим на данные, что до нас доехали"
      ]
    },
    {
      "cell_type": "code",
      "execution_count": null,
      "id": "d6be62bb",
      "metadata": {
        "id": "d6be62bb"
      },
      "outputs": [],
      "source": [
        "import pandas as pd\n",
        "train_csv = pd.read_csv('./data/train.csv')\n",
        "test_csv = pd.read_csv('./data/test.csv')\n",
        "submission_csv = pd.read_csv('./data/submission.csv')"
      ]
    },
    {
      "cell_type": "code",
      "execution_count": null,
      "id": "58ec71e4",
      "metadata": {
        "id": "58ec71e4",
        "outputId": "a604383b-2c1e-4125-99a1-876663807978"
      },
      "outputs": [
        {
          "data": {
            "text/html": [
              "<div>\n",
              "<style scoped>\n",
              "    .dataframe tbody tr th:only-of-type {\n",
              "        vertical-align: middle;\n",
              "    }\n",
              "\n",
              "    .dataframe tbody tr th {\n",
              "        vertical-align: top;\n",
              "    }\n",
              "\n",
              "    .dataframe thead th {\n",
              "        text-align: right;\n",
              "    }\n",
              "</style>\n",
              "<table border=\"1\" class=\"dataframe\">\n",
              "  <thead>\n",
              "    <tr style=\"text-align: right;\">\n",
              "      <th></th>\n",
              "      <th>Artist Name</th>\n",
              "      <th>Track Name</th>\n",
              "      <th>Popularity</th>\n",
              "      <th>danceability</th>\n",
              "      <th>energy</th>\n",
              "      <th>key</th>\n",
              "      <th>loudness</th>\n",
              "      <th>mode</th>\n",
              "      <th>speechiness</th>\n",
              "      <th>acousticness</th>\n",
              "      <th>instrumentalness</th>\n",
              "      <th>liveness</th>\n",
              "      <th>valence</th>\n",
              "      <th>tempo</th>\n",
              "      <th>duration_in min/ms</th>\n",
              "      <th>time_signature</th>\n",
              "      <th>Class</th>\n",
              "    </tr>\n",
              "  </thead>\n",
              "  <tbody>\n",
              "    <tr>\n",
              "      <th>0</th>\n",
              "      <td>Bruno Mars</td>\n",
              "      <td>That's What I Like (feat. Gucci Mane)</td>\n",
              "      <td>60.0</td>\n",
              "      <td>0.854</td>\n",
              "      <td>0.564</td>\n",
              "      <td>1.0</td>\n",
              "      <td>-4.964</td>\n",
              "      <td>1</td>\n",
              "      <td>0.0485</td>\n",
              "      <td>0.017100</td>\n",
              "      <td>NaN</td>\n",
              "      <td>0.0849</td>\n",
              "      <td>0.8990</td>\n",
              "      <td>134.071</td>\n",
              "      <td>234596.0</td>\n",
              "      <td>4</td>\n",
              "      <td>5</td>\n",
              "    </tr>\n",
              "    <tr>\n",
              "      <th>1</th>\n",
              "      <td>Boston</td>\n",
              "      <td>Hitch a Ride</td>\n",
              "      <td>54.0</td>\n",
              "      <td>0.382</td>\n",
              "      <td>0.814</td>\n",
              "      <td>3.0</td>\n",
              "      <td>-7.230</td>\n",
              "      <td>1</td>\n",
              "      <td>0.0406</td>\n",
              "      <td>0.001100</td>\n",
              "      <td>0.004010</td>\n",
              "      <td>0.1010</td>\n",
              "      <td>0.5690</td>\n",
              "      <td>116.454</td>\n",
              "      <td>251733.0</td>\n",
              "      <td>4</td>\n",
              "      <td>10</td>\n",
              "    </tr>\n",
              "    <tr>\n",
              "      <th>2</th>\n",
              "      <td>The Raincoats</td>\n",
              "      <td>No Side to Fall In</td>\n",
              "      <td>35.0</td>\n",
              "      <td>0.434</td>\n",
              "      <td>0.614</td>\n",
              "      <td>6.0</td>\n",
              "      <td>-8.334</td>\n",
              "      <td>1</td>\n",
              "      <td>0.0525</td>\n",
              "      <td>0.486000</td>\n",
              "      <td>0.000196</td>\n",
              "      <td>0.3940</td>\n",
              "      <td>0.7870</td>\n",
              "      <td>147.681</td>\n",
              "      <td>109667.0</td>\n",
              "      <td>4</td>\n",
              "      <td>6</td>\n",
              "    </tr>\n",
              "    <tr>\n",
              "      <th>3</th>\n",
              "      <td>Deno</td>\n",
              "      <td>Lingo (feat. J.I &amp; Chunkz)</td>\n",
              "      <td>66.0</td>\n",
              "      <td>0.853</td>\n",
              "      <td>0.597</td>\n",
              "      <td>10.0</td>\n",
              "      <td>-6.528</td>\n",
              "      <td>0</td>\n",
              "      <td>0.0555</td>\n",
              "      <td>0.021200</td>\n",
              "      <td>NaN</td>\n",
              "      <td>0.1220</td>\n",
              "      <td>0.5690</td>\n",
              "      <td>107.033</td>\n",
              "      <td>173968.0</td>\n",
              "      <td>4</td>\n",
              "      <td>5</td>\n",
              "    </tr>\n",
              "    <tr>\n",
              "      <th>4</th>\n",
              "      <td>Red Hot Chili Peppers</td>\n",
              "      <td>Nobody Weird Like Me - Remastered</td>\n",
              "      <td>53.0</td>\n",
              "      <td>0.167</td>\n",
              "      <td>0.975</td>\n",
              "      <td>2.0</td>\n",
              "      <td>-4.279</td>\n",
              "      <td>1</td>\n",
              "      <td>0.2160</td>\n",
              "      <td>0.000169</td>\n",
              "      <td>0.016100</td>\n",
              "      <td>0.1720</td>\n",
              "      <td>0.0918</td>\n",
              "      <td>199.060</td>\n",
              "      <td>229960.0</td>\n",
              "      <td>4</td>\n",
              "      <td>10</td>\n",
              "    </tr>\n",
              "  </tbody>\n",
              "</table>\n",
              "</div>"
            ],
            "text/plain": [
              "             Artist Name                             Track Name  Popularity  \\\n",
              "0             Bruno Mars  That's What I Like (feat. Gucci Mane)        60.0   \n",
              "1                 Boston                           Hitch a Ride        54.0   \n",
              "2          The Raincoats                     No Side to Fall In        35.0   \n",
              "3                   Deno             Lingo (feat. J.I & Chunkz)        66.0   \n",
              "4  Red Hot Chili Peppers      Nobody Weird Like Me - Remastered        53.0   \n",
              "\n",
              "   danceability  energy   key  loudness  mode  speechiness  acousticness  \\\n",
              "0         0.854   0.564   1.0    -4.964     1       0.0485      0.017100   \n",
              "1         0.382   0.814   3.0    -7.230     1       0.0406      0.001100   \n",
              "2         0.434   0.614   6.0    -8.334     1       0.0525      0.486000   \n",
              "3         0.853   0.597  10.0    -6.528     0       0.0555      0.021200   \n",
              "4         0.167   0.975   2.0    -4.279     1       0.2160      0.000169   \n",
              "\n",
              "   instrumentalness  liveness  valence    tempo  duration_in min/ms  \\\n",
              "0               NaN    0.0849   0.8990  134.071            234596.0   \n",
              "1          0.004010    0.1010   0.5690  116.454            251733.0   \n",
              "2          0.000196    0.3940   0.7870  147.681            109667.0   \n",
              "3               NaN    0.1220   0.5690  107.033            173968.0   \n",
              "4          0.016100    0.1720   0.0918  199.060            229960.0   \n",
              "\n",
              "   time_signature  Class  \n",
              "0               4      5  \n",
              "1               4     10  \n",
              "2               4      6  \n",
              "3               4      5  \n",
              "4               4     10  "
            ]
          },
          "execution_count": 16,
          "metadata": {},
          "output_type": "execute_result"
        }
      ],
      "source": [
        "train_csv.head()"
      ]
    },
    {
      "cell_type": "code",
      "execution_count": null,
      "id": "e7326978",
      "metadata": {
        "id": "e7326978",
        "outputId": "7be9fcbb-9e95-46a6-cfe5-0847e990af00"
      },
      "outputs": [
        {
          "data": {
            "text/html": [
              "<div>\n",
              "<style scoped>\n",
              "    .dataframe tbody tr th:only-of-type {\n",
              "        vertical-align: middle;\n",
              "    }\n",
              "\n",
              "    .dataframe tbody tr th {\n",
              "        vertical-align: top;\n",
              "    }\n",
              "\n",
              "    .dataframe thead th {\n",
              "        text-align: right;\n",
              "    }\n",
              "</style>\n",
              "<table border=\"1\" class=\"dataframe\">\n",
              "  <thead>\n",
              "    <tr style=\"text-align: right;\">\n",
              "      <th></th>\n",
              "      <th>Artist Name</th>\n",
              "      <th>Track Name</th>\n",
              "      <th>Popularity</th>\n",
              "      <th>danceability</th>\n",
              "      <th>energy</th>\n",
              "      <th>key</th>\n",
              "      <th>loudness</th>\n",
              "      <th>mode</th>\n",
              "      <th>speechiness</th>\n",
              "      <th>acousticness</th>\n",
              "      <th>instrumentalness</th>\n",
              "      <th>liveness</th>\n",
              "      <th>valence</th>\n",
              "      <th>tempo</th>\n",
              "      <th>duration_in min/ms</th>\n",
              "      <th>time_signature</th>\n",
              "    </tr>\n",
              "  </thead>\n",
              "  <tbody>\n",
              "    <tr>\n",
              "      <th>0</th>\n",
              "      <td>David Bowie</td>\n",
              "      <td>Space Oddity - 2015 Remaster</td>\n",
              "      <td>73.0</td>\n",
              "      <td>0.310</td>\n",
              "      <td>0.403</td>\n",
              "      <td>NaN</td>\n",
              "      <td>-13.664</td>\n",
              "      <td>1</td>\n",
              "      <td>0.0326</td>\n",
              "      <td>0.07260</td>\n",
              "      <td>0.000093</td>\n",
              "      <td>0.1390</td>\n",
              "      <td>0.466</td>\n",
              "      <td>134.480</td>\n",
              "      <td>318027.000000</td>\n",
              "      <td>4</td>\n",
              "    </tr>\n",
              "    <tr>\n",
              "      <th>1</th>\n",
              "      <td>Crimson Sun</td>\n",
              "      <td>Essence of Creation</td>\n",
              "      <td>34.0</td>\n",
              "      <td>0.511</td>\n",
              "      <td>0.955</td>\n",
              "      <td>1.0</td>\n",
              "      <td>-5.059</td>\n",
              "      <td>1</td>\n",
              "      <td>0.1290</td>\n",
              "      <td>0.00040</td>\n",
              "      <td>0.000009</td>\n",
              "      <td>0.2630</td>\n",
              "      <td>0.291</td>\n",
              "      <td>151.937</td>\n",
              "      <td>220413.000000</td>\n",
              "      <td>4</td>\n",
              "    </tr>\n",
              "    <tr>\n",
              "      <th>2</th>\n",
              "      <td>P!nk</td>\n",
              "      <td>Raise Your Glass</td>\n",
              "      <td>78.0</td>\n",
              "      <td>0.700</td>\n",
              "      <td>0.709</td>\n",
              "      <td>7.0</td>\n",
              "      <td>-5.006</td>\n",
              "      <td>1</td>\n",
              "      <td>0.0839</td>\n",
              "      <td>0.00480</td>\n",
              "      <td>NaN</td>\n",
              "      <td>0.0289</td>\n",
              "      <td>0.625</td>\n",
              "      <td>122.019</td>\n",
              "      <td>202960.000000</td>\n",
              "      <td>4</td>\n",
              "    </tr>\n",
              "    <tr>\n",
              "      <th>3</th>\n",
              "      <td>Shawn Mendes</td>\n",
              "      <td>Wonder</td>\n",
              "      <td>80.0</td>\n",
              "      <td>0.333</td>\n",
              "      <td>0.637</td>\n",
              "      <td>1.0</td>\n",
              "      <td>-4.904</td>\n",
              "      <td>0</td>\n",
              "      <td>0.0581</td>\n",
              "      <td>0.13100</td>\n",
              "      <td>0.000018</td>\n",
              "      <td>0.1490</td>\n",
              "      <td>0.132</td>\n",
              "      <td>139.898</td>\n",
              "      <td>172693.000000</td>\n",
              "      <td>4</td>\n",
              "    </tr>\n",
              "    <tr>\n",
              "      <th>4</th>\n",
              "      <td>Backstreet Boys</td>\n",
              "      <td>Helpless When She Smiles - Radio Version</td>\n",
              "      <td>48.0</td>\n",
              "      <td>0.393</td>\n",
              "      <td>0.849</td>\n",
              "      <td>11.0</td>\n",
              "      <td>-4.114</td>\n",
              "      <td>1</td>\n",
              "      <td>0.0459</td>\n",
              "      <td>0.00421</td>\n",
              "      <td>NaN</td>\n",
              "      <td>0.1620</td>\n",
              "      <td>0.222</td>\n",
              "      <td>74.028</td>\n",
              "      <td>4.093117</td>\n",
              "      <td>4</td>\n",
              "    </tr>\n",
              "  </tbody>\n",
              "</table>\n",
              "</div>"
            ],
            "text/plain": [
              "       Artist Name                                Track Name  Popularity  \\\n",
              "0      David Bowie              Space Oddity - 2015 Remaster        73.0   \n",
              "1      Crimson Sun                       Essence of Creation        34.0   \n",
              "2             P!nk                          Raise Your Glass        78.0   \n",
              "3     Shawn Mendes                                    Wonder        80.0   \n",
              "4  Backstreet Boys  Helpless When She Smiles - Radio Version        48.0   \n",
              "\n",
              "   danceability  energy   key  loudness  mode  speechiness  acousticness  \\\n",
              "0         0.310   0.403   NaN   -13.664     1       0.0326       0.07260   \n",
              "1         0.511   0.955   1.0    -5.059     1       0.1290       0.00040   \n",
              "2         0.700   0.709   7.0    -5.006     1       0.0839       0.00480   \n",
              "3         0.333   0.637   1.0    -4.904     0       0.0581       0.13100   \n",
              "4         0.393   0.849  11.0    -4.114     1       0.0459       0.00421   \n",
              "\n",
              "   instrumentalness  liveness  valence    tempo  duration_in min/ms  \\\n",
              "0          0.000093    0.1390    0.466  134.480       318027.000000   \n",
              "1          0.000009    0.2630    0.291  151.937       220413.000000   \n",
              "2               NaN    0.0289    0.625  122.019       202960.000000   \n",
              "3          0.000018    0.1490    0.132  139.898       172693.000000   \n",
              "4               NaN    0.1620    0.222   74.028            4.093117   \n",
              "\n",
              "   time_signature  \n",
              "0               4  \n",
              "1               4  \n",
              "2               4  \n",
              "3               4  \n",
              "4               4  "
            ]
          },
          "execution_count": 17,
          "metadata": {},
          "output_type": "execute_result"
        }
      ],
      "source": [
        "test_csv.head()"
      ]
    },
    {
      "cell_type": "code",
      "execution_count": null,
      "id": "5a4c7221",
      "metadata": {
        "id": "5a4c7221",
        "outputId": "9088f17b-2ecd-448e-9ce8-e4032ee746e9"
      },
      "outputs": [
        {
          "data": {
            "text/html": [
              "<div>\n",
              "<style scoped>\n",
              "    .dataframe tbody tr th:only-of-type {\n",
              "        vertical-align: middle;\n",
              "    }\n",
              "\n",
              "    .dataframe tbody tr th {\n",
              "        vertical-align: top;\n",
              "    }\n",
              "\n",
              "    .dataframe thead th {\n",
              "        text-align: right;\n",
              "    }\n",
              "</style>\n",
              "<table border=\"1\" class=\"dataframe\">\n",
              "  <thead>\n",
              "    <tr style=\"text-align: right;\">\n",
              "      <th></th>\n",
              "      <th>Acoustic/Folk_0</th>\n",
              "      <th>Alt_Music_1</th>\n",
              "      <th>Blues_2</th>\n",
              "      <th>Bollywood_3</th>\n",
              "      <th>Country_4</th>\n",
              "      <th>HipHop_5</th>\n",
              "      <th>Indie Alt_6</th>\n",
              "      <th>Instrumental_7</th>\n",
              "      <th>Metal_8</th>\n",
              "      <th>Pop_9</th>\n",
              "      <th>Rock_10</th>\n",
              "    </tr>\n",
              "  </thead>\n",
              "  <tbody>\n",
              "    <tr>\n",
              "      <th>0</th>\n",
              "      <td>1</td>\n",
              "      <td>0</td>\n",
              "      <td>0</td>\n",
              "      <td>0</td>\n",
              "      <td>0</td>\n",
              "      <td>0</td>\n",
              "      <td>0</td>\n",
              "      <td>0</td>\n",
              "      <td>0</td>\n",
              "      <td>0</td>\n",
              "      <td>0</td>\n",
              "    </tr>\n",
              "    <tr>\n",
              "      <th>1</th>\n",
              "      <td>0</td>\n",
              "      <td>1</td>\n",
              "      <td>0</td>\n",
              "      <td>0</td>\n",
              "      <td>0</td>\n",
              "      <td>0</td>\n",
              "      <td>0</td>\n",
              "      <td>0</td>\n",
              "      <td>0</td>\n",
              "      <td>0</td>\n",
              "      <td>0</td>\n",
              "    </tr>\n",
              "    <tr>\n",
              "      <th>2</th>\n",
              "      <td>0</td>\n",
              "      <td>0</td>\n",
              "      <td>1</td>\n",
              "      <td>0</td>\n",
              "      <td>0</td>\n",
              "      <td>0</td>\n",
              "      <td>0</td>\n",
              "      <td>0</td>\n",
              "      <td>0</td>\n",
              "      <td>0</td>\n",
              "      <td>0</td>\n",
              "    </tr>\n",
              "    <tr>\n",
              "      <th>3</th>\n",
              "      <td>0</td>\n",
              "      <td>0</td>\n",
              "      <td>0</td>\n",
              "      <td>1</td>\n",
              "      <td>0</td>\n",
              "      <td>0</td>\n",
              "      <td>0</td>\n",
              "      <td>0</td>\n",
              "      <td>0</td>\n",
              "      <td>0</td>\n",
              "      <td>0</td>\n",
              "    </tr>\n",
              "    <tr>\n",
              "      <th>4</th>\n",
              "      <td>0</td>\n",
              "      <td>0</td>\n",
              "      <td>0</td>\n",
              "      <td>0</td>\n",
              "      <td>1</td>\n",
              "      <td>0</td>\n",
              "      <td>0</td>\n",
              "      <td>0</td>\n",
              "      <td>0</td>\n",
              "      <td>0</td>\n",
              "      <td>0</td>\n",
              "    </tr>\n",
              "  </tbody>\n",
              "</table>\n",
              "</div>"
            ],
            "text/plain": [
              "   Acoustic/Folk_0  Alt_Music_1  Blues_2  Bollywood_3  Country_4  HipHop_5  \\\n",
              "0                1            0        0            0          0         0   \n",
              "1                0            1        0            0          0         0   \n",
              "2                0            0        1            0          0         0   \n",
              "3                0            0        0            1          0         0   \n",
              "4                0            0        0            0          1         0   \n",
              "\n",
              "   Indie Alt_6  Instrumental_7  Metal_8  Pop_9  Rock_10  \n",
              "0            0               0        0      0        0  \n",
              "1            0               0        0      0        0  \n",
              "2            0               0        0      0        0  \n",
              "3            0               0        0      0        0  \n",
              "4            0               0        0      0        0  "
            ]
          },
          "execution_count": 18,
          "metadata": {},
          "output_type": "execute_result"
        }
      ],
      "source": [
        "submission_csv.head()"
      ]
    },
    {
      "cell_type": "markdown",
      "id": "2b888e3e",
      "metadata": {
        "id": "2b888e3e"
      },
      "source": [
        "##### Посмотрим на данные с точки зрения \"бизнес-логики\""
      ]
    },
    {
      "cell_type": "markdown",
      "id": "b11f3f83",
      "metadata": {
        "id": "b11f3f83"
      },
      "source": [
        "На данный момент наша цель понять, какая задача машинного обучения перед нами стоит, какими подходами ее решать, как измерять качество нашего решения и как правильно организовать неминуемо итеративный процесс модификации и валидации наших идей. Пока мы *не* ставим цель найти закономерности в данных и придумать наиболее эффективные фичи и модели для достижения наилучшего качества"
      ]
    },
    {
      "cell_type": "markdown",
      "id": "4950a8c2",
      "metadata": {
        "id": "4950a8c2"
      },
      "source": [
        "На страничке датасета есть такое описание\n",
        "```\n",
        "Context\n",
        "    Dataset is acquired from one of the MachineHack Hackathon\n",
        "\n",
        "Content\n",
        "    Training dataset: 17,996 rows with 17 columns\n",
        "\n",
        "Column details: artist name; track name; popularity; ‘danceability’; energy; key; loudness; mode; ‘speechiness’; ‘acousticness’; ‘instrumentalness’; liveness; valence; tempo; duration in milliseconds and time_signature.\n",
        "\n",
        "Target Variable: 'Class’ such as Rock, Indie, Alt, Pop, Metal, HipHop, Alt_Music, Blues, Acoustic/Folk, Instrumental, Country, Bollywood,\n",
        "\n",
        "Test dataset: 7,713 rows with 16 columns\n",
        "\n",
        "Acknowledgements\n",
        "    The entire credit goes to MachineHack where different hackathons are hosted for practice and learning.\n",
        "\n",
        "Inspiration\n",
        "    The hackathon uses Log Loss Metric to evaluate the results.\n",
        "```"
      ]
    },
    {
      "cell_type": "markdown",
      "id": "6c2dc6db",
      "metadata": {
        "id": "6c2dc6db"
      },
      "source": [
        "Из него мы можем понять, что в тренировочных данных есть метаинформация о музыкальных треках (`duration in milliseconds, time_signature, key, loudness, etc`) и некоторая пользовательская оценка звуковых характеристик (`‘danceability’, ‘speechiness’, ‘acousticness’, ‘instrumentalness’, etc`). \\\n",
        "Таргетом является `Class` -- жанр музыкального произведения, один из `Rock, Indie, Alt, Pop, Metal, HipHop, Alt_Music, Blues, Acoustic/Folk, Instrumental, Country, Bollywood` "
      ]
    },
    {
      "cell_type": "markdown",
      "id": "9cc76b33",
      "metadata": {
        "id": "9cc76b33"
      },
      "source": [
        "То есть перед нами стоит задача многоклассовой классификации, сразу пытаемся оценить, какими подходами мы такое будем решать, а также, не менее важно, как мы будем оценивать качество нашего решения. **Напишите об этом в ячейке ниже и сравните с предложенным рассуждением.** \\\n",
        "Заметим что в описании датасета предлогается метрика оригинального соревнования `Log Loss`: **Вспомните, что это за метрика.**"
      ]
    },
    {
      "cell_type": "markdown",
      "id": "04c34ea2",
      "metadata": {
        "id": "04c34ea2"
      },
      "source": [
        "<Напишите сюда свои рассуждения>"
      ]
    },
    {
      "cell_type": "markdown",
      "id": "58eaae6e",
      "metadata": {
        "id": "58eaae6e"
      },
      "source": [
        "<details>\n",
        "\n",
        "  <summary><b>Нажмите однократно, чтобы раскрыть</b></summary>\n",
        "\n",
        "Мы знаем логистическую регрессию, которая обобщается до многоклассового случая при помощи OVR/OVO схем или при помощи SoftMax нелинейности вместо сигмоиды поверх выходного вектора. В этой домашке мы научимся применять решающие деревья, которые могут присвоить любую метку в листовой узел дерева, поэтому являются естественным образом многоклассовыми классификаторами.\n",
        "    \n",
        "Есть много разных методов для оценки многоклассовой классификации. Чтобы выбрать подходящие, надо оценить несбалансированность датасета, прикинуть, как мы будем сэмплировать тестовую и валидационную выборки, понять, какие характеристики модели нам важнее всего (меньше ошибок на выделенном классе, хорошее предсказание в среднем, и т.д.). В этой домашке мы используем взвешенный LogLoss и Average Precision, разберитесь, что это и как работает.\n",
        "    \n",
        "</details>"
      ]
    },
    {
      "cell_type": "markdown",
      "id": "015d7090",
      "metadata": {
        "id": "015d7090"
      },
      "source": [
        "Посмотрим на следующие, важные для следующего шага, характеристики данных"
      ]
    },
    {
      "cell_type": "code",
      "execution_count": null,
      "id": "9873ef28",
      "metadata": {
        "scrolled": false,
        "id": "9873ef28",
        "outputId": "067adf25-1b4a-472c-f71d-b712b9fe462e"
      },
      "outputs": [
        {
          "name": "stdout",
          "output_type": "stream",
          "text": [
            "Количество объектов данного класса в тренировочном датасете:\n"
          ]
        },
        {
          "data": {
            "image/png": "[encoded data removed]",
            "text/plain": [
              "<Figure size 640x480 with 1 Axes>"
            ]
          },
          "metadata": {},
          "output_type": "display_data"
        }
      ],
      "source": [
        "class_name_mapping = {i: name for i, name in enumerate(submission_csv.columns)}\n",
        "class_counts = train_csv[['Class']].groupby('Class').size()\n",
        "class_counts.index = pd.Index([class_name_mapping[class_id] for class_id in class_counts.index])\n",
        "print(\"Количество объектов данного класса в тренировочном датасете:\")\n",
        "class_counts.plot.bar();"
      ]
    },
    {
      "cell_type": "markdown",
      "id": "afcf97b6",
      "metadata": {
        "id": "afcf97b6"
      },
      "source": [
        "Видим несбалансированные классы, вспоминаем как это может повлиять на Log Loss, будем учитывать это при составлении тестовой и валидационной выборок"
      ]
    },
    {
      "cell_type": "code",
      "execution_count": null,
      "id": "1806e8f7",
      "metadata": {
        "id": "1806e8f7",
        "outputId": "4c312ba2-646a-4a1f-e19d-a341f4b26ca4"
      },
      "outputs": [
        {
          "name": "stdout",
          "output_type": "stream",
          "text": [
            "Отношение размера тестового датасета к тренировочному: 0.42859524338741944\n"
          ]
        }
      ],
      "source": [
        "print(f\"Отношение размера тестового датасета к тренировочному: {len(test_csv) / len(train_csv)}\")"
      ]
    },
    {
      "cell_type": "markdown",
      "id": "b6452ec5",
      "metadata": {
        "id": "b6452ec5"
      },
      "source": [
        "Понимаем, что наши модели учится на данных примерно вдвое больших чем применяются, это важно для моделей, которые работают лучше при большом количестве данных, чтобы не переоценить их качество из-за маленького теста."
      ]
    },
    {
      "cell_type": "markdown",
      "id": "10dafa39",
      "metadata": {
        "id": "10dafa39"
      },
      "source": [
        "##### Строим пайплайн"
      ]
    },
    {
      "cell_type": "markdown",
      "id": "127d3a36",
      "metadata": {
        "id": "127d3a36"
      },
      "source": [
        "Теперь нам надо построить пайплайн, который позволит нам удобно сравнивать подходы и упростит нам жизнь при подготовке финального сабмита. А именно, нам требуется сделать автоматизацию оценки моделей и логгирование их гиперпараметров, артефактов и скоров. Поясним:\n",
        "1. В соревнованиях и бизнес задачах, в которых требуется много ручного труда, валидирования гипотез и моделей, при большом числе итераций очень важно не терять успешные подходы, поэтому важно вести очень подробное всестороннее логгирование. Отдельно мы проследим, чтобы наше решение было удобно ансамблировать с решениями других участников соревнования или другими моделями, для получения лучшей генерализации, при помощи такого мощного подхода как стекинг.\n",
        "2. Перед тем как отправить сабмит в тестирующую систему соревнования, которые зачастую ограничивают число попыток, или, если мы не хотим светить своим большим скором на лидерборде, а тем более в бизнесе, когда деплой некачественной модели означает непредвиденную потерю ресурсов, очень важно иметь четкое представление о ее перформансе, причем представление должно хорошо коррелировать с оценкой соревнования или бизнес-метриками."
      ]
    },
    {
      "cell_type": "markdown",
      "id": "c2dac5d0",
      "metadata": {
        "id": "c2dac5d0"
      },
      "source": [
        "С учетом размеров тестового и тренировочного датасетов, отщепим от трейна кусочек ~3k записей для локального теста, и разобьем на 3 кроссвалидационные выборки в отношении 2:1 (10000:5000) стратифицированным образом (с сохранением пропорций размеров классов). \\\n",
        "**Важно! Индексы разбиения надо сохранить в виде файла, который можно шерить в рамках гипотетической команды в соревновании. Просто случайного сида недостаточно, так как его применение может быть платформозависимым.**"
      ]
    },
    {
      "cell_type": "code",
      "execution_count": null,
      "id": "33c4abb8",
      "metadata": {
        "id": "33c4abb8"
      },
      "outputs": [],
      "source": [
        "import pickle \n",
        "import os\n",
        "import numpy as np\n",
        "from sklearn.model_selection import train_test_split, StratifiedKFold\n",
        "\n",
        "filename = 'indices.pckl'\n",
        "if os.path.exists(filename):\n",
        "    with open(filename, 'rb') as f:\n",
        "        indices = pickle.load(f)\n",
        "else:\n",
        "    indices = {}\n",
        "    indices['train_indices'], indices['test_indices'] = train_test_split(\n",
        "        np.arange(len(train_csv)),\n",
        "        test_size=2996,\n",
        "        stratify=train_csv['Class'],\n",
        "        shuffle=True,\n",
        "        random_state=0xBA0BAB\n",
        "    )\n",
        "\n",
        "    train_df = train_csv.iloc[indices['train_indices']]\n",
        "    cv_splitter = StratifiedKFold(\n",
        "        n_splits=3,\n",
        "        shuffle=True,\n",
        "        random_state=0xBED\n",
        "    )\n",
        "    indices['cv_iterable'] = []\n",
        "    for train_indices, val_indices in cv_splitter.split(train_df.drop('Class', axis=1), train_df['Class']):\n",
        "        indices['cv_iterable'].append(\n",
        "            (train_indices, val_indices)\n",
        "        )\n",
        "    with open(filename, 'wb+') as f:\n",
        "        pickle.dump(indices, f)"
      ]
    },
    {
      "cell_type": "code",
      "execution_count": null,
      "id": "ddcc0f67",
      "metadata": {
        "id": "ddcc0f67"
      },
      "outputs": [],
      "source": [
        "train_indices = indices['train_indices']\n",
        "test_indices = indices['test_indices']\n",
        "cv_iterable = indices['cv_iterable']\n",
        "X_train = train_csv.iloc[train_indices].drop('Class', axis=1)\n",
        "y_train = train_csv.iloc[train_indices]['Class']\n",
        "X_test = train_csv.iloc[test_indices].drop('Class', axis=1)\n",
        "y_test = train_csv.iloc[test_indices]['Class']"
      ]
    },
    {
      "cell_type": "markdown",
      "id": "3469e153",
      "metadata": {
        "id": "3469e153"
      },
      "source": [
        "**7. (2 балла)** Загрузите в Контест решение седьмой задачи (см. файл `src.py`)."
      ]
    },
    {
      "cell_type": "code",
      "execution_count": null,
      "id": "b9d8d0f6",
      "metadata": {
        "id": "b9d8d0f6"
      },
      "outputs": [],
      "source": [
        "from src import Logger, ExperimentHandler\n",
        "\n",
        "from sklearn.metrics import average_precision_score, log_loss\n",
        "\n",
        "logger = Logger('./logs')\n",
        "scorer = ExperimentHandler(\n",
        "    X_train, y_train, X_test, y_test, cv_iterable, logger, \n",
        "    metrics={\n",
        "        'BalancedAccuracy': 'balanced_accuracy',\n",
        "        'NegLogLoss': 'neg_log_loss'\n",
        "    }\n",
        ")"
      ]
    },
    {
      "cell_type": "markdown",
      "id": "e87b17ad",
      "metadata": {
        "id": "e87b17ad"
      },
      "source": [
        "В качестве тестовой модели будем использовать логистическую регрессию с самыми базовыми гиперпараметрами и SoftMax'ом."
      ]
    },
    {
      "cell_type": "code",
      "execution_count": null,
      "id": "df995fe0",
      "metadata": {
        "id": "df995fe0"
      },
      "outputs": [],
      "source": [
        "from sklearn.linear_model import LogisticRegression\n",
        "from sklearn.pipeline import Pipeline\n",
        "from sklearn.compose import ColumnTransformer\n",
        "from sklearn.preprocessing import StandardScaler\n",
        "from sklearn.impute import SimpleImputer\n",
        "\n",
        "log_reg_pipeline = Pipeline(\n",
        "    [\n",
        "        (\n",
        "            'extract numeric features', \n",
        "            ColumnTransformer(\n",
        "                [\n",
        "                    (\n",
        "                        'drop words',\n",
        "                        'drop',\n",
        "                        ['Artist Name', 'Track Name']\n",
        "                    )\n",
        "                ],\n",
        "                remainder='passthrough'\n",
        "            )\n",
        "        ),\n",
        "        (\n",
        "            'fill missing values',\n",
        "            SimpleImputer(strategy='mean')\n",
        "        ),\n",
        "        (\n",
        "            'normalize features',\n",
        "            StandardScaler()\n",
        "        ),\n",
        "        (\n",
        "            'estimator',\n",
        "            LogisticRegression(multi_class='multinomial', max_iter=10000, random_state=0x5EED)\n",
        "        )\n",
        "    ]\n",
        ")"
      ]
    },
    {
      "cell_type": "code",
      "execution_count": null,
      "id": "a64b0875",
      "metadata": {
        "id": "a64b0875",
        "outputId": "529cfe9e-ff2f-4759-cc19-88e6ea056fc9"
      },
      "outputs": [
        {
          "name": "stderr",
          "output_type": "stream",
          "text": [
            "/home/avalur/autohw/dt/ref_experiment_handler.py:51: FutureWarning: The default dtype for empty Series will be 'object' instead of 'float64' in a future version. Specify a dtype explicitly to silence this warning.\n",
            "  self._storage.append(pd.Series(name=name))\n",
            "/home/avalur/autohw/dt/ref_experiment_handler.py:51: FutureWarning: The frame.append method is deprecated and will be removed from pandas in a future version. Use pandas.concat instead.\n",
            "  self._storage.append(pd.Series(name=name))\n"
          ]
        },
        {
          "data": {
            "text/html": [
              "<div>\n",
              "<style scoped>\n",
              "    .dataframe tbody tr th:only-of-type {\n",
              "        vertical-align: middle;\n",
              "    }\n",
              "\n",
              "    .dataframe tbody tr th {\n",
              "        vertical-align: top;\n",
              "    }\n",
              "\n",
              "    .dataframe thead th {\n",
              "        text-align: right;\n",
              "    }\n",
              "</style>\n",
              "<table border=\"1\" class=\"dataframe\">\n",
              "  <thead>\n",
              "    <tr style=\"text-align: right;\">\n",
              "      <th></th>\n",
              "      <th>BalancedAccuracy_mean</th>\n",
              "      <th>BalancedAccuracy_std</th>\n",
              "      <th>NegLogLoss_mean</th>\n",
              "      <th>NegLogLoss_std</th>\n",
              "      <th>BalancedAccuracy_test</th>\n",
              "      <th>NegLogLoss_test</th>\n",
              "    </tr>\n",
              "    <tr>\n",
              "      <th>id</th>\n",
              "      <th></th>\n",
              "      <th></th>\n",
              "      <th></th>\n",
              "      <th></th>\n",
              "      <th></th>\n",
              "      <th></th>\n",
              "    </tr>\n",
              "  </thead>\n",
              "  <tbody>\n",
              "    <tr>\n",
              "      <th>logreg</th>\n",
              "      <td>0.524767</td>\n",
              "      <td>0.005606</td>\n",
              "      <td>-1.349075</td>\n",
              "      <td>0.008689</td>\n",
              "      <td>0.498822</td>\n",
              "      <td>-1.36072</td>\n",
              "    </tr>\n",
              "  </tbody>\n",
              "</table>\n",
              "</div>"
            ],
            "text/plain": [
              "        BalancedAccuracy_mean  BalancedAccuracy_std  NegLogLoss_mean  \\\n",
              "id                                                                     \n",
              "logreg               0.524767              0.005606        -1.349075   \n",
              "\n",
              "        NegLogLoss_std  BalancedAccuracy_test  NegLogLoss_test  \n",
              "id                                                              \n",
              "logreg        0.008689               0.498822         -1.36072  "
            ]
          },
          "execution_count": 26,
          "metadata": {},
          "output_type": "execute_result"
        }
      ],
      "source": [
        "scorer.run(log_reg_pipeline, name='logreg')"
      ]
    },
    {
      "cell_type": "markdown",
      "id": "f923b9ea",
      "metadata": {
        "id": "f923b9ea"
      },
      "source": [
        "##### Тестируем базовые модели"
      ]
    },
    {
      "cell_type": "code",
      "execution_count": null,
      "id": "0a91a312",
      "metadata": {
        "id": "0a91a312"
      },
      "outputs": [],
      "source": [
        "from sklearn.tree import DecisionTreeClassifier\n",
        "from sklearn.ensemble import RandomForestClassifier\n",
        "import sys\n",
        "\n",
        "tree_pipeline = Pipeline(\n",
        "    [\n",
        "        (\n",
        "            'extract numeric features', \n",
        "            ColumnTransformer(\n",
        "                [\n",
        "                    (\n",
        "                        'drop words',\n",
        "                        'drop',\n",
        "                        ['Artist Name', 'Track Name']\n",
        "                    )\n",
        "                ],\n",
        "                remainder='passthrough'\n",
        "            )\n",
        "        ),\n",
        "        (\n",
        "            'fill missing values',\n",
        "            SimpleImputer(strategy='constant', fill_value=X_train.apply(pd.to_numeric, errors='coerce').max().max())\n",
        "        ),\n",
        "        (\n",
        "            'estimator',\n",
        "            DecisionTreeClassifier(max_depth=10, random_state=0x5EED)\n",
        "        )\n",
        "    ]\n",
        ")\n",
        "\n",
        "forest_pipeline = Pipeline(\n",
        "    [\n",
        "        (\n",
        "            'extract numeric features', \n",
        "            ColumnTransformer(\n",
        "                [\n",
        "                    (\n",
        "                        'drop words',\n",
        "                        'drop',\n",
        "                        ['Artist Name', 'Track Name']\n",
        "                    )\n",
        "                ],\n",
        "                remainder='passthrough'\n",
        "            )\n",
        "        ),\n",
        "        (\n",
        "            'fill missing values',\n",
        "            SimpleImputer(strategy='constant', fill_value=X_train.apply(pd.to_numeric, errors='coerce').max().max())\n",
        "        ),\n",
        "        (\n",
        "            'estimator',\n",
        "            RandomForestClassifier(n_estimators=200, random_state=0x5EED)\n",
        "        )\n",
        "    ]\n",
        ")"
      ]
    },
    {
      "cell_type": "code",
      "execution_count": null,
      "id": "e43b21af",
      "metadata": {
        "id": "e43b21af",
        "outputId": "f0bd10e9-778e-49a6-f4da-aad09130c696"
      },
      "outputs": [
        {
          "name": "stderr",
          "output_type": "stream",
          "text": [
            "/home/avalur/autohw/dt/ref_experiment_handler.py:51: FutureWarning: The default dtype for empty Series will be 'object' instead of 'float64' in a future version. Specify a dtype explicitly to silence this warning.\n",
            "  self._storage.append(pd.Series(name=name))\n",
            "/home/avalur/autohw/dt/ref_experiment_handler.py:51: FutureWarning: The frame.append method is deprecated and will be removed from pandas in a future version. Use pandas.concat instead.\n",
            "  self._storage.append(pd.Series(name=name))\n",
            "/home/avalur/autohw/dt/ref_experiment_handler.py:51: FutureWarning: The default dtype for empty Series will be 'object' instead of 'float64' in a future version. Specify a dtype explicitly to silence this warning.\n",
            "  self._storage.append(pd.Series(name=name))\n",
            "/home/avalur/autohw/dt/ref_experiment_handler.py:51: FutureWarning: The frame.append method is deprecated and will be removed from pandas in a future version. Use pandas.concat instead.\n",
            "  self._storage.append(pd.Series(name=name))\n"
          ]
        },
        {
          "data": {
            "text/html": [
              "<div>\n",
              "<style scoped>\n",
              "    .dataframe tbody tr th:only-of-type {\n",
              "        vertical-align: middle;\n",
              "    }\n",
              "\n",
              "    .dataframe tbody tr th {\n",
              "        vertical-align: top;\n",
              "    }\n",
              "\n",
              "    .dataframe thead th {\n",
              "        text-align: right;\n",
              "    }\n",
              "</style>\n",
              "<table border=\"1\" class=\"dataframe\">\n",
              "  <thead>\n",
              "    <tr style=\"text-align: right;\">\n",
              "      <th></th>\n",
              "      <th>BalancedAccuracy_mean</th>\n",
              "      <th>BalancedAccuracy_std</th>\n",
              "      <th>NegLogLoss_mean</th>\n",
              "      <th>NegLogLoss_std</th>\n",
              "      <th>BalancedAccuracy_test</th>\n",
              "      <th>NegLogLoss_test</th>\n",
              "    </tr>\n",
              "    <tr>\n",
              "      <th>id</th>\n",
              "      <th></th>\n",
              "      <th></th>\n",
              "      <th></th>\n",
              "      <th></th>\n",
              "      <th></th>\n",
              "      <th></th>\n",
              "    </tr>\n",
              "  </thead>\n",
              "  <tbody>\n",
              "    <tr>\n",
              "      <th>logreg</th>\n",
              "      <td>0.524767</td>\n",
              "      <td>0.005606</td>\n",
              "      <td>-1.349075</td>\n",
              "      <td>0.008689</td>\n",
              "      <td>0.498822</td>\n",
              "      <td>-1.360720</td>\n",
              "    </tr>\n",
              "    <tr>\n",
              "      <th>tree</th>\n",
              "      <td>0.492979</td>\n",
              "      <td>0.002465</td>\n",
              "      <td>-4.408344</td>\n",
              "      <td>0.158612</td>\n",
              "      <td>0.502023</td>\n",
              "      <td>-3.582191</td>\n",
              "    </tr>\n",
              "    <tr>\n",
              "      <th>forest</th>\n",
              "      <td>0.557242</td>\n",
              "      <td>0.005756</td>\n",
              "      <td>-1.423644</td>\n",
              "      <td>0.004199</td>\n",
              "      <td>0.568000</td>\n",
              "      <td>-1.458474</td>\n",
              "    </tr>\n",
              "  </tbody>\n",
              "</table>\n",
              "</div>"
            ],
            "text/plain": [
              "        BalancedAccuracy_mean  BalancedAccuracy_std  NegLogLoss_mean  \\\n",
              "id                                                                     \n",
              "logreg               0.524767              0.005606        -1.349075   \n",
              "tree                 0.492979              0.002465        -4.408344   \n",
              "forest               0.557242              0.005756        -1.423644   \n",
              "\n",
              "        NegLogLoss_std  BalancedAccuracy_test  NegLogLoss_test  \n",
              "id                                                              \n",
              "logreg        0.008689               0.498822        -1.360720  \n",
              "tree          0.158612               0.502023        -3.582191  \n",
              "forest        0.004199               0.568000        -1.458474  "
            ]
          },
          "execution_count": 28,
          "metadata": {},
          "output_type": "execute_result"
        }
      ],
      "source": [
        "scorer.run(tree_pipeline, name='tree')\n",
        "scorer.run(forest_pipeline, name='forest')\n",
        "scorer.logger.leaderboard"
      ]
    },
    {
      "cell_type": "markdown",
      "id": "34a07e83",
      "metadata": {
        "id": "34a07e83"
      },
      "source": [
        "Можно пронаблюдать, что ни дерево, ни лес не побеждают линейную регрессию. Зато можно их скомбинировать, усредняя подобно лесу или при помощи стекинга — это еще один хороший метод ансамблирования. Поскольку мы написали экспериментальны пайплайн так, чтобы это было просто устроить, воспользуемся этим."
      ]
    },
    {
      "cell_type": "code",
      "execution_count": null,
      "id": "172bb820",
      "metadata": {
        "id": "172bb820"
      },
      "outputs": [],
      "source": [
        "class AverageTestClassifier:\n",
        "    def __init__(self, *names, experiment_handler):\n",
        "        _, stacking_predicitons_test = experiment_handler.get_stacking_predictions(names)\n",
        "        self.test_predictions = sum(\n",
        "            stacking_predicitons_test.loc[:, stacking_predicitons_test.columns.str.startswith(name)].values for name in names\n",
        "        ) / len(names)\n",
        "        \n",
        "    def fit(self, X, y):\n",
        "        return self\n",
        "    \n",
        "    def predict(self, X):\n",
        "        return np.argmax(self.test_predictions, axis=1)\n",
        "    \n",
        "    def predict_proba(self, X):\n",
        "        return self.test_predictions"
      ]
    },
    {
      "cell_type": "code",
      "execution_count": null,
      "id": "9850321d",
      "metadata": {
        "id": "9850321d",
        "outputId": "bcea82bc-f53c-42bb-91e9-bbbcd84c7550"
      },
      "outputs": [
        {
          "name": "stderr",
          "output_type": "stream",
          "text": [
            "/home/avalur/autohw/dt/ref_experiment_handler.py:51: FutureWarning: The default dtype for empty Series will be 'object' instead of 'float64' in a future version. Specify a dtype explicitly to silence this warning.\n",
            "  self._storage.append(pd.Series(name=name))\n",
            "/home/avalur/autohw/dt/ref_experiment_handler.py:51: FutureWarning: The frame.append method is deprecated and will be removed from pandas in a future version. Use pandas.concat instead.\n",
            "  self._storage.append(pd.Series(name=name))\n"
          ]
        }
      ],
      "source": [
        "estimator = AverageTestClassifier('logreg', 'forest', experiment_handler=scorer)\n",
        "with scorer.logger.run(name='forest+logreg_averaging') as run:\n",
        "    scorer.score_test(estimator, metrics=scorer.get_metrics(estimator), run=run)"
      ]
    },
    {
      "cell_type": "code",
      "execution_count": null,
      "id": "b8cb6ff4",
      "metadata": {
        "id": "b8cb6ff4",
        "outputId": "6296a5f0-b4cf-4e23-bfd3-30dcee3432bb"
      },
      "outputs": [
        {
          "data": {
            "text/html": [
              "<div>\n",
              "<style scoped>\n",
              "    .dataframe tbody tr th:only-of-type {\n",
              "        vertical-align: middle;\n",
              "    }\n",
              "\n",
              "    .dataframe tbody tr th {\n",
              "        vertical-align: top;\n",
              "    }\n",
              "\n",
              "    .dataframe thead th {\n",
              "        text-align: right;\n",
              "    }\n",
              "</style>\n",
              "<table border=\"1\" class=\"dataframe\">\n",
              "  <thead>\n",
              "    <tr style=\"text-align: right;\">\n",
              "      <th></th>\n",
              "      <th>BalancedAccuracy_mean</th>\n",
              "      <th>BalancedAccuracy_std</th>\n",
              "      <th>NegLogLoss_mean</th>\n",
              "      <th>NegLogLoss_std</th>\n",
              "      <th>BalancedAccuracy_test</th>\n",
              "      <th>NegLogLoss_test</th>\n",
              "    </tr>\n",
              "    <tr>\n",
              "      <th>id</th>\n",
              "      <th></th>\n",
              "      <th></th>\n",
              "      <th></th>\n",
              "      <th></th>\n",
              "      <th></th>\n",
              "      <th></th>\n",
              "    </tr>\n",
              "  </thead>\n",
              "  <tbody>\n",
              "    <tr>\n",
              "      <th>logreg</th>\n",
              "      <td>0.524767</td>\n",
              "      <td>0.005606</td>\n",
              "      <td>-1.349075</td>\n",
              "      <td>0.008689</td>\n",
              "      <td>0.498822</td>\n",
              "      <td>-1.360720</td>\n",
              "    </tr>\n",
              "    <tr>\n",
              "      <th>tree</th>\n",
              "      <td>0.492979</td>\n",
              "      <td>0.002465</td>\n",
              "      <td>-4.408344</td>\n",
              "      <td>0.158612</td>\n",
              "      <td>0.502023</td>\n",
              "      <td>-3.582191</td>\n",
              "    </tr>\n",
              "    <tr>\n",
              "      <th>forest</th>\n",
              "      <td>0.557242</td>\n",
              "      <td>0.005756</td>\n",
              "      <td>-1.423644</td>\n",
              "      <td>0.004199</td>\n",
              "      <td>0.568000</td>\n",
              "      <td>-1.458474</td>\n",
              "    </tr>\n",
              "    <tr>\n",
              "      <th>forest+logreg_averaging</th>\n",
              "      <td>NaN</td>\n",
              "      <td>NaN</td>\n",
              "      <td>NaN</td>\n",
              "      <td>NaN</td>\n",
              "      <td>0.539617</td>\n",
              "      <td>-1.318392</td>\n",
              "    </tr>\n",
              "  </tbody>\n",
              "</table>\n",
              "</div>"
            ],
            "text/plain": [
              "                         BalancedAccuracy_mean  BalancedAccuracy_std  \\\n",
              "id                                                                     \n",
              "logreg                                0.524767              0.005606   \n",
              "tree                                  0.492979              0.002465   \n",
              "forest                                0.557242              0.005756   \n",
              "forest+logreg_averaging                    NaN                   NaN   \n",
              "\n",
              "                         NegLogLoss_mean  NegLogLoss_std  \\\n",
              "id                                                         \n",
              "logreg                         -1.349075        0.008689   \n",
              "tree                           -4.408344        0.158612   \n",
              "forest                         -1.423644        0.004199   \n",
              "forest+logreg_averaging              NaN             NaN   \n",
              "\n",
              "                         BalancedAccuracy_test  NegLogLoss_test  \n",
              "id                                                               \n",
              "logreg                                0.498822        -1.360720  \n",
              "tree                                  0.502023        -3.582191  \n",
              "forest                                0.568000        -1.458474  \n",
              "forest+logreg_averaging               0.539617        -1.318392  "
            ]
          },
          "execution_count": 31,
          "metadata": {},
          "output_type": "execute_result"
        }
      ],
      "source": [
        "scorer.logger.leaderboard"
      ]
    },
    {
      "cell_type": "markdown",
      "id": "8bdeec14",
      "metadata": {
        "id": "8bdeec14"
      },
      "source": [
        "Как видим усреднять плохой предиктор с хорошим может нанести вред качеству модели. Но стекинг с линейной моделью в качестве финального эстиматора исправляет эту ситуацию, так как разным предикторам даются разные веса."
      ]
    },
    {
      "cell_type": "code",
      "execution_count": null,
      "id": "54d297ba",
      "metadata": {
        "id": "54d297ba"
      },
      "outputs": [],
      "source": [
        "class StackingCVClassifier:\n",
        "    def __init__(self, *names, base_estimator, experiment_handler):\n",
        "        self.stacking_predictions_train, self.stacking_predictions_test = experiment_handler.get_stacking_predictions(names)\n",
        "        self.base_estimator = base_estimator\n",
        "        \n",
        "    def fit(self, X, y):\n",
        "        X_train_with_stacking_predictions = pd.concat([X, self.stacking_predictions_train], axis=1)\n",
        "        return self.base_estimator.fit(X_train_with_stacking_predictions, y)\n",
        "    \n",
        "    def predict(self, X):\n",
        "        X_test_with_stacking_predictions = pd.concat([X, self.stacking_predictions_test], axis=1)\n",
        "        return self.base_estimator.predict(X_test_with_stacking_predictions)\n",
        "    \n",
        "    def predict_proba(self, X):\n",
        "        X_test_with_stacking_predictions = pd.concat([X, self.stacking_predictions_test], axis=1)\n",
        "        return self.base_estimator.predict_proba(X_test_with_stacking_predictions)"
      ]
    },
    {
      "cell_type": "code",
      "execution_count": null,
      "id": "56b1fd31",
      "metadata": {
        "id": "56b1fd31",
        "outputId": "bdcb1388-11ba-40d8-cfb9-5c915930149e"
      },
      "outputs": [
        {
          "name": "stderr",
          "output_type": "stream",
          "text": [
            "/home/avalur/autohw/dt/ref_experiment_handler.py:51: FutureWarning: The default dtype for empty Series will be 'object' instead of 'float64' in a future version. Specify a dtype explicitly to silence this warning.\n",
            "  self._storage.append(pd.Series(name=name))\n",
            "/home/avalur/autohw/dt/ref_experiment_handler.py:51: FutureWarning: The frame.append method is deprecated and will be removed from pandas in a future version. Use pandas.concat instead.\n",
            "  self._storage.append(pd.Series(name=name))\n"
          ]
        }
      ],
      "source": [
        "estimator = StackingCVClassifier('tree', 'forest', base_estimator=log_reg_pipeline, experiment_handler=scorer)\n",
        "with scorer.logger.run(name='forest+tree_stacking_with_logreg') as run:\n",
        "    estimator.fit(X_train, y_train)\n",
        "    scorer.score_test(estimator, metrics=scorer.get_metrics(estimator), run=run)"
      ]
    },
    {
      "cell_type": "code",
      "execution_count": null,
      "id": "4aba346d",
      "metadata": {
        "id": "4aba346d",
        "outputId": "703e846a-c94d-45d6-a676-3b68800b378d"
      },
      "outputs": [
        {
          "data": {
            "text/html": [
              "<div>\n",
              "<style scoped>\n",
              "    .dataframe tbody tr th:only-of-type {\n",
              "        vertical-align: middle;\n",
              "    }\n",
              "\n",
              "    .dataframe tbody tr th {\n",
              "        vertical-align: top;\n",
              "    }\n",
              "\n",
              "    .dataframe thead th {\n",
              "        text-align: right;\n",
              "    }\n",
              "</style>\n",
              "<table border=\"1\" class=\"dataframe\">\n",
              "  <thead>\n",
              "    <tr style=\"text-align: right;\">\n",
              "      <th></th>\n",
              "      <th>BalancedAccuracy_mean</th>\n",
              "      <th>BalancedAccuracy_std</th>\n",
              "      <th>NegLogLoss_mean</th>\n",
              "      <th>NegLogLoss_std</th>\n",
              "      <th>BalancedAccuracy_test</th>\n",
              "      <th>NegLogLoss_test</th>\n",
              "    </tr>\n",
              "    <tr>\n",
              "      <th>id</th>\n",
              "      <th></th>\n",
              "      <th></th>\n",
              "      <th></th>\n",
              "      <th></th>\n",
              "      <th></th>\n",
              "      <th></th>\n",
              "    </tr>\n",
              "  </thead>\n",
              "  <tbody>\n",
              "    <tr>\n",
              "      <th>logreg</th>\n",
              "      <td>0.524767</td>\n",
              "      <td>0.005606</td>\n",
              "      <td>-1.349075</td>\n",
              "      <td>0.008689</td>\n",
              "      <td>0.498822</td>\n",
              "      <td>-1.360720</td>\n",
              "    </tr>\n",
              "    <tr>\n",
              "      <th>tree</th>\n",
              "      <td>0.492979</td>\n",
              "      <td>0.002465</td>\n",
              "      <td>-4.408344</td>\n",
              "      <td>0.158612</td>\n",
              "      <td>0.502023</td>\n",
              "      <td>-3.582191</td>\n",
              "    </tr>\n",
              "    <tr>\n",
              "      <th>forest</th>\n",
              "      <td>0.557242</td>\n",
              "      <td>0.005756</td>\n",
              "      <td>-1.423644</td>\n",
              "      <td>0.004199</td>\n",
              "      <td>0.568000</td>\n",
              "      <td>-1.458474</td>\n",
              "    </tr>\n",
              "    <tr>\n",
              "      <th>forest+logreg_averaging</th>\n",
              "      <td>NaN</td>\n",
              "      <td>NaN</td>\n",
              "      <td>NaN</td>\n",
              "      <td>NaN</td>\n",
              "      <td>0.539617</td>\n",
              "      <td>-1.318392</td>\n",
              "    </tr>\n",
              "    <tr>\n",
              "      <th>forest+tree_stacking_with_logreg</th>\n",
              "      <td>NaN</td>\n",
              "      <td>NaN</td>\n",
              "      <td>NaN</td>\n",
              "      <td>NaN</td>\n",
              "      <td>0.605892</td>\n",
              "      <td>-1.171310</td>\n",
              "    </tr>\n",
              "  </tbody>\n",
              "</table>\n",
              "</div>"
            ],
            "text/plain": [
              "                                  BalancedAccuracy_mean  BalancedAccuracy_std  \\\n",
              "id                                                                              \n",
              "logreg                                         0.524767              0.005606   \n",
              "tree                                           0.492979              0.002465   \n",
              "forest                                         0.557242              0.005756   \n",
              "forest+logreg_averaging                             NaN                   NaN   \n",
              "forest+tree_stacking_with_logreg                    NaN                   NaN   \n",
              "\n",
              "                                  NegLogLoss_mean  NegLogLoss_std  \\\n",
              "id                                                                  \n",
              "logreg                                  -1.349075        0.008689   \n",
              "tree                                    -4.408344        0.158612   \n",
              "forest                                  -1.423644        0.004199   \n",
              "forest+logreg_averaging                       NaN             NaN   \n",
              "forest+tree_stacking_with_logreg              NaN             NaN   \n",
              "\n",
              "                                  BalancedAccuracy_test  NegLogLoss_test  \n",
              "id                                                                        \n",
              "logreg                                         0.498822        -1.360720  \n",
              "tree                                           0.502023        -3.582191  \n",
              "forest                                         0.568000        -1.458474  \n",
              "forest+logreg_averaging                        0.539617        -1.318392  \n",
              "forest+tree_stacking_with_logreg               0.605892        -1.171310  "
            ]
          },
          "execution_count": 34,
          "metadata": {},
          "output_type": "execute_result"
        }
      ],
      "source": [
        "scorer.logger.leaderboard"
      ]
    },
    {
      "cell_type": "markdown",
      "id": "8f4a7a8c",
      "metadata": {
        "id": "8f4a7a8c"
      },
      "source": [
        "**Задание, получите при помощи фичаинжиниринга как можно более хорошее качество на тесте (и кроссвалидации) оглядываясь на получающийся лидерборд разными способами, Затем постекайте и получите еще прирост качества: поздравляем, вы готовы врываться в соревнования!**"
      ]
    }
  ],
  "metadata": {
    "kernelspec": {
      "display_name": "Python 3 (ipykernel)",
      "language": "python",
      "name": "python3"
    },
    "language_info": {
      "codemirror_mode": {
        "name": "ipython",
        "version": 3
      },
      "file_extension": ".py",
      "mimetype": "text/x-python",
      "name": "python",
      "nbconvert_exporter": "python",
      "pygments_lexer": "ipython3",
      "version": "3.8.10"
    },
    "colab": {
      "provenance": []
    }
  },
  "nbformat": 4,
  "nbformat_minor": 5
}