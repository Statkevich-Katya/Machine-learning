{
  "cells": [
    {
      "cell_type": "markdown",
      "id": "recorded-outside",
      "metadata": {
        "id": "recorded-outside"
      },
      "source": [
        "## Лабораторная работа 5. Часть 2."
      ]
    },
    {
      "cell_type": "code",
      "execution_count": 2,
      "id": "novel-miracle",
      "metadata": {
        "id": "novel-miracle"
      },
      "outputs": [],
      "source": [
        "import numpy as np\n",
        "import pandas as pd\n",
        "import scipy.stats as sps\n",
        "\n",
        "import matplotlib.pyplot as plt\n",
        "import seaborn as sns\n",
        "\n",
        "from sklearn.datasets import load_breast_cancer\n",
        "from sklearn.preprocessing import StandardScaler\n",
        "from sklearn.model_selection import train_test_split\n",
        "from scipy.special import expit\n",
        "\n",
        "import warnings\n",
        "warnings.filterwarnings('ignore')\n",
        "\n",
        "%matplotlib inline\n",
        "sns.set_style(\"dark\")\n",
        "sns.set(font_scale=1.6)"
      ]
    },
    {
      "cell_type": "markdown",
      "id": "billion-gnome",
      "metadata": {
        "id": "billion-gnome"
      },
      "source": [
        "## Задача 1\n",
        "\n",
        "Реализуйте логистическую регрессию с $\\ell_2$ регуляризацией для поиска оценки параметров с помощью стохастического mini-batch градиентного спуска (SGD)."
      ]
    },
    {
      "cell_type": "code",
      "execution_count": 3,
      "id": "interested-backup",
      "metadata": {
        "id": "interested-backup"
      },
      "outputs": [],
      "source": [
        "class LogisticRegression():\n",
        "    '''\n",
        "    Модель логистической регрессии. Имеет следующие гиперпараметры:\n",
        "\n",
        "    :param alpha: параметр регуляризации. \n",
        "                  Если равно 0, то регуляризация не происходит.\n",
        "    :param lr: константа, на которую домножаем градиент при обучении\n",
        "    :param max_iter: ограничение на кол-во итераций\n",
        "    :param fit_intercept: указывает, следует ли добавить константу в признаки\n",
        "    '''\n",
        "\n",
        "    def __init__(self, alpha=0, lr=0.5, max_iter=1e5,\n",
        "                 fit_intercept=True):\n",
        "        '''Создает модель и инициализирует параметры.'''\n",
        "\n",
        "        self.alpha = alpha\n",
        "        self.lr = lr\n",
        "        self.max_iter = max_iter\n",
        "        self.fit_intercept = fit_intercept\n",
        "        self.coefs = None\n",
        "\n",
        "    @staticmethod\n",
        "    def _sigmoid(x):\n",
        "        # используйте scipy.special.expit\n",
        "        return expit(x)\n",
        "\n",
        "    def _add_intercept(self, X):\n",
        "        '''\n",
        "        Добавляем свободный коэффициент к нашей модели. \n",
        "        Это происходит путем добавления вектора из 1 к исходной матрице.\n",
        "\n",
        "        :param X: исходная матрица признаков\n",
        "        :return: матрица X с добавленным свободным коэффициентов\n",
        "        '''\n",
        "\n",
        "        X_copy = np.full((X.shape[0], X.shape[1] + 1), fill_value=1)\n",
        "        X_copy[:, :-1] = X\n",
        "\n",
        "        return X_copy\n",
        "\n",
        "    def calc_grad(self, X, y):\n",
        "        return 2 * self.alpha * self.coefs - X.T @ (y - self._sigmoid(X @ self.coefs))\n",
        "\n",
        "    def fit(self, X, Y):\n",
        "        '''\n",
        "        Обучает модель логистической регресии с помощью SGD,\n",
        "        пока не выполнится self.max_iter итераций.\n",
        "\n",
        "        :param X: матрица признаков\n",
        "        :param Y: истинные метки\n",
        "        '''\n",
        "\n",
        "        assert X.shape[0] == Y.shape[0]\n",
        "\n",
        "        if self.fit_intercept:  # добавляем свободный коэфициент\n",
        "            X_copy = self._add_intercept(X)\n",
        "        else:\n",
        "            X_copy = X.copy()\n",
        "\n",
        "        self.coefs = np.random.random(size=(X_copy.shape[1], 1))\n",
        "\n",
        "        for i in range(self.max_iter):\n",
        "           n = X_copy.shape[0]\n",
        "           bt = np.random.choice(range(n), size=(n // 5))\n",
        "           grad = self.calc_grad(X_copy[bt], Y[bt])\n",
        "           self.coefs = self.coefs - self.lr * n / (n // 5) * grad\n",
        "\n",
        "        if self.fit_intercept:\n",
        "          self.intercept_ = self.coefs[-1]\n",
        "          self.coef_ = self.coefs[:-1]\n",
        "        else:\n",
        "          self.intercept_ = np.array([[0]])\n",
        "          self.coef_ = self.coefs\n",
        "        return self\n",
        "\n",
        "    def predict(self, X):\n",
        "        '''\n",
        "        Применяет обученную модель к данным \n",
        "        и возвращает точечное предсказание (оценку класса).\n",
        "\n",
        "        :param X: матрица признаков\n",
        "        :return: предсказание с размерностью (n_test, )\n",
        "        '''\n",
        "        thetas = self.coef_\n",
        "        if self.fit_intercept:\n",
        "            X_copy = self._add_intercept(X)\n",
        "            thetas = np.vstack((self.coef_, self.intercept_))\n",
        "        else:\n",
        "            X_copy = X.copy()\n",
        "\n",
        "        assert X_copy.shape[1] == thetas.shape[0]\n",
        "\n",
        "        probability = self._sigmoid(X_copy @ thetas)\n",
        "        predictions = probability > 0.5\n",
        "        \n",
        "        return predictions\n",
        "\n",
        "    def predict_proba(self, X):\n",
        "        '''\n",
        "        Применяет обученную модель к данным\n",
        "        и возвращает предсказание вероятности классов 0 и 1.\n",
        "\n",
        "        :param X: матрица признаков\n",
        "        :return: вероятности предсказания с размерностью (n_test, 2)\n",
        "        '''\n",
        "        thetas = self.coef_\n",
        "        if self.fit_intercept:\n",
        "            X_copy = self._add_intercept(X)\n",
        "            thetas = np.vstack((self.coef_, self.intercept_))\n",
        "        else:\n",
        "            X_copy = X.copy()\n",
        "\n",
        "        assert X_copy.shape[1] == thetas.shape[0]\n",
        "\n",
        "        probability = self._sigmoid(X_copy @ thetas)\n",
        "        prob_predictions = np.hstack(( 1 - probability, probability))\n",
        "        return prob_predictions"
      ]
    },
    {
      "cell_type": "markdown",
      "id": "rocky-adrian",
      "metadata": {
        "id": "rocky-adrian"
      },
      "source": [
        "Рассмотрим игрушечный датасет на $30$ признаков `load_breast_cancer` из библиотеки `sklearn`. Это относительно простой для бинарной классификации датасет по диагностике рака молочной железы."
      ]
    },
    {
      "cell_type": "markdown",
      "id": "organized-request",
      "metadata": {
        "id": "organized-request"
      },
      "source": [
        "Ради интереса можно прочитать описание признаков."
      ]
    },
    {
      "cell_type": "code",
      "execution_count": 4,
      "id": "anonymous-raising",
      "metadata": {
        "colab": {
          "base_uri": "https://localhost:8080/"
        },
        "id": "anonymous-raising",
        "outputId": "73682709-d4b3-4702-f320-5d0cd5a03266"
      },
      "outputs": [
        {
          "output_type": "execute_result",
          "data": {
            "text/plain": [
              "['    :Attribute Information:',\n",
              " '        - radius (mean of distances from center to points on the perimeter)',\n",
              " '        - texture (standard deviation of gray-scale values)',\n",
              " '        - perimeter',\n",
              " '        - area',\n",
              " '        - smoothness (local variation in radius lengths)',\n",
              " '        - compactness (perimeter^2 / area - 1.0)',\n",
              " '        - concavity (severity of concave portions of the contour)',\n",
              " '        - concave points (number of concave portions of the contour)',\n",
              " '        - symmetry',\n",
              " '        - fractal dimension (\"coastline approximation\" - 1)',\n",
              " '',\n",
              " '        The mean, standard error, and \"worst\" or largest (mean of the three',\n",
              " '        worst/largest values) of these features were computed for each image,',\n",
              " '        resulting in 30 features.  For instance, field 0 is Mean Radius, field',\n",
              " '        10 is Radius SE, field 20 is Worst Radius.',\n",
              " '',\n",
              " '        - class:',\n",
              " '                - WDBC-Malignant',\n",
              " '                - WDBC-Benign']"
            ]
          },
          "metadata": {},
          "execution_count": 4
        }
      ],
      "source": [
        "dataset = load_breast_cancer()\n",
        "dataset['DESCR'].split('\\n')[11:31]"
      ]
    },
    {
      "cell_type": "markdown",
      "id": "dental-intersection",
      "metadata": {
        "id": "dental-intersection"
      },
      "source": [
        "Разделим нашу выборку на обучающую и тестовую:"
      ]
    },
    {
      "cell_type": "code",
      "execution_count": 5,
      "id": "otherwise-savage",
      "metadata": {
        "colab": {
          "base_uri": "https://localhost:8080/"
        },
        "id": "otherwise-savage",
        "outputId": "aba7bffc-3d60-4912-f920-e3bfda82b1be"
      },
      "outputs": [
        {
          "output_type": "execute_result",
          "data": {
            "text/plain": [
              "((455, 30), (114, 30), (455,), (114,))"
            ]
          },
          "metadata": {},
          "execution_count": 5
        }
      ],
      "source": [
        "X, Y = dataset['data'], dataset['target']\n",
        "\n",
        "X_train, X_test, Y_train, Y_test = train_test_split(\n",
        "    X, Y, test_size=0.2, random_state=42\n",
        ")\n",
        "X_train.shape, X_test.shape, Y_train.shape, Y_test.shape"
      ]
    },
    {
      "cell_type": "markdown",
      "id": "expired-process",
      "metadata": {
        "id": "expired-process"
      },
      "source": [
        "При использовании регуляризации данные необходимо нормализовать. Воспользуемся для этого классом `StandardScaler` из библиотеки `sklearn`. "
      ]
    },
    {
      "cell_type": "code",
      "execution_count": 6,
      "id": "backed-substance",
      "metadata": {
        "id": "backed-substance"
      },
      "outputs": [],
      "source": [
        "scaler = StandardScaler()"
      ]
    },
    {
      "cell_type": "code",
      "source": [
        "X_train = scaler.fit_transform(X_train)\n",
        "X_test = scaler.transform(X_test)\n",
        "Y_train = Y_train.reshape(Y_train.shape[0], 1)\n",
        "Y_test = Y_test.reshape(Y_test.shape[0], 1)"
      ],
      "metadata": {
        "id": "P9LDXy-HrivV"
      },
      "id": "P9LDXy-HrivV",
      "execution_count": 7,
      "outputs": []
    },
    {
      "cell_type": "markdown",
      "id": "healthy-break",
      "metadata": {
        "id": "healthy-break"
      },
      "source": [
        "Теперь обучите модель логистической регрессии."
      ]
    },
    {
      "cell_type": "code",
      "execution_count": 8,
      "id": "armed-trinidad",
      "metadata": {
        "colab": {
          "base_uri": "https://localhost:8080/"
        },
        "id": "armed-trinidad",
        "outputId": "8704df79-c883-4896-b02a-a809c1c8f883"
      },
      "outputs": [
        {
          "output_type": "execute_result",
          "data": {
            "text/plain": [
              "<__main__.LogisticRegression at 0x7fb9952779d0>"
            ]
          },
          "metadata": {},
          "execution_count": 8
        }
      ],
      "source": [
        "model = LogisticRegression(max_iter=1000, lr=1e-3, alpha=1)\n",
        "model.fit(X_train, Y_train)"
      ]
    },
    {
      "cell_type": "markdown",
      "source": [
        "Посчитаем значение метрики accuracy_score"
      ],
      "metadata": {
        "id": "pkx5KF3SsRd3"
      },
      "id": "pkx5KF3SsRd3"
    },
    {
      "cell_type": "markdown",
      "id": "modified-guidance",
      "metadata": {
        "id": "modified-guidance"
      },
      "source": [
        "На занятии обсуждали, что в нашей постановке задачи при сравнении выиграет модель с меньшим FN, ведь каждая не обнаруженная опухоль может стоить человеческой жизни. Чем меньше ложно отрицательных срабатываний, тем выше Recall модели, а значит разумно взять Recall в качестве целевой метрики. \n",
        "\n",
        "Построить модель с Recall = 1 довольно просто (Как?), но в ней не будет большого смысла, т.к., например, для нашей задачи отправление на доп. обследование может стоить дополнительных средств и времени специалистов, поэтому хотелось, чтобы наша модель имела неплохую точность. Какую метрику можно использовать, чтобы учесть и точность, и полноту?\n",
        "\n",
        "Чтоб построить модель с recall = 1, достаточно просто всегда возвращать positive - тогда так как recall считает отношение кол-ва верно классиф positive к общему кол-ву positive, то recall будет равен 1.\n",
        "\n",
        "Чтоб учесть и точность, и полноту лучше использовать метрику precision - Precision представляет собой отношение числа семплов, верно классифицированных как Positive, к общему числу выборок с меткой Positive, а это значит, что:\n",
        " - Когда модель делает много неверных Positive классификаций, это увеличивает знаменатель и снижает precision\n",
        " - Модель делает много корректных предсказаний класса Positive - числитель растет и метрика увеличивается\n",
        "\n",
        "Выберите и посчитайте целевые метрики для нашей задачи.\n",
        "\n",
        "Возьмем метрику precision и accuracy для сравнения и общей картины"
      ]
    },
    {
      "cell_type": "code",
      "source": [
        "from sklearn.metrics import accuracy_score\n",
        "\n",
        "pred = model.predict(X_test)\n",
        "print(f'Значение метрики accuracy: {accuracy_score(Y_test, pred):.5f}')"
      ],
      "metadata": {
        "colab": {
          "base_uri": "https://localhost:8080/"
        },
        "id": "goBn4zKBsCUH",
        "outputId": "21be9706-b8da-4a84-871a-abf2c98e5523"
      },
      "id": "goBn4zKBsCUH",
      "execution_count": 11,
      "outputs": [
        {
          "output_type": "stream",
          "name": "stdout",
          "text": [
            "Значение метрики accuracy: 0.92105\n"
          ]
        }
      ]
    },
    {
      "cell_type": "markdown",
      "source": [
        "Насколько я понла из описания датасета, 0 - злокачественная опухоль, 1 - доброкачественная, значит за positive надо понимать 0"
      ],
      "metadata": {
        "id": "KUL8vdsvvxOv"
      },
      "id": "KUL8vdsvvxOv"
    },
    {
      "cell_type": "code",
      "source": [
        "from sklearn.metrics import precision_score\n",
        "\n",
        "print(f'Значение метрики precision: {precision_score(Y_test, pred, pos_label=0):.5f}')"
      ],
      "metadata": {
        "colab": {
          "base_uri": "https://localhost:8080/"
        },
        "id": "BzLMjJmYu1RD",
        "outputId": "4535c873-e48e-4cca-8ec0-2c920a7f5c71"
      },
      "id": "BzLMjJmYu1RD",
      "execution_count": 17,
      "outputs": [
        {
          "output_type": "stream",
          "name": "stdout",
          "text": [
            "Значение метрики precision: 1.00000\n"
          ]
        }
      ]
    },
    {
      "cell_type": "markdown",
      "id": "effective-palestinian",
      "metadata": {
        "id": "effective-palestinian"
      },
      "source": [
        "Рассмотрите как влияет размер шага (`learning rate`) на качество модели. Обучите каждую модель одинаковое число итераций (например, 10000), а затем посчитайте качество. Сделайте выводы."
      ]
    },
    {
      "cell_type": "code",
      "execution_count": 18,
      "id": "automotive-partner",
      "metadata": {
        "id": "automotive-partner"
      },
      "outputs": [],
      "source": [
        "lrs = [1e-5, 1e-4, 1e-3, 1e-2, 0.1, 0.2, 0.3, 0.5, 0.7, 1, 2, 5, 10]"
      ]
    },
    {
      "cell_type": "code",
      "execution_count": 23,
      "id": "cooked-spring",
      "metadata": {
        "id": "cooked-spring"
      },
      "outputs": [],
      "source": [
        "preds_acc = []\n",
        "preds_prec = []\n",
        "for lr_ in lrs:\n",
        "  model = LogisticRegression(max_iter=1000, lr=lr_, alpha=0.5)\n",
        "  model.fit(X_train, Y_train)\n",
        "  preds_acc.append(accuracy_score(Y_test, model.predict(X_test)))\n",
        "  preds_prec.append(precision_score(Y_test, model.predict(X_test), pos_label=0))"
      ]
    },
    {
      "cell_type": "markdown",
      "source": [
        "Построим графики зависимости метрик от lr"
      ],
      "metadata": {
        "id": "1h2bpNPkwneB"
      },
      "id": "1h2bpNPkwneB"
    },
    {
      "cell_type": "code",
      "source": [
        "with sns.axes_style('darkgrid'):\n",
        "  plt.figure(figsize=(14,9))\n",
        "  plt.title('Зависимость метрики от значения lr', fontsize=18)\n",
        "  plt.plot(lrs, preds_acc, c='purple', label='accuracy')\n",
        "  plt.plot(lrs, preds_prec, c='blue', label='precision')\n",
        "  plt.xlabel('lr', fontsize=14)\n",
        "  plt.ylabel('Метрика', fontsize=14)\n",
        "  plt.xscale('log')\n",
        "  plt.legend()"
      ],
      "metadata": {
        "colab": {
          "base_uri": "https://localhost:8080/",
          "height": 588
        },
        "id": "95xHarhqwkeW",
        "outputId": "57bc69d1-c864-417c-dddc-7d32bbb18de5"
      },
      "id": "95xHarhqwkeW",
      "execution_count": 25,
      "outputs": [
        {
          "output_type": "display_data",
          "data": {
            "text/plain": [
              "<Figure size 1008x648 with 1 Axes>"
            ],
            "image/png": "[encoded data removed]"
          },
          "metadata": {}
        }
      ]
    },
    {
      "cell_type": "markdown",
      "source": [
        "Как видно, у нас есть значения lr при которых метрика precision дает потрясающий результат - 1, при этом accuracy меньше 1, то есть есть люди, у которых опухоль доброкачетсвенная, но мы на всякий случай отправляем их на второй осмотр - но таких мало\n",
        "\n",
        "Значение lr, при котором precision=1 а accuracy - наилучшая это 0.001, зафиксируем его и будем исполтзовать дальше"
      ],
      "metadata": {
        "id": "Ycsx0roIx-PQ"
      },
      "id": "Ycsx0roIx-PQ"
    },
    {
      "cell_type": "code",
      "source": [
        "best_lr=1e-3"
      ],
      "metadata": {
        "id": "ydFpOr8Aydok"
      },
      "id": "ydFpOr8Aydok",
      "execution_count": 26,
      "outputs": []
    },
    {
      "cell_type": "markdown",
      "id": "generic-madness",
      "metadata": {
        "id": "generic-madness"
      },
      "source": [
        "Рассмотрите несколько моделей, в которых установите не менее 5-ти различных коэффициентов регуляризации, а также модель без регуляризатора. Сравните, влияет ли наличие регуляризации на качество, сделайте выводы. Под качеством подразумевается значение какой-либо выбранной вами метрики качества классификации."
      ]
    },
    {
      "cell_type": "code",
      "execution_count": 31,
      "id": "convertible-edmonton",
      "metadata": {
        "id": "convertible-edmonton"
      },
      "outputs": [],
      "source": [
        "alphas = [0, 1e-4, 1e-3, 1e-1, 0.5, 1, 2, 5, 10]"
      ]
    },
    {
      "cell_type": "code",
      "source": [
        "preds_acc = []\n",
        "preds_prec = []\n",
        "for alpha in alphas:\n",
        "  model = LogisticRegression(max_iter=1000, lr=best_lr, alpha=alpha)\n",
        "  model.fit(X_train, Y_train)\n",
        "  preds_acc.append(accuracy_score(Y_test, model.predict(X_test)))\n",
        "  preds_prec.append(precision_score(Y_test, model.predict(X_test), pos_label=0))"
      ],
      "metadata": {
        "id": "RkPbqOKDy0GT"
      },
      "id": "RkPbqOKDy0GT",
      "execution_count": 32,
      "outputs": []
    },
    {
      "cell_type": "code",
      "source": [
        "with sns.axes_style('darkgrid'):\n",
        "  plt.figure(figsize=(14,9))\n",
        "  plt.title('Зависимость метрики от значения alpha', fontsize=18)\n",
        "  plt.plot(alphas, preds_acc, c='purple', label='accuracy')\n",
        "  plt.plot(alphas, preds_prec, c='blue', label='precision')\n",
        "  plt.xlabel('alpha', fontsize=14)\n",
        "  plt.ylabel('Метрика', fontsize=14)\n",
        "  plt.xscale('log')\n",
        "  plt.legend()"
      ],
      "metadata": {
        "colab": {
          "base_uri": "https://localhost:8080/",
          "height": 588
        },
        "id": "R76EGOxozCFB",
        "outputId": "10dfbd08-44ca-48d1-ffb0-20b7383ec892"
      },
      "id": "R76EGOxozCFB",
      "execution_count": 33,
      "outputs": [
        {
          "output_type": "display_data",
          "data": {
            "text/plain": [
              "<Figure size 1008x648 with 1 Axes>"
            ],
            "image/png": "[encoded data removed]"
          },
          "metadata": {}
        }
      ]
    },
    {
      "cell_type": "code",
      "source": [
        "preds_acc"
      ],
      "metadata": {
        "colab": {
          "base_uri": "https://localhost:8080/"
        },
        "id": "hvsQiGMqz47N",
        "outputId": "6d8565cc-e8e7-497b-9cbc-b5975343825e"
      },
      "id": "hvsQiGMqz47N",
      "execution_count": 34,
      "outputs": [
        {
          "output_type": "execute_result",
          "data": {
            "text/plain": [
              "[0.9210526315789473,\n",
              " 0.9122807017543859,\n",
              " 0.9298245614035088,\n",
              " 0.9298245614035088,\n",
              " 0.9210526315789473,\n",
              " 0.9122807017543859,\n",
              " 0.9035087719298246,\n",
              " 0.9035087719298246,\n",
              " 0.9035087719298246]"
            ]
          },
          "metadata": {},
          "execution_count": 34
        }
      ]
    },
    {
      "cell_type": "code",
      "source": [
        "preds_prec"
      ],
      "metadata": {
        "colab": {
          "base_uri": "https://localhost:8080/"
        },
        "id": "Ixy4MuyL0MW-",
        "outputId": "a2a33809-75c3-4730-f499-b58e488ab45a"
      },
      "id": "Ixy4MuyL0MW-",
      "execution_count": 35,
      "outputs": [
        {
          "output_type": "execute_result",
          "data": {
            "text/plain": [
              "[0.9722222222222222,\n",
              " 0.9459459459459459,\n",
              " 0.9487179487179487,\n",
              " 1.0,\n",
              " 1.0,\n",
              " 1.0,\n",
              " 1.0,\n",
              " 1.0,\n",
              " 1.0]"
            ]
          },
          "metadata": {},
          "execution_count": 35
        }
      ]
    },
    {
      "cell_type": "code",
      "source": [
        "best_alpha = 1e-1"
      ],
      "metadata": {
        "id": "QbLbD3QB0Rah"
      },
      "id": "QbLbD3QB0Rah",
      "execution_count": 36,
      "outputs": []
    },
    {
      "cell_type": "markdown",
      "source": [
        "Видим, что наличие регуляризации также влияет на значение метрики, precision удалось добить до 1 только при нарастающих alpha, при этом в какой-то момент alpha начинает влиять на accuracy, что наталкивает на мысль о том, что большие коэф регуляризации точно также как и маленькие плохо подходят в данной задаче\n",
        "\n",
        "При этом, нам удалось по сравнению с прошлым пунктом поднять accuracy, не уронив precision"
      ],
      "metadata": {
        "id": "0ckx7p_Mzfju"
      },
      "id": "0ckx7p_Mzfju"
    },
    {
      "cell_type": "markdown",
      "id": "coordinate-expense",
      "metadata": {
        "id": "coordinate-expense"
      },
      "source": [
        "Выберите объект из тестовой выборки и постройте для него доверительный интервал для предсказания вероятности. Какие условия нужно проверить? "
      ]
    },
    {
      "cell_type": "markdown",
      "source": [
        "Построим для рандомного обьекта выборки дов интервал уровня доверия 0.95"
      ],
      "metadata": {
        "id": "nuiXg8Js2Wh0"
      },
      "id": "nuiXg8Js2Wh0"
    },
    {
      "cell_type": "code",
      "execution_count": null,
      "id": "assisted-rouge",
      "metadata": {
        "id": "assisted-rouge"
      },
      "outputs": [],
      "source": [
        "quant_95 = sps.norm().ppf([0.95])\n"
      ]
    },
    {
      "cell_type": "markdown",
      "id": "destroyed-syntax",
      "metadata": {
        "id": "destroyed-syntax"
      },
      "source": [
        "**Вывод:** <...>"
      ]
    }
  ],
  "metadata": {
    "kernelspec": {
      "display_name": "Python 3 (ipykernel)",
      "language": "python",
      "name": "python3"
    },
    "language_info": {
      "codemirror_mode": {
        "name": "ipython",
        "version": 3
      },
      "file_extension": ".py",
      "mimetype": "text/x-python",
      "name": "python",
      "nbconvert_exporter": "python",
      "pygments_lexer": "ipython3",
      "version": "3.8.10"
    },
    "varInspector": {
      "cols": {
        "lenName": 16,
        "lenType": 16,
        "lenVar": 40
      },
      "kernels_config": {
        "python": {
          "delete_cmd_postfix": "",
          "delete_cmd_prefix": "del ",
          "library": "var_list.py",
          "varRefreshCmd": "print(var_dic_list())"
        },
        "r": {
          "delete_cmd_postfix": ") ",
          "delete_cmd_prefix": "rm(",
          "library": "var_list.r",
          "varRefreshCmd": "cat(var_dic_list()) "
        }
      },
      "types_to_exclude": [
        "module",
        "function",
        "builtin_function_or_method",
        "instance",
        "_Feature"
      ],
      "window_display": false
    },
    "colab": {
      "provenance": []
    }
  },
  "nbformat": 4,
  "nbformat_minor": 5
}